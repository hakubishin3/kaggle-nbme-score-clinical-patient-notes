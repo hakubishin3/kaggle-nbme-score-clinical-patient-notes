{
 "cells": [
  {
   "cell_type": "markdown",
   "metadata": {
    "id": "xXLg6vRyDD7j"
   },
   "source": [
    "# Check device"
   ]
  },
  {
   "cell_type": "code",
   "execution_count": 1,
   "metadata": {
    "colab": {
     "base_uri": "https://localhost:8080/"
    },
    "executionInfo": {
     "elapsed": 8,
     "status": "ok",
     "timestamp": 1646334628899,
     "user": {
      "displayName": "米川和仁",
      "photoUrl": "https://lh3.googleusercontent.com/a/default-user=s64",
      "userId": "04802509165152586358"
     },
     "user_tz": -540
    },
    "id": "FBD1QhJFCQl-",
    "outputId": "f7425031-f9ca-49f4-f8bd-2560be3c7f86"
   },
   "outputs": [
    {
     "name": "stdout",
     "output_type": "stream",
     "text": [
      "Thu Mar  3 19:10:28 2022       \n",
      "+-----------------------------------------------------------------------------+\n",
      "| NVIDIA-SMI 460.32.03    Driver Version: 460.32.03    CUDA Version: 11.2     |\n",
      "|-------------------------------+----------------------+----------------------+\n",
      "| GPU  Name        Persistence-M| Bus-Id        Disp.A | Volatile Uncorr. ECC |\n",
      "| Fan  Temp  Perf  Pwr:Usage/Cap|         Memory-Usage | GPU-Util  Compute M. |\n",
      "|                               |                      |               MIG M. |\n",
      "|===============================+======================+======================|\n",
      "|   0  Tesla V100-SXM2...  Off  | 00000000:00:04.0 Off |                    0 |\n",
      "| N/A   33C    P0    24W / 300W |      0MiB / 16160MiB |      0%      Default |\n",
      "|                               |                      |                  N/A |\n",
      "+-------------------------------+----------------------+----------------------+\n",
      "                                                                               \n",
      "+-----------------------------------------------------------------------------+\n",
      "| Processes:                                                                  |\n",
      "|  GPU   GI   CI        PID   Type   Process name                  GPU Memory |\n",
      "|        ID   ID                                                   Usage      |\n",
      "|=============================================================================|\n",
      "|  No running processes found                                                 |\n",
      "+-----------------------------------------------------------------------------+\n"
     ]
    }
   ],
   "source": [
    "######################################################\n",
    "\n",
    "# Check device\n",
    "!nvidia-smi"
   ]
  },
  {
   "cell_type": "markdown",
   "metadata": {
    "id": "rQoT8i9JDBTE"
   },
   "source": [
    "# Package Install"
   ]
  },
  {
   "cell_type": "code",
   "execution_count": 2,
   "metadata": {
    "colab": {
     "base_uri": "https://localhost:8080/"
    },
    "executionInfo": {
     "elapsed": 18711,
     "status": "ok",
     "timestamp": 1646334647607,
     "user": {
      "displayName": "米川和仁",
      "photoUrl": "https://lh3.googleusercontent.com/a/default-user=s64",
      "userId": "04802509165152586358"
     },
     "user_tz": -540
    },
    "id": "K4MqdKKCCkx0",
    "outputId": "0170ad3c-7ace-4c3a-b8e2-af8b414a94d8"
   },
   "outputs": [
    {
     "name": "stdout",
     "output_type": "stream",
     "text": [
      "\u001b[K     |████████████████████████████████| 311 kB 13.7 MB/s \n",
      "\u001b[K     |████████████████████████████████| 67 kB 6.0 MB/s \n",
      "\u001b[K     |████████████████████████████████| 1.1 MB 61.0 MB/s \n",
      "\u001b[K     |████████████████████████████████| 134 kB 86.2 MB/s \n",
      "\u001b[K     |████████████████████████████████| 212 kB 88.3 MB/s \n",
      "\u001b[K     |████████████████████████████████| 94 kB 3.8 MB/s \n",
      "\u001b[K     |████████████████████████████████| 271 kB 68.0 MB/s \n",
      "\u001b[K     |████████████████████████████████| 144 kB 70.5 MB/s \n",
      "\u001b[K     |████████████████████████████████| 1.2 MB 15.0 MB/s \n",
      "\u001b[K     |████████████████████████████████| 3.5 MB 14.1 MB/s \n",
      "\u001b[K     |████████████████████████████████| 596 kB 76.8 MB/s \n",
      "\u001b[K     |████████████████████████████████| 895 kB 70.9 MB/s \n",
      "\u001b[K     |████████████████████████████████| 6.5 MB 77.9 MB/s \n",
      "\u001b[?25h"
     ]
    }
   ],
   "source": [
    "# ====================================================\n",
    "# Install\n",
    "# ====================================================\n",
    "\n",
    "!pip install -q datasets==1.18.3\n",
    "!pip install -q sentencepiece==0.1.96\n",
    "!pip install -q transformers==4.16.2"
   ]
  },
  {
   "cell_type": "markdown",
   "metadata": {
    "id": "bFFR897MDASq"
   },
   "source": [
    "# Config"
   ]
  },
  {
   "cell_type": "code",
   "execution_count": 3,
   "metadata": {
    "executionInfo": {
     "elapsed": 299,
     "status": "ok",
     "timestamp": 1646334656058,
     "user": {
      "displayName": "米川和仁",
      "photoUrl": "https://lh3.googleusercontent.com/a/default-user=s64",
      "userId": "04802509165152586358"
     },
     "user_tz": -540
    },
    "id": "9Yzuy2OlC60E"
   },
   "outputs": [],
   "source": [
    "# ====================================================\n",
    "# CFG\n",
    "# ====================================================\n",
    "class CFG:\n",
    "    debug=False\n",
    "    apex=True\n",
    "    print_freq=100\n",
    "    num_workers=4\n",
    "    model=\"microsoft/deberta-v3-large\"\n",
    "    scheduler='cosine' # ['linear', 'cosine']\n",
    "    batch_scheduler=True\n",
    "    num_cycles=0.5\n",
    "    num_warmup_steps=0\n",
    "    epochs=30\n",
    "    encoder_lr=2e-5\n",
    "    decoder_lr=2e-5\n",
    "    min_lr=1e-6\n",
    "    eps=1e-6\n",
    "    betas=(0.9, 0.999)\n",
    "    batch_size=2\n",
    "    fc_dropout=0.2\n",
    "    max_len=450\n",
    "    weight_decay=0.01\n",
    "    gradient_accumulation_steps=1\n",
    "    max_grad_norm=1000\n",
    "    # MLM setting\n",
    "    mlm_probability=0.40 # 0.15\n",
    "    max_seq_length=None\n",
    "    seed=42\n",
    "    n_fold=5\n",
    "    trn_fold=[0, 1, 2, 3, 4]\n",
    "    train=True\n",
    "    \n",
    "if CFG.debug:\n",
    "    CFG.epochs = 2\n",
    "    CFG.trn_fold = [0]"
   ]
  },
  {
   "cell_type": "code",
   "execution_count": 4,
   "metadata": {
    "executionInfo": {
     "elapsed": 293,
     "status": "ok",
     "timestamp": 1646334656795,
     "user": {
      "displayName": "米川和仁",
      "photoUrl": "https://lh3.googleusercontent.com/a/default-user=s64",
      "userId": "04802509165152586358"
     },
     "user_tz": -540
    },
    "id": "lyzct7eRCwjh"
   },
   "outputs": [],
   "source": [
    "# ====================================================\n",
    "# Define path\n",
    "# ====================================================\n",
    "import os\n",
    "\n",
    "INPUT_DIR = '/content/drive/MyDrive/kaggle-nbme-score-clinical-patient-notes/input/'\n",
    "OUTPUT_DIR = '/content/drive/MyDrive/kaggle-nbme-score-clinical-patient-notes/pretrained/{}/'.format(CFG.model.replace('/', '-'))\n",
    "os.makedirs(OUTPUT_DIR, exist_ok=True)"
   ]
  },
  {
   "cell_type": "markdown",
   "metadata": {
    "id": "nSxdKeDkEHpo"
   },
   "source": [
    "# Library"
   ]
  },
  {
   "cell_type": "code",
   "execution_count": 5,
   "metadata": {
    "colab": {
     "base_uri": "https://localhost:8080/"
    },
    "executionInfo": {
     "elapsed": 9160,
     "status": "ok",
     "timestamp": 1646334667177,
     "user": {
      "displayName": "米川和仁",
      "photoUrl": "https://lh3.googleusercontent.com/a/default-user=s64",
      "userId": "04802509165152586358"
     },
     "user_tz": -540
    },
    "id": "1slPlvh0D4Eg",
    "outputId": "d8f2eb03-9f0f-42e8-8f6f-ba97c948d90b"
   },
   "outputs": [
    {
     "name": "stdout",
     "output_type": "stream",
     "text": [
      "tokenizers.__version__: 0.11.6\n",
      "transformers.__version__: 4.16.2\n",
      "env: TOKENIZERS_PARALLELISM=true\n"
     ]
    }
   ],
   "source": [
    "# ====================================================\n",
    "# Library\n",
    "# ====================================================\n",
    "import os\n",
    "import gc\n",
    "import re\n",
    "import ast\n",
    "import sys\n",
    "import copy\n",
    "import json\n",
    "import time\n",
    "import math\n",
    "import string\n",
    "import pickle\n",
    "import random\n",
    "import joblib\n",
    "import itertools\n",
    "import warnings\n",
    "warnings.filterwarnings(\"ignore\")\n",
    "\n",
    "import scipy as sp\n",
    "import numpy as np\n",
    "import pandas as pd\n",
    "pd.set_option('display.max_rows', 500)\n",
    "pd.set_option('display.max_columns', 500)\n",
    "pd.set_option('display.width', 1000)\n",
    "from tqdm.auto import tqdm\n",
    "from sklearn.metrics import f1_score\n",
    "from sklearn.model_selection import StratifiedKFold, GroupKFold, KFold\n",
    "\n",
    "import torch\n",
    "import torch.nn as nn\n",
    "from torch.nn import Parameter\n",
    "import torch.nn.functional as F\n",
    "from torch.optim import Adam, SGD, AdamW\n",
    "from torch.utils.data import DataLoader, Dataset\n",
    "import tokenizers\n",
    "import transformers\n",
    "print(f\"tokenizers.__version__: {tokenizers.__version__}\")\n",
    "print(f\"transformers.__version__: {transformers.__version__}\")\n",
    "from datasets import load_dataset\n",
    "from transformers import AutoTokenizer, AutoModel, AutoConfig, AutoModelForMaskedLM\n",
    "from transformers import get_linear_schedule_with_warmup, get_cosine_schedule_with_warmup\n",
    "from transformers.modeling_outputs import MaskedLMOutput\n",
    "from transformers import DataCollatorForLanguageModeling\n",
    "%env TOKENIZERS_PARALLELISM=true\n",
    "\n",
    "device = torch.device('cuda' if torch.cuda.is_available() else 'cpu')"
   ]
  },
  {
   "cell_type": "markdown",
   "metadata": {
    "id": "ja9YYx88Ft73"
   },
   "source": [
    "# Utils"
   ]
  },
  {
   "cell_type": "code",
   "execution_count": 6,
   "metadata": {
    "executionInfo": {
     "elapsed": 17,
     "status": "ok",
     "timestamp": 1646334667178,
     "user": {
      "displayName": "米川和仁",
      "photoUrl": "https://lh3.googleusercontent.com/a/default-user=s64",
      "userId": "04802509165152586358"
     },
     "user_tz": -540
    },
    "id": "J9nzv90GFhSg"
   },
   "outputs": [],
   "source": [
    "# ====================================================\n",
    "# Utils\n",
    "# ===================================================\n",
    "def get_logger(filename=OUTPUT_DIR+'train'):\n",
    "    from logging import getLogger, INFO, StreamHandler, FileHandler, Formatter\n",
    "    logger = getLogger(__name__)\n",
    "    logger.setLevel(INFO)\n",
    "    handler1 = StreamHandler()\n",
    "    handler1.setFormatter(Formatter(\"%(message)s\"))\n",
    "    handler2 = FileHandler(filename=f\"{filename}.log\")\n",
    "    handler2.setFormatter(Formatter(\"%(message)s\"))\n",
    "    logger.addHandler(handler1)\n",
    "    logger.addHandler(handler2)\n",
    "    return logger\n",
    "\n",
    "LOGGER = get_logger()\n",
    "\n",
    "def seed_everything(seed=42):\n",
    "    random.seed(seed)\n",
    "    os.environ['PYTHONHASHSEED'] = str(seed)\n",
    "    np.random.seed(seed)\n",
    "    torch.manual_seed(seed)\n",
    "    torch.cuda.manual_seed(seed)\n",
    "    torch.backends.cudnn.deterministic = True\n",
    "    \n",
    "seed_everything(seed=42)\n",
    "\n",
    "\n",
    "def asMinutes(s):\n",
    "    m = math.floor(s / 60)\n",
    "    s -= m * 60\n",
    "    return '%dm %ds' % (m, s)\n",
    "\n",
    "\n",
    "def timeSince(since, percent):\n",
    "    now = time.time()\n",
    "    s = now - since\n",
    "    es = s / (percent)\n",
    "    rs = es - s\n",
    "    return '%s (remain %s)' % (asMinutes(s), asMinutes(rs))"
   ]
  },
  {
   "cell_type": "markdown",
   "metadata": {
    "id": "1lQulrBSFvS3"
   },
   "source": [
    "# Trainer"
   ]
  },
  {
   "cell_type": "code",
   "execution_count": 7,
   "metadata": {
    "executionInfo": {
     "elapsed": 15,
     "status": "ok",
     "timestamp": 1646334667178,
     "user": {
      "displayName": "米川和仁",
      "photoUrl": "https://lh3.googleusercontent.com/a/default-user=s64",
      "userId": "04802509165152586358"
     },
     "user_tz": -540
    },
    "id": "MRlCCUEqEZPh"
   },
   "outputs": [],
   "source": [
    "######################################################\n",
    "\n",
    "# Trainer\n",
    "def trainer(model, data_loader, optimizer, scheduler, CFG):\n",
    "    model.train()\n",
    "\n",
    "    scaler = torch.cuda.amp.GradScaler(enabled=CFG.apex)\n",
    "    losses = []\n",
    "\n",
    "    optimizer.zero_grad()\n",
    "\n",
    "    for idx, batch in enumerate(data_loader):\n",
    "        for k, v in batch.items():\n",
    "            batch[k] = v.to(device, dtype=torch.long)\n",
    "\n",
    "        with torch.cuda.amp.autocast(enabled=CFG.apex):\n",
    "            outputs = model(**batch)\n",
    "\n",
    "        loss = outputs.loss\n",
    "\n",
    "        if CFG.gradient_accumulation_steps > 1:\n",
    "            loss = loss / CFG.gradient_accumulation_steps\n",
    "        scaler.scale(loss).backward()\n",
    "        grad_norm = torch.nn.utils.clip_grad_norm_(model.parameters(), CFG.max_grad_norm)\n",
    "        if (idx + 1) % CFG.gradient_accumulation_steps == 0:\n",
    "            scaler.step(optimizer)\n",
    "            scaler.update()\n",
    "            optimizer.zero_grad()\n",
    "            CFG.global_step += 1\n",
    "            if CFG.batch_scheduler:\n",
    "                scheduler.step()\n",
    "        \n",
    "        losses.append(loss.detach().cpu().item())\n",
    "\n",
    "        # if (CFG.global_step % CFG.save_step) == 0:\n",
    "        #     LOGGER.info(\n",
    "        #         \"Epoch {} Step {}: Train Loss {:.4f}, elapsed {:.4f}s\".format(\n",
    "        #             CFG.epoch + 1, CFG.global_step, np.mean(losses), time.time() - start)\n",
    "        #         )\n",
    "        #     torch.save(\n",
    "        #         model.state_dict(),\n",
    "        #         OUTPUT_DIR + '{}-mlm-step-{}.bin'.format(\n",
    "        #             CFG.model.replace('/', '-'),\n",
    "        #             CFG.global_step))\n",
    "        \n",
    "        if idx % 500 == 0 or idx == (len(data_loader)-1):\n",
    "            print('Epoch: [{0}][{1}/{2}] '\n",
    "                  'Elapsed {remain:s} '\n",
    "                  'Loss: {loss:.4f} '\n",
    "                  'Grad: {grad_norm:.4f}  '\n",
    "                  'LR: {lr:.8f}  '\n",
    "                  .format(epoch+1, idx, len(data_loader), \n",
    "                          remain=timeSince(start, float(idx+1)/len(data_loader)),\n",
    "                          loss=np.mean(losses),\n",
    "                          grad_norm=grad_norm,\n",
    "                          lr=scheduler.get_lr()[0]))\n",
    "    \n",
    "    return np.mean(losses)"
   ]
  },
  {
   "cell_type": "markdown",
   "metadata": {
    "id": "3PH7O4VlFw-N"
   },
   "source": [
    "# Model"
   ]
  },
  {
   "cell_type": "code",
   "execution_count": 8,
   "metadata": {
    "executionInfo": {
     "elapsed": 15,
     "status": "ok",
     "timestamp": 1646334667179,
     "user": {
      "displayName": "米川和仁",
      "photoUrl": "https://lh3.googleusercontent.com/a/default-user=s64",
      "userId": "04802509165152586358"
     },
     "user_tz": -540
    },
    "id": "KU9B4j-YLNzI"
   },
   "outputs": [],
   "source": [
    "def get_optimizer_params(model, encoder_lr, decoder_lr, weight_decay=0.0):\n",
    "    param_optimizer = list(model.named_parameters())\n",
    "    no_decay = [\"bias\", \"LayerNorm.bias\", \"LayerNorm.weight\"]\n",
    "    optimizer_parameters = [\n",
    "        {'params': [p for n, p in model.model.named_parameters() if not any(nd in n for nd in no_decay)],\n",
    "         'lr': encoder_lr, 'weight_decay': weight_decay},\n",
    "        {'params': [p for n, p in model.model.named_parameters() if any(nd in n for nd in no_decay)],\n",
    "         'lr': encoder_lr, 'weight_decay': 0.0},\n",
    "        {'params': [p for n, p in model.named_parameters() if \"model\" not in n],\n",
    "         'lr': decoder_lr, 'weight_decay': 0.0}\n",
    "    ]\n",
    "    return optimizer_parameters"
   ]
  },
  {
   "cell_type": "code",
   "execution_count": 9,
   "metadata": {
    "executionInfo": {
     "elapsed": 15,
     "status": "ok",
     "timestamp": 1646334667179,
     "user": {
      "displayName": "米川和仁",
      "photoUrl": "https://lh3.googleusercontent.com/a/default-user=s64",
      "userId": "04802509165152586358"
     },
     "user_tz": -540
    },
    "id": "_kg_-7UmLZNT"
   },
   "outputs": [],
   "source": [
    "def get_scheduler(cfg, optimizer, num_train_steps):\n",
    "    if cfg.scheduler=='linear':\n",
    "        scheduler = get_linear_schedule_with_warmup(\n",
    "        optimizer, num_warmup_steps=cfg.num_warmup_steps, num_training_steps=num_train_steps\n",
    "        )\n",
    "    elif cfg.scheduler=='cosine':\n",
    "        scheduler = get_cosine_schedule_with_warmup(\n",
    "            optimizer, num_warmup_steps=cfg.num_warmup_steps, num_training_steps=num_train_steps, num_cycles=cfg.num_cycles\n",
    "            )\n",
    "    return scheduler"
   ]
  },
  {
   "cell_type": "code",
   "execution_count": 10,
   "metadata": {
    "executionInfo": {
     "elapsed": 15,
     "status": "ok",
     "timestamp": 1646334667180,
     "user": {
      "displayName": "米川和仁",
      "photoUrl": "https://lh3.googleusercontent.com/a/default-user=s64",
      "userId": "04802509165152586358"
     },
     "user_tz": -540
    },
    "id": "YMX-oU8IFs-s"
   },
   "outputs": [],
   "source": [
    "# ====================================================\n",
    "# Model\n",
    "# ====================================================\n",
    "class CustomModel(nn.Module):\n",
    "    def __init__(self, cfg, config_path=None, pretrained=False):\n",
    "        super().__init__()\n",
    "        self.cfg = cfg\n",
    "        if config_path is None:\n",
    "            self.config = AutoConfig.from_pretrained(\n",
    "                cfg.model,\n",
    "                output_hidden_states=False\n",
    "                )\n",
    "        else:\n",
    "            self.config = torch.load(config_path)\n",
    "        \n",
    "        if pretrained:\n",
    "            self.model = AutoModel.from_pretrained(cfg.model, config=self.config)\n",
    "            self.lm_head = AutoModelForMaskedLM.from_pretrained(cfg.model, config=self.config).cls # [cls, lm_head]\n",
    "        else:\n",
    "            self.model = AutoModel(self.config)\n",
    "            self.lm_head = AutoModelForMaskedLM(self.config).cls # [cls, lm_head]\n",
    "        \n",
    "    def _init_weights(self, module):\n",
    "        if isinstance(module, nn.Linear):\n",
    "            module.weight.data.normal_(mean=0.0, std=self.config.initializer_range)\n",
    "            if module.bias is not None:\n",
    "                module.bias.data.zero_()\n",
    "        elif isinstance(module, nn.Embedding):\n",
    "            module.weight.data.normal_(mean=0.0, std=self.config.initializer_range)\n",
    "            if module.padding_idx is not None:\n",
    "                module.weight.data[module.padding_idx].zero_()\n",
    "        elif isinstance(module, nn.LayerNorm):\n",
    "            module.bias.data.zero_()\n",
    "            module.weight.data.fill_(1.0)\n",
    "\n",
    "    def forward(\n",
    "            self, \n",
    "            input_ids=None,\n",
    "            attention_mask=None,\n",
    "            token_type_ids=None,\n",
    "            #position_ids=None,\n",
    "            inputs_embeds=None,\n",
    "            labels=None,\n",
    "            output_attentions=None,\n",
    "            output_hidden_states=None,\n",
    "            return_dict=None):\n",
    "        \n",
    "        outputs = self.model(\n",
    "            input_ids,\n",
    "            attention_mask=attention_mask,\n",
    "            token_type_ids=token_type_ids,\n",
    "            #position_ids=position_ids,\n",
    "            inputs_embeds=inputs_embeds,\n",
    "            output_attentions=output_attentions,\n",
    "            output_hidden_states=output_hidden_states,\n",
    "            return_dict=return_dict,)\n",
    "        \n",
    "        sequence_output = outputs[0]\n",
    "        prediction_scores = self.lm_head(sequence_output)\n",
    "\n",
    "        masked_lm_loss = None\n",
    "        if labels is not None:\n",
    "            loss_fct = nn.CrossEntropyLoss()\n",
    "            masked_lm_loss = loss_fct(prediction_scores.view(-1, self.config.vocab_size), labels.view(-1))\n",
    "\n",
    "        return MaskedLMOutput(loss=masked_lm_loss,\n",
    "                              logits=prediction_scores,\n",
    "                              hidden_states=outputs.hidden_states,\n",
    "                              attentions=outputs.attentions)"
   ]
  },
  {
   "cell_type": "markdown",
   "metadata": {
    "id": "sycLu0otG9Po"
   },
   "source": [
    "# Main"
   ]
  },
  {
   "cell_type": "code",
   "execution_count": 11,
   "metadata": {
    "colab": {
     "base_uri": "https://localhost:8080/",
     "height": 241
    },
    "executionInfo": {
     "elapsed": 2700,
     "status": "ok",
     "timestamp": 1646334669865,
     "user": {
      "displayName": "米川和仁",
      "photoUrl": "https://lh3.googleusercontent.com/a/default-user=s64",
      "userId": "04802509165152586358"
     },
     "user_tz": -540
    },
    "id": "IxbWX2UaFcob",
    "outputId": "dfc3151d-cf1e-4987-89d7-d24000b4bd9f"
   },
   "outputs": [
    {
     "data": {
      "text/html": [
       "\n",
       "  <div id=\"df-1bf57142-823c-496b-bee3-9c84f24e6564\">\n",
       "    <div class=\"colab-df-container\">\n",
       "      <div>\n",
       "<style scoped>\n",
       "    .dataframe tbody tr th:only-of-type {\n",
       "        vertical-align: middle;\n",
       "    }\n",
       "\n",
       "    .dataframe tbody tr th {\n",
       "        vertical-align: top;\n",
       "    }\n",
       "\n",
       "    .dataframe thead th {\n",
       "        text-align: right;\n",
       "    }\n",
       "</style>\n",
       "<table border=\"1\" class=\"dataframe\">\n",
       "  <thead>\n",
       "    <tr style=\"text-align: right;\">\n",
       "      <th></th>\n",
       "      <th>pn_num</th>\n",
       "      <th>case_num</th>\n",
       "      <th>pn_history</th>\n",
       "    </tr>\n",
       "  </thead>\n",
       "  <tbody>\n",
       "    <tr>\n",
       "      <th>0</th>\n",
       "      <td>0</td>\n",
       "      <td>0</td>\n",
       "      <td>17-year-old male, has come to the student heal...</td>\n",
       "    </tr>\n",
       "    <tr>\n",
       "      <th>1</th>\n",
       "      <td>1</td>\n",
       "      <td>0</td>\n",
       "      <td>17 yo male with recurrent palpitations for the...</td>\n",
       "    </tr>\n",
       "    <tr>\n",
       "      <th>2</th>\n",
       "      <td>2</td>\n",
       "      <td>0</td>\n",
       "      <td>Dillon Cleveland is a 17 y.o. male patient wit...</td>\n",
       "    </tr>\n",
       "    <tr>\n",
       "      <th>3</th>\n",
       "      <td>3</td>\n",
       "      <td>0</td>\n",
       "      <td>a 17 yo m c/o palpitation started 3 mos ago; \\...</td>\n",
       "    </tr>\n",
       "    <tr>\n",
       "      <th>4</th>\n",
       "      <td>4</td>\n",
       "      <td>0</td>\n",
       "      <td>17yo male with no pmh here for evaluation of p...</td>\n",
       "    </tr>\n",
       "  </tbody>\n",
       "</table>\n",
       "</div>\n",
       "      <button class=\"colab-df-convert\" onclick=\"convertToInteractive('df-1bf57142-823c-496b-bee3-9c84f24e6564')\"\n",
       "              title=\"Convert this dataframe to an interactive table.\"\n",
       "              style=\"display:none;\">\n",
       "        \n",
       "  <svg xmlns=\"http://www.w3.org/2000/svg\" height=\"24px\"viewBox=\"0 0 24 24\"\n",
       "       width=\"24px\">\n",
       "    <path d=\"M0 0h24v24H0V0z\" fill=\"none\"/>\n",
       "    <path d=\"M18.56 5.44l.94 2.06.94-2.06 2.06-.94-2.06-.94-.94-2.06-.94 2.06-2.06.94zm-11 1L8.5 8.5l.94-2.06 2.06-.94-2.06-.94L8.5 2.5l-.94 2.06-2.06.94zm10 10l.94 2.06.94-2.06 2.06-.94-2.06-.94-.94-2.06-.94 2.06-2.06.94z\"/><path d=\"M17.41 7.96l-1.37-1.37c-.4-.4-.92-.59-1.43-.59-.52 0-1.04.2-1.43.59L10.3 9.45l-7.72 7.72c-.78.78-.78 2.05 0 2.83L4 21.41c.39.39.9.59 1.41.59.51 0 1.02-.2 1.41-.59l7.78-7.78 2.81-2.81c.8-.78.8-2.07 0-2.86zM5.41 20L4 18.59l7.72-7.72 1.47 1.35L5.41 20z\"/>\n",
       "  </svg>\n",
       "      </button>\n",
       "      \n",
       "  <style>\n",
       "    .colab-df-container {\n",
       "      display:flex;\n",
       "      flex-wrap:wrap;\n",
       "      gap: 12px;\n",
       "    }\n",
       "\n",
       "    .colab-df-convert {\n",
       "      background-color: #E8F0FE;\n",
       "      border: none;\n",
       "      border-radius: 50%;\n",
       "      cursor: pointer;\n",
       "      display: none;\n",
       "      fill: #1967D2;\n",
       "      height: 32px;\n",
       "      padding: 0 0 0 0;\n",
       "      width: 32px;\n",
       "    }\n",
       "\n",
       "    .colab-df-convert:hover {\n",
       "      background-color: #E2EBFA;\n",
       "      box-shadow: 0px 1px 2px rgba(60, 64, 67, 0.3), 0px 1px 3px 1px rgba(60, 64, 67, 0.15);\n",
       "      fill: #174EA6;\n",
       "    }\n",
       "\n",
       "    [theme=dark] .colab-df-convert {\n",
       "      background-color: #3B4455;\n",
       "      fill: #D2E3FC;\n",
       "    }\n",
       "\n",
       "    [theme=dark] .colab-df-convert:hover {\n",
       "      background-color: #434B5C;\n",
       "      box-shadow: 0px 1px 3px 1px rgba(0, 0, 0, 0.15);\n",
       "      filter: drop-shadow(0px 1px 2px rgba(0, 0, 0, 0.3));\n",
       "      fill: #FFFFFF;\n",
       "    }\n",
       "  </style>\n",
       "\n",
       "      <script>\n",
       "        const buttonEl =\n",
       "          document.querySelector('#df-1bf57142-823c-496b-bee3-9c84f24e6564 button.colab-df-convert');\n",
       "        buttonEl.style.display =\n",
       "          google.colab.kernel.accessAllowed ? 'block' : 'none';\n",
       "\n",
       "        async function convertToInteractive(key) {\n",
       "          const element = document.querySelector('#df-1bf57142-823c-496b-bee3-9c84f24e6564');\n",
       "          const dataTable =\n",
       "            await google.colab.kernel.invokeFunction('convertToInteractive',\n",
       "                                                     [key], {});\n",
       "          if (!dataTable) return;\n",
       "\n",
       "          const docLinkHtml = 'Like what you see? Visit the ' +\n",
       "            '<a target=\"_blank\" href=https://colab.research.google.com/notebooks/data_table.ipynb>data table notebook</a>'\n",
       "            + ' to learn more about interactive tables.';\n",
       "          element.innerHTML = '';\n",
       "          dataTable['output_type'] = 'display_data';\n",
       "          await google.colab.output.renderOutput(dataTable, element);\n",
       "          const docLink = document.createElement('div');\n",
       "          docLink.innerHTML = docLinkHtml;\n",
       "          element.appendChild(docLink);\n",
       "        }\n",
       "      </script>\n",
       "    </div>\n",
       "  </div>\n",
       "  "
      ],
      "text/plain": [
       "   pn_num  case_num                                         pn_history\n",
       "0       0         0  17-year-old male, has come to the student heal...\n",
       "1       1         0  17 yo male with recurrent palpitations for the...\n",
       "2       2         0  Dillon Cleveland is a 17 y.o. male patient wit...\n",
       "3       3         0  a 17 yo m c/o palpitation started 3 mos ago; \\...\n",
       "4       4         0  17yo male with no pmh here for evaluation of p..."
      ]
     },
     "metadata": {},
     "output_type": "display_data"
    },
    {
     "data": {
      "text/plain": [
       "42146"
      ]
     },
     "metadata": {},
     "output_type": "display_data"
    },
    {
     "data": {
      "text/plain": [
       "42146"
      ]
     },
     "metadata": {},
     "output_type": "display_data"
    }
   ],
   "source": [
    "# ====================================================\n",
    "# data loading\n",
    "# ====================================================\n",
    "train = pd.read_csv(os.path.join(INPUT_DIR, 'train.csv'))\n",
    "features = pd.read_csv(os.path.join(INPUT_DIR, 'features.csv'))\n",
    "patient_notes = pd.read_csv(os.path.join(INPUT_DIR, 'patient_notes.csv'))\n",
    "display(patient_notes.head())\n",
    "display(patient_notes['pn_history'].nunique(), len(patient_notes))"
   ]
  },
  {
   "cell_type": "code",
   "execution_count": 12,
   "metadata": {
    "colab": {
     "base_uri": "https://localhost:8080/",
     "height": 130,
     "referenced_widgets": [
      "e7b9ccb9a6fd4e41acad9a17f7cc6b4f",
      "e8a74fa8ac704fc9b7cc061ce9af9804",
      "4bc43b9cb13849a28854f60c26c4a3a0",
      "b06237b8f55b4411a79dc72a30841a82",
      "cbbb5d7137284e228b6b6e222b669a17",
      "b8beff4943624e9bb13b0fb7de52d86c",
      "b104c8f100a14e5da87eeb5947ab32c7",
      "30f4c6a886a445daa0e30c6b542bcdbe",
      "0a747be8a0804e709d127c0da627a920",
      "2aa10b191e5a4b4b8ac4dc688e69c66a",
      "e4f44dd2dada41fdac6ee5ba2a634038",
      "bc11273e506a4a30bf24c952c1fa50e4",
      "1740e1923a1747fdb62342d12aff48c7",
      "31750358c82740eda87093572fcfb561",
      "c7b256b0067247feac9cfe25b3883046",
      "058d6926a951473aa27cfbdee59e40a6",
      "898a927a6833484ca140e0f61a587a12",
      "7113b8b384e341b7a612f7476d11021d",
      "61450ac5ba0d4d979f5fcdce1e41e73a",
      "795573faf2b747b8a8d9763e73ed615d",
      "08b15303fedd48c8b489ad7c36497fd5",
      "2c1b625f1bdd4602884eba4ab5338a46",
      "df32cf3d0ae34cdf9013b16b3ca74905",
      "94ed7eb5a72843119c8fd830cf792a0b",
      "329604bb15df4c9b89491c32a544e611",
      "519f090ab2a44ec4ac2aedb5e744dc00",
      "974872c8bf454f43be6f3bf3ca778134",
      "483752b4b8d84478b0b1c9ea65561cf4",
      "c9770b62368949d1af40829ad11e5ee2",
      "af181c97b4504533b92ae4f5670a0b0c",
      "53676ca46ef7437b9d588318abaa1ebd",
      "e443665b98bf49b1b56752f33fdd0b38",
      "4bdaea927fb44396b9eb9b0252585534"
     ]
    },
    "executionInfo": {
     "elapsed": 4798,
     "status": "ok",
     "timestamp": 1646334674657,
     "user": {
      "displayName": "米川和仁",
      "photoUrl": "https://lh3.googleusercontent.com/a/default-user=s64",
      "userId": "04802509165152586358"
     },
     "user_tz": -540
    },
    "id": "p6ClBuTUHnB_",
    "outputId": "76d2cb8a-f99e-4fa9-912f-de82c9b1a706"
   },
   "outputs": [
    {
     "data": {
      "application/vnd.jupyter.widget-view+json": {
       "model_id": "e7b9ccb9a6fd4e41acad9a17f7cc6b4f",
       "version_major": 2,
       "version_minor": 0
      },
      "text/plain": [
       "Downloading:   0%|          | 0.00/52.0 [00:00<?, ?B/s]"
      ]
     },
     "metadata": {},
     "output_type": "display_data"
    },
    {
     "data": {
      "application/vnd.jupyter.widget-view+json": {
       "model_id": "bc11273e506a4a30bf24c952c1fa50e4",
       "version_major": 2,
       "version_minor": 0
      },
      "text/plain": [
       "Downloading:   0%|          | 0.00/580 [00:00<?, ?B/s]"
      ]
     },
     "metadata": {},
     "output_type": "display_data"
    },
    {
     "data": {
      "application/vnd.jupyter.widget-view+json": {
       "model_id": "df32cf3d0ae34cdf9013b16b3ca74905",
       "version_major": 2,
       "version_minor": 0
      },
      "text/plain": [
       "Downloading:   0%|          | 0.00/2.35M [00:00<?, ?B/s]"
      ]
     },
     "metadata": {},
     "output_type": "display_data"
    },
    {
     "name": "stderr",
     "output_type": "stream",
     "text": [
      "Special tokens have been added in the vocabulary, make sure the associated word embeddings are fine-tuned or trained.\n"
     ]
    }
   ],
   "source": [
    "# ====================================================\n",
    "# tokenizer\n",
    "# ====================================================\n",
    "tokenizer = AutoTokenizer.from_pretrained(CFG.model)\n",
    "CFG.tokenizer = tokenizer"
   ]
  },
  {
   "cell_type": "code",
   "execution_count": 13,
   "metadata": {
    "colab": {
     "base_uri": "https://localhost:8080/"
    },
    "executionInfo": {
     "elapsed": 751,
     "status": "ok",
     "timestamp": 1646334675405,
     "user": {
      "displayName": "米川和仁",
      "photoUrl": "https://lh3.googleusercontent.com/a/default-user=s64",
      "userId": "04802509165152586358"
     },
     "user_tz": -540
    },
    "id": "GQwm8FinILp4",
    "outputId": "12fd2313-da65-40ec-b115-b9f0ad23a675"
   },
   "outputs": [
    {
     "name": "stdout",
     "output_type": "stream",
     "text": [
      "Saved mlm data: mlm_data.csv\n",
      "mlm data: (42146, 1)\n"
     ]
    }
   ],
   "source": [
    "mlm_data = patient_notes[['pn_history']].reset_index(drop=True)\n",
    "mlm_data = mlm_data.rename(columns={'pn_history': 'text'})\n",
    "csv_name = f'mlm_data.csv'\n",
    "mlm_data.to_csv(OUTPUT_DIR+csv_name, index=False)\n",
    "print(f\"Saved mlm data: {csv_name}\")\n",
    "print(f\"mlm data: {mlm_data.shape}\")"
   ]
  },
  {
   "cell_type": "code",
   "execution_count": 14,
   "metadata": {
    "executionInfo": {
     "elapsed": 4,
     "status": "ok",
     "timestamp": 1646334675405,
     "user": {
      "displayName": "米川和仁",
      "photoUrl": "https://lh3.googleusercontent.com/a/default-user=s64",
      "userId": "04802509165152586358"
     },
     "user_tz": -540
    },
    "id": "1JrxMxf2I9cA"
   },
   "outputs": [],
   "source": [
    "#####################################################\n",
    "\n",
    "# Training support\n",
    "\n",
    "def tokenize_function(examples):\n",
    "    return tokenizer(examples[\"text\"], return_special_tokens_mask=True)\n",
    "\n",
    "def group_texts(examples):\n",
    "    concatenated_examples = {k: sum(examples[k], []) for k in examples.keys()}\n",
    "    total_length = len(concatenated_examples[list(examples.keys())[0]])\n",
    "    total_length = (total_length // CFG.max_len) * CFG.max_len\n",
    "    result = {\n",
    "        k: [t[i : i + CFG.max_len] for i in range(0, total_length, CFG.max_len)]\n",
    "        for k, t in concatenated_examples.items()\n",
    "    }\n",
    "    return result"
   ]
  },
  {
   "cell_type": "code",
   "execution_count": 15,
   "metadata": {
    "colab": {
     "base_uri": "https://localhost:8080/",
     "height": 185,
     "referenced_widgets": [
      "3ffe4c02dbd347cc905901f1fb1cb41f",
      "ce39a778d4ba4311892c9f1ddc19bc59",
      "0cdf43e5b50641b590766995d5b67831",
      "119c11b41964467b89e4ab2f3c290136",
      "a2af753e26734e2ca47bfd4ec22a8d23",
      "4f4e41a8e1a14649be15b6ddb18c26f1",
      "6f82b01dacd349279c20c5531613857d",
      "8d50d59a00e14e2f8c9404cb2635702a",
      "f39debc94cbd45acbc023fbc8459b704",
      "978c6e85a0f54886a0ae839834662df3",
      "e598b06dc67943f69ee1f9487c778b40",
      "61870134ef5e49dbba7e94c3e52b374f",
      "11d8439add4b4888872dfb22e64ebdbb",
      "f5d1c8760bcf4f81bd3173c1725f4f93",
      "22ee4f1c55014b50a7c872de061caa18",
      "8257b0075fc9454e85dcdd34cf184123",
      "0a2f85f8a90942889fe642f54ae9e1c2",
      "bc394068fcc246efbc9c66d0f61ab9be",
      "7e86c445ff264db3a13ecf77249327ce",
      "573f6afd99114853a9c9a32b0bcd555e",
      "0373ffaeeef14e1295335b8bf15ac71a",
      "d332b88cb993479d81e491e2e6c0e5ec",
      "ceb6f8474254400fb757882d6fd645b6",
      "55c05f2a204a4c36b211383fa498e17c",
      "d72781fec911447694f91204b71b3a40",
      "1d02a29b9203454a8bc90192bfb7bb9e",
      "41fdc5525ed94a0c9b85274a275c1520",
      "c5ac3d1963c94a109f86af74ed01af03",
      "1fd78e14d8c943299ba653c26d80ca81",
      "e71a064de7cf4cde97097a4b6f4a8a46",
      "70a1445c0ba04682b81a530dd6695b9c",
      "d51535f57f2a4755b3c57b9e14cb52e8",
      "524125e97c29452c9eb328736177e3f2"
     ]
    },
    "executionInfo": {
     "elapsed": 933,
     "status": "ok",
     "timestamp": 1646334676335,
     "user": {
      "displayName": "米川和仁",
      "photoUrl": "https://lh3.googleusercontent.com/a/default-user=s64",
      "userId": "04802509165152586358"
     },
     "user_tz": -540
    },
    "id": "Q1Q-3LQ0J0Dq",
    "outputId": "70fabf4d-04cc-48fe-aea2-f694bb942af7"
   },
   "outputs": [
    {
     "name": "stderr",
     "output_type": "stream",
     "text": [
      "Using custom data configuration default-2954b82d524aa7c6\n"
     ]
    },
    {
     "name": "stdout",
     "output_type": "stream",
     "text": [
      "Downloading and preparing dataset csv/default to /root/.cache/huggingface/datasets/csv/default-2954b82d524aa7c6/0.0.0/6b9057d9e23d9d8a2f05b985917a0da84d70c5dae3d22ddd8a3f22fb01c69d9e...\n"
     ]
    },
    {
     "data": {
      "application/vnd.jupyter.widget-view+json": {
       "model_id": "3ffe4c02dbd347cc905901f1fb1cb41f",
       "version_major": 2,
       "version_minor": 0
      },
      "text/plain": [
       "  0%|          | 0/1 [00:00<?, ?it/s]"
      ]
     },
     "metadata": {},
     "output_type": "display_data"
    },
    {
     "data": {
      "application/vnd.jupyter.widget-view+json": {
       "model_id": "61870134ef5e49dbba7e94c3e52b374f",
       "version_major": 2,
       "version_minor": 0
      },
      "text/plain": [
       "  0%|          | 0/1 [00:00<?, ?it/s]"
      ]
     },
     "metadata": {},
     "output_type": "display_data"
    },
    {
     "name": "stdout",
     "output_type": "stream",
     "text": [
      "Dataset csv downloaded and prepared to /root/.cache/huggingface/datasets/csv/default-2954b82d524aa7c6/0.0.0/6b9057d9e23d9d8a2f05b985917a0da84d70c5dae3d22ddd8a3f22fb01c69d9e. Subsequent calls will reuse this data.\n"
     ]
    },
    {
     "data": {
      "application/vnd.jupyter.widget-view+json": {
       "model_id": "ceb6f8474254400fb757882d6fd645b6",
       "version_major": 2,
       "version_minor": 0
      },
      "text/plain": [
       "  0%|          | 0/1 [00:00<?, ?it/s]"
      ]
     },
     "metadata": {},
     "output_type": "display_data"
    }
   ],
   "source": [
    "seed_everything(CFG.seed)\n",
    "\n",
    "CFG.train_file = f\"mlm_data.csv\"\n",
    "data_files = {'train': OUTPUT_DIR+CFG.train_file}\n",
    "raw_datasets = load_dataset('csv', data_files=data_files)"
   ]
  },
  {
   "cell_type": "code",
   "execution_count": 16,
   "metadata": {
    "executionInfo": {
     "elapsed": 3,
     "status": "ok",
     "timestamp": 1646334676335,
     "user": {
      "displayName": "米川和仁",
      "photoUrl": "https://lh3.googleusercontent.com/a/default-user=s64",
      "userId": "04802509165152586358"
     },
     "user_tz": -540
    },
    "id": "BYAa6Ax9KD_W"
   },
   "outputs": [],
   "source": [
    "if CFG.max_seq_length is None:\n",
    "    max_seq_length = tokenizer.model_max_length\n",
    "else:\n",
    "    if CFG.max_seq_length > tokenizer.model_max_length:\n",
    "        max_seq_length = min(CFG.max_seq_length, tokenizer.model_max_length)"
   ]
  },
  {
   "cell_type": "code",
   "execution_count": 17,
   "metadata": {
    "colab": {
     "base_uri": "https://localhost:8080/"
    },
    "executionInfo": {
     "elapsed": 15577,
     "status": "ok",
     "timestamp": 1646334691909,
     "user": {
      "displayName": "米川和仁",
      "photoUrl": "https://lh3.googleusercontent.com/a/default-user=s64",
      "userId": "04802509165152586358"
     },
     "user_tz": -540
    },
    "id": "ZGA8iIsEKP5J",
    "outputId": "743f4e28-d22c-40fd-c487-f6c815b105ef"
   },
   "outputs": [
    {
     "name": "stderr",
     "output_type": "stream",
     "text": [
      "Setting TOKENIZERS_PARALLELISM=false for forked processes.\n",
      "tokenized_datasets: DatasetDict({\n",
      "    train: Dataset({\n",
      "        features: ['input_ids', 'token_type_ids', 'special_tokens_mask', 'attention_mask'],\n",
      "        num_rows: 42146\n",
      "    })\n",
      "})\n"
     ]
    }
   ],
   "source": [
    "tokenized_datasets = raw_datasets.map(\n",
    "    tokenize_function,\n",
    "    batched=True,\n",
    "    num_proc=4,\n",
    "    remove_columns=[\"text\"],\n",
    "    load_from_cache_file=not True,\n",
    "    )\n",
    "LOGGER.info(f\"tokenized_datasets: {tokenized_datasets}\")"
   ]
  },
  {
   "cell_type": "code",
   "execution_count": 18,
   "metadata": {
    "colab": {
     "base_uri": "https://localhost:8080/"
    },
    "executionInfo": {
     "elapsed": 27664,
     "status": "ok",
     "timestamp": 1646334719567,
     "user": {
      "displayName": "米川和仁",
      "photoUrl": "https://lh3.googleusercontent.com/a/default-user=s64",
      "userId": "04802509165152586358"
     },
     "user_tz": -540
    },
    "id": "xAQzKUP6KVZi",
    "outputId": "f704bc12-c578-424b-97b9-f47c04396259"
   },
   "outputs": [
    {
     "name": "stderr",
     "output_type": "stream",
     "text": [
      "Setting TOKENIZERS_PARALLELISM=false for forked processes.\n",
      "train_dataset: Dataset({\n",
      "    features: ['input_ids', 'token_type_ids', 'special_tokens_mask', 'attention_mask'],\n",
      "    num_rows: 17763\n",
      "})\n"
     ]
    }
   ],
   "source": [
    "tokenized_datasets = tokenized_datasets.map(\n",
    "    group_texts,\n",
    "    batched=True,\n",
    "    num_proc=4,\n",
    "    load_from_cache_file=not True,\n",
    "    )\n",
    "train_dataset = tokenized_datasets[\"train\"]\n",
    "LOGGER.info(f\"train_dataset: {train_dataset}\")"
   ]
  },
  {
   "cell_type": "code",
   "execution_count": 19,
   "metadata": {
    "executionInfo": {
     "elapsed": 10,
     "status": "ok",
     "timestamp": 1646334719567,
     "user": {
      "displayName": "米川和仁",
      "photoUrl": "https://lh3.googleusercontent.com/a/default-user=s64",
      "userId": "04802509165152586358"
     },
     "user_tz": -540
    },
    "id": "EUeXUD3vKZZ3"
   },
   "outputs": [],
   "source": [
    "data_collator = DataCollatorForLanguageModeling(\n",
    "    tokenizer=tokenizer,\n",
    "    mlm_probability=CFG.mlm_probability\n",
    "    )\n",
    "train_loader = DataLoader(\n",
    "    train_dataset,\n",
    "    shuffle=True,\n",
    "    collate_fn=data_collator,\n",
    "    batch_size=CFG.batch_size\n",
    "    )"
   ]
  },
  {
   "cell_type": "code",
   "execution_count": 20,
   "metadata": {
    "colab": {
     "base_uri": "https://localhost:8080/",
     "height": 208,
     "referenced_widgets": [
      "5ab9243cc41745ec9e5d3f3f127f5aa0",
      "926a15a76c7c47ed8cefefa067796d1e",
      "060ce8d2b3c248578003ac7bb707e0ae",
      "4c58f5de417448e6887d3bdd645ce493",
      "f536e9a6440e4b7c85c46a419676a011",
      "01e0554703e4485bb74082bd0b9503e8",
      "9f2806f479bb4859940a09204d4f0a3f",
      "e8469981bea64e899b6f24f19647ddbd",
      "d08ce910e7d94c66b8a23eaf5301ec0a",
      "932819908a1d4eb6b02f65a46a11ce04",
      "306089e45aea4fe8b1aaba62384af052"
     ]
    },
    "executionInfo": {
     "elapsed": 40763,
     "status": "ok",
     "timestamp": 1646334760321,
     "user": {
      "displayName": "米川和仁",
      "photoUrl": "https://lh3.googleusercontent.com/a/default-user=s64",
      "userId": "04802509165152586358"
     },
     "user_tz": -540
    },
    "id": "k5XyBapSK216",
    "outputId": "c0ff4fd7-2ded-4abb-befa-0cab663e7f2a"
   },
   "outputs": [
    {
     "data": {
      "application/vnd.jupyter.widget-view+json": {
       "model_id": "5ab9243cc41745ec9e5d3f3f127f5aa0",
       "version_major": 2,
       "version_minor": 0
      },
      "text/plain": [
       "Downloading:   0%|          | 0.00/833M [00:00<?, ?B/s]"
      ]
     },
     "metadata": {},
     "output_type": "display_data"
    },
    {
     "name": "stderr",
     "output_type": "stream",
     "text": [
      "Some weights of the model checkpoint at microsoft/deberta-v3-large were not used when initializing DebertaV2Model: ['mask_predictions.classifier.weight', 'mask_predictions.classifier.bias', 'lm_predictions.lm_head.LayerNorm.weight', 'mask_predictions.dense.bias', 'mask_predictions.dense.weight', 'lm_predictions.lm_head.LayerNorm.bias', 'mask_predictions.LayerNorm.weight', 'mask_predictions.LayerNorm.bias', 'lm_predictions.lm_head.dense.weight', 'lm_predictions.lm_head.bias', 'lm_predictions.lm_head.dense.bias']\n",
      "- This IS expected if you are initializing DebertaV2Model from the checkpoint of a model trained on another task or with another architecture (e.g. initializing a BertForSequenceClassification model from a BertForPreTraining model).\n",
      "- This IS NOT expected if you are initializing DebertaV2Model from the checkpoint of a model that you expect to be exactly identical (initializing a BertForSequenceClassification model from a BertForSequenceClassification model).\n",
      "Some weights of the model checkpoint at microsoft/deberta-v3-large were not used when initializing DebertaV2ForMaskedLM: ['mask_predictions.classifier.weight', 'mask_predictions.classifier.bias', 'lm_predictions.lm_head.LayerNorm.weight', 'mask_predictions.dense.bias', 'mask_predictions.dense.weight', 'lm_predictions.lm_head.LayerNorm.bias', 'mask_predictions.LayerNorm.weight', 'mask_predictions.LayerNorm.bias', 'lm_predictions.lm_head.dense.weight', 'deberta.embeddings.position_embeddings.weight', 'lm_predictions.lm_head.bias', 'lm_predictions.lm_head.dense.bias']\n",
      "- This IS expected if you are initializing DebertaV2ForMaskedLM from the checkpoint of a model trained on another task or with another architecture (e.g. initializing a BertForSequenceClassification model from a BertForPreTraining model).\n",
      "- This IS NOT expected if you are initializing DebertaV2ForMaskedLM from the checkpoint of a model that you expect to be exactly identical (initializing a BertForSequenceClassification model from a BertForSequenceClassification model).\n",
      "Some weights of DebertaV2ForMaskedLM were not initialized from the model checkpoint at microsoft/deberta-v3-large and are newly initialized: ['cls.predictions.bias', 'cls.predictions.transform.dense.bias', 'cls.predictions.transform.dense.weight', 'cls.predictions.transform.LayerNorm.bias', 'cls.predictions.decoder.weight', 'cls.predictions.transform.LayerNorm.weight']\n",
      "You should probably TRAIN this model on a down-stream task to be able to use it for predictions and inference.\n"
     ]
    }
   ],
   "source": [
    "model = CustomModel(CFG, config_path=None, pretrained=True)\n",
    "model.to(device)\n",
    "optimizer_parameters = get_optimizer_params(\n",
    "    model,\n",
    "    encoder_lr=CFG.encoder_lr, \n",
    "    decoder_lr=CFG.decoder_lr,\n",
    "    weight_decay=CFG.weight_decay)\n",
    "optimizer = AdamW(optimizer_parameters, lr=CFG.encoder_lr, eps=CFG.eps, betas=CFG.betas)"
   ]
  },
  {
   "cell_type": "code",
   "execution_count": 21,
   "metadata": {
    "executionInfo": {
     "elapsed": 15,
     "status": "ok",
     "timestamp": 1646334760321,
     "user": {
      "displayName": "米川和仁",
      "photoUrl": "https://lh3.googleusercontent.com/a/default-user=s64",
      "userId": "04802509165152586358"
     },
     "user_tz": -540
    },
    "id": "gSVXH6yyLU9h"
   },
   "outputs": [],
   "source": [
    "num_train_steps = int(len(mlm_data) / CFG.batch_size * CFG.epochs)\n",
    "scheduler = get_scheduler(CFG, optimizer, num_train_steps)"
   ]
  },
  {
   "cell_type": "code",
   "execution_count": 22,
   "metadata": {
    "colab": {
     "base_uri": "https://localhost:8080/"
    },
    "executionInfo": {
     "elapsed": 14,
     "status": "ok",
     "timestamp": 1646334760321,
     "user": {
      "displayName": "米川和仁",
      "photoUrl": "https://lh3.googleusercontent.com/a/default-user=s64",
      "userId": "04802509165152586358"
     },
     "user_tz": -540
    },
    "id": "FV7uRz4gMAth",
    "outputId": "e3a3240f-69be-473e-f665-1aa69305863e"
   },
   "outputs": [
    {
     "name": "stdout",
     "output_type": "stream",
     "text": [
      "632190\n"
     ]
    }
   ],
   "source": [
    "print(num_train_steps)"
   ]
  },
  {
   "cell_type": "code",
   "execution_count": null,
   "metadata": {
    "colab": {
     "base_uri": "https://localhost:8080/"
    },
    "id": "DwOleusaL7X4",
    "outputId": "2a8e2fda-70dd-4720-e4cb-d0a9561b4768"
   },
   "outputs": [
    {
     "name": "stdout",
     "output_type": "stream",
     "text": [
      "Epoch: [1][0/8882] Elapsed 0m 1s (remain 167m 25s) Loss: 12.2465 Grad: inf  LR: 0.00002000  \n",
      "Epoch: [1][500/8882] Elapsed 2m 26s (remain 40m 58s) Loss: 5.5722 Grad: 56626.3945  LR: 0.00002000  \n",
      "Epoch: [1][1000/8882] Elapsed 4m 53s (remain 38m 27s) Loss: 4.6518 Grad: 69817.8125  LR: 0.00002000  \n",
      "Epoch: [1][1500/8882] Elapsed 7m 19s (remain 35m 58s) Loss: 4.1503 Grad: 54568.5820  LR: 0.00002000  \n",
      "Epoch: [1][2000/8882] Elapsed 9m 45s (remain 33m 31s) Loss: 3.8168 Grad: 53982.0547  LR: 0.00002000  \n",
      "Epoch: [1][2500/8882] Elapsed 12m 11s (remain 31m 5s) Loss: 3.5697 Grad: 110480.6406  LR: 0.00002000  \n",
      "Epoch: [1][3000/8882] Elapsed 14m 37s (remain 28m 38s) Loss: 3.3927 Grad: 114175.9922  LR: 0.00002000  \n",
      "Epoch: [1][3500/8882] Elapsed 17m 3s (remain 26m 12s) Loss: 3.2527 Grad: 111778.2344  LR: 0.00002000  \n",
      "Epoch: [1][4000/8882] Elapsed 19m 30s (remain 23m 47s) Loss: 3.1380 Grad: 106983.9531  LR: 0.00002000  \n",
      "Epoch: [1][4500/8882] Elapsed 21m 56s (remain 21m 21s) Loss: 3.0386 Grad: 240411.4688  LR: 0.00002000  \n",
      "Epoch: [1][5000/8882] Elapsed 24m 22s (remain 18m 54s) Loss: 2.9556 Grad: 215075.0938  LR: 0.00002000  \n",
      "Epoch: [1][5500/8882] Elapsed 26m 48s (remain 16m 28s) Loss: 2.8824 Grad: 248534.4531  LR: 0.00002000  \n",
      "Epoch: [1][6000/8882] Elapsed 29m 13s (remain 14m 2s) Loss: 2.8213 Grad: 225000.5781  LR: 0.00002000  \n",
      "Epoch: [1][6500/8882] Elapsed 31m 38s (remain 11m 35s) Loss: 2.7645 Grad: 467101.6562  LR: 0.00001999  \n",
      "Epoch: [1][7000/8882] Elapsed 34m 3s (remain 9m 9s) Loss: 2.7139 Grad: 441109.4375  LR: 0.00001999  \n",
      "Epoch: [1][7500/8882] Elapsed 36m 28s (remain 6m 42s) Loss: 2.6701 Grad: 378807.1562  LR: 0.00001999  \n",
      "Epoch: [1][8000/8882] Elapsed 38m 53s (remain 4m 16s) Loss: 2.6289 Grad: 436766.3125  LR: 0.00001999  \n",
      "Epoch: [1][8500/8882] Elapsed 41m 18s (remain 1m 51s) Loss: 2.5916 Grad: 448555.5000  LR: 0.00001999  \n"
     ]
    },
    {
     "name": "stderr",
     "output_type": "stream",
     "text": [
      "Epoch 1: Train Loss 2.5651, elapsed 2588.3083s\n"
     ]
    },
    {
     "name": "stdout",
     "output_type": "stream",
     "text": [
      "Epoch: [1][8881/8882] Elapsed 43m 8s (remain 0m 0s) Loss: 2.5651 Grad: 548954.3125  LR: 0.00001999  \n",
      "Epoch: [2][0/8882] Elapsed 0m 0s (remain 50m 32s) Loss: 1.9792 Grad: 408525.0000  LR: 0.00001999  \n",
      "Epoch: [2][500/8882] Elapsed 2m 25s (remain 40m 32s) Loss: 1.9540 Grad: 431627.7812  LR: 0.00001999  \n",
      "Epoch: [2][1000/8882] Elapsed 4m 49s (remain 38m 1s) Loss: 1.9418 Grad: 440722.0000  LR: 0.00001999  \n",
      "Epoch: [2][1500/8882] Elapsed 7m 14s (remain 35m 34s) Loss: 1.9275 Grad: 416848.3750  LR: 0.00001999  \n",
      "Epoch: [2][2000/8882] Elapsed 9m 38s (remain 33m 9s) Loss: 1.9186 Grad: 862945.9375  LR: 0.00001999  \n",
      "Epoch: [2][2500/8882] Elapsed 12m 2s (remain 30m 44s) Loss: 1.9113 Grad: 396378.0000  LR: 0.00001998  \n",
      "Epoch: [2][3000/8882] Elapsed 14m 26s (remain 28m 18s) Loss: 1.9063 Grad: 440765.7500  LR: 0.00001998  \n",
      "Epoch: [2][3500/8882] Elapsed 16m 50s (remain 25m 53s) Loss: 1.8990 Grad: 472494.3125  LR: 0.00001998  \n",
      "Epoch: [2][4000/8882] Elapsed 19m 15s (remain 23m 29s) Loss: 1.8923 Grad: 249725.2969  LR: 0.00001998  \n",
      "Epoch: [2][4500/8882] Elapsed 21m 39s (remain 21m 4s) Loss: 1.8854 Grad: 206043.6719  LR: 0.00001998  \n",
      "Epoch: [2][5000/8882] Elapsed 24m 3s (remain 18m 40s) Loss: 1.8779 Grad: 221505.2344  LR: 0.00001998  \n",
      "Epoch: [2][5500/8882] Elapsed 26m 28s (remain 16m 16s) Loss: 1.8691 Grad: 285117.6250  LR: 0.00001997  \n",
      "Epoch: [2][6000/8882] Elapsed 28m 52s (remain 13m 51s) Loss: 1.8613 Grad: 341566.0625  LR: 0.00001997  \n",
      "Epoch: [2][6500/8882] Elapsed 31m 16s (remain 11m 27s) Loss: 1.8530 Grad: 415715.6562  LR: 0.00001997  \n",
      "Epoch: [2][7000/8882] Elapsed 33m 41s (remain 9m 3s) Loss: 1.8437 Grad: 400115.2812  LR: 0.00001997  \n",
      "Epoch: [2][7500/8882] Elapsed 36m 5s (remain 6m 38s) Loss: 1.8364 Grad: 383720.6875  LR: 0.00001997  \n",
      "Epoch: [2][8000/8882] Elapsed 38m 30s (remain 4m 14s) Loss: 1.8288 Grad: 398365.3750  LR: 0.00001996  \n",
      "Epoch: [2][8500/8882] Elapsed 40m 55s (remain 1m 50s) Loss: 1.8207 Grad: 417069.5312  LR: 0.00001996  \n"
     ]
    },
    {
     "name": "stderr",
     "output_type": "stream",
     "text": [
      "Epoch 2: Train Loss 1.8150, elapsed 2566.3125s\n"
     ]
    },
    {
     "name": "stdout",
     "output_type": "stream",
     "text": [
      "Epoch: [2][8881/8882] Elapsed 42m 46s (remain 0m 0s) Loss: 1.8150 Grad: 571499.0000  LR: 0.00001996  \n",
      "Epoch: [3][0/8882] Elapsed 0m 0s (remain 52m 31s) Loss: 1.5482 Grad: 554923.5625  LR: 0.00001996  \n",
      "Epoch: [3][500/8882] Elapsed 2m 26s (remain 40m 46s) Loss: 1.6868 Grad: 363727.4375  LR: 0.00001996  \n",
      "Epoch: [3][1000/8882] Elapsed 4m 51s (remain 38m 13s) Loss: 1.6871 Grad: 475128.2500  LR: 0.00001996  \n",
      "Epoch: [3][1500/8882] Elapsed 7m 16s (remain 35m 44s) Loss: 1.6788 Grad: 414488.5000  LR: 0.00001995  \n",
      "Epoch: [3][2000/8882] Elapsed 9m 40s (remain 33m 17s) Loss: 1.6758 Grad: 791860.7500  LR: 0.00001995  \n",
      "Epoch: [3][2500/8882] Elapsed 12m 5s (remain 30m 52s) Loss: 1.6666 Grad: 362081.9062  LR: 0.00001995  \n",
      "Epoch: [3][3000/8882] Elapsed 14m 30s (remain 28m 26s) Loss: 1.6616 Grad: 397199.5000  LR: 0.00001995  \n",
      "Epoch: [3][3500/8882] Elapsed 16m 55s (remain 26m 1s) Loss: 1.6580 Grad: 360379.3750  LR: 0.00001994  \n",
      "Epoch: [3][4000/8882] Elapsed 19m 20s (remain 23m 36s) Loss: 1.6566 Grad: 204735.9219  LR: 0.00001994  \n",
      "Epoch: [3][4500/8882] Elapsed 21m 45s (remain 21m 10s) Loss: 1.6571 Grad: 199871.0938  LR: 0.00001994  \n",
      "Epoch: [3][5000/8882] Elapsed 24m 12s (remain 18m 47s) Loss: 1.6544 Grad: 171690.7500  LR: 0.00001994  \n",
      "Epoch: [3][5500/8882] Elapsed 26m 38s (remain 16m 22s) Loss: 1.6506 Grad: 180658.2812  LR: 0.00001993  \n",
      "Epoch: [3][6000/8882] Elapsed 29m 3s (remain 13m 56s) Loss: 1.6451 Grad: 414188.6875  LR: 0.00001993  \n",
      "Epoch: [3][6500/8882] Elapsed 31m 28s (remain 11m 31s) Loss: 1.6396 Grad: 387302.6875  LR: 0.00001993  \n",
      "Epoch: [3][7000/8882] Elapsed 33m 53s (remain 9m 6s) Loss: 1.6360 Grad: 341677.0312  LR: 0.00001992  \n",
      "Epoch: [3][7500/8882] Elapsed 36m 18s (remain 6m 41s) Loss: 1.6328 Grad: 370316.5312  LR: 0.00001992  \n",
      "Epoch: [3][8000/8882] Elapsed 38m 43s (remain 4m 15s) Loss: 1.6286 Grad: 410182.2188  LR: 0.00001992  \n",
      "Epoch: [3][8500/8882] Elapsed 41m 9s (remain 1m 50s) Loss: 1.6247 Grad: 367360.9062  LR: 0.00001991  \n"
     ]
    },
    {
     "name": "stderr",
     "output_type": "stream",
     "text": [
      "Epoch 3: Train Loss 1.6225, elapsed 2579.5576s\n"
     ]
    },
    {
     "name": "stdout",
     "output_type": "stream",
     "text": [
      "Epoch: [3][8881/8882] Elapsed 42m 59s (remain 0m 0s) Loss: 1.6225 Grad: 464544.1875  LR: 0.00001991  \n",
      "Epoch: [4][0/8882] Elapsed 0m 0s (remain 49m 36s) Loss: 1.5398 Grad: 406116.3125  LR: 0.00001991  \n",
      "Epoch: [4][500/8882] Elapsed 2m 26s (remain 40m 58s) Loss: 1.5651 Grad: 341840.2500  LR: 0.00001991  \n",
      "Epoch: [4][1000/8882] Elapsed 4m 52s (remain 38m 25s) Loss: 1.5507 Grad: 352848.2188  LR: 0.00001991  \n",
      "Epoch: [4][1500/8882] Elapsed 7m 18s (remain 35m 56s) Loss: 1.5401 Grad: 334462.8125  LR: 0.00001990  \n",
      "Epoch: [4][2000/8882] Elapsed 9m 43s (remain 33m 28s) Loss: 1.5344 Grad: 892576.7500  LR: 0.00001990  \n",
      "Epoch: [4][2500/8882] Elapsed 12m 8s (remain 30m 59s) Loss: 1.5319 Grad: 338804.3125  LR: 0.00001990  \n",
      "Epoch: [4][3000/8882] Elapsed 14m 34s (remain 28m 33s) Loss: 1.5318 Grad: 394032.0312  LR: 0.00001989  \n",
      "Epoch: [4][3500/8882] Elapsed 17m 0s (remain 26m 7s) Loss: 1.5296 Grad: 374960.9062  LR: 0.00001989  \n",
      "Epoch: [4][4000/8882] Elapsed 19m 25s (remain 23m 41s) Loss: 1.5265 Grad: 417446.5000  LR: 0.00001988  \n",
      "Epoch: [4][4500/8882] Elapsed 21m 50s (remain 21m 15s) Loss: 1.5255 Grad: 333626.2500  LR: 0.00001988  \n",
      "Epoch: [4][5000/8882] Elapsed 24m 15s (remain 18m 49s) Loss: 1.5237 Grad: 386803.3125  LR: 0.00001988  \n",
      "Epoch: [4][5500/8882] Elapsed 26m 40s (remain 16m 23s) Loss: 1.5211 Grad: 368895.3125  LR: 0.00001987  \n",
      "Epoch: [4][6000/8882] Elapsed 29m 5s (remain 13m 58s) Loss: 1.5204 Grad: 399416.5000  LR: 0.00001987  \n",
      "Epoch: [4][6500/8882] Elapsed 31m 31s (remain 11m 32s) Loss: 1.5177 Grad: 694779.0000  LR: 0.00001986  \n",
      "Epoch: [4][7000/8882] Elapsed 33m 56s (remain 9m 7s) Loss: 1.5155 Grad: 320642.8750  LR: 0.00001986  \n",
      "Epoch: [4][7500/8882] Elapsed 36m 21s (remain 6m 41s) Loss: 1.5136 Grad: 376159.3125  LR: 0.00001986  \n",
      "Epoch: [4][8000/8882] Elapsed 38m 47s (remain 4m 16s) Loss: 1.5127 Grad: 312680.0000  LR: 0.00001985  \n",
      "Epoch: [4][8500/8882] Elapsed 41m 12s (remain 1m 50s) Loss: 1.5119 Grad: 175806.9531  LR: 0.00001985  \n"
     ]
    },
    {
     "name": "stderr",
     "output_type": "stream",
     "text": [
      "Epoch 4: Train Loss 1.5109, elapsed 2583.2482s\n"
     ]
    },
    {
     "name": "stdout",
     "output_type": "stream",
     "text": [
      "Epoch: [4][8881/8882] Elapsed 43m 3s (remain 0m 0s) Loss: 1.5109 Grad: 227665.8281  LR: 0.00001984  \n",
      "Epoch: [5][0/8882] Elapsed 0m 0s (remain 50m 32s) Loss: 1.2817 Grad: 422108.5625  LR: 0.00001984  \n",
      "Epoch: [5][500/8882] Elapsed 2m 27s (remain 41m 4s) Loss: 1.4573 Grad: 187744.7656  LR: 0.00001984  \n",
      "Epoch: [5][1000/8882] Elapsed 4m 53s (remain 38m 30s) Loss: 1.4637 Grad: 176406.0781  LR: 0.00001984  \n",
      "Epoch: [5][1500/8882] Elapsed 7m 18s (remain 35m 57s) Loss: 1.4714 Grad: 176276.4375  LR: 0.00001983  \n",
      "Epoch: [5][2000/8882] Elapsed 9m 44s (remain 33m 29s) Loss: 1.4780 Grad: 178560.7812  LR: 0.00001983  \n",
      "Epoch: [5][2500/8882] Elapsed 12m 9s (remain 31m 2s) Loss: 1.4737 Grad: 409448.2500  LR: 0.00001982  \n",
      "Epoch: [5][3000/8882] Elapsed 14m 35s (remain 28m 36s) Loss: 1.4697 Grad: 322463.9062  LR: 0.00001982  \n",
      "Epoch: [5][3500/8882] Elapsed 17m 1s (remain 26m 10s) Loss: 1.4664 Grad: 395902.9375  LR: 0.00001981  \n",
      "Epoch: [5][4000/8882] Elapsed 19m 27s (remain 23m 43s) Loss: 1.4627 Grad: 350919.6875  LR: 0.00001981  \n",
      "Epoch: [5][4500/8882] Elapsed 21m 52s (remain 21m 17s) Loss: 1.4606 Grad: 601771.3125  LR: 0.00001980  \n",
      "Epoch: [5][5000/8882] Elapsed 24m 17s (remain 18m 51s) Loss: 1.4570 Grad: 323914.2500  LR: 0.00001980  \n",
      "Epoch: [5][5500/8882] Elapsed 26m 42s (remain 16m 25s) Loss: 1.4542 Grad: 312028.0312  LR: 0.00001979  \n",
      "Epoch: [5][6000/8882] Elapsed 29m 8s (remain 13m 59s) Loss: 1.4499 Grad: 309479.3438  LR: 0.00001979  \n",
      "Epoch: [5][6500/8882] Elapsed 31m 33s (remain 11m 33s) Loss: 1.4473 Grad: 402656.4688  LR: 0.00001978  \n",
      "Epoch: [5][7000/8882] Elapsed 33m 59s (remain 9m 7s) Loss: 1.4467 Grad: 768997.5000  LR: 0.00001978  \n",
      "Epoch: [5][7500/8882] Elapsed 36m 24s (remain 6m 42s) Loss: 1.4427 Grad: 383130.6250  LR: 0.00001977  \n",
      "Epoch: [5][8000/8882] Elapsed 38m 50s (remain 4m 16s) Loss: 1.4418 Grad: 293365.7188  LR: 0.00001977  \n",
      "Epoch: [5][8500/8882] Elapsed 41m 16s (remain 1m 51s) Loss: 1.4416 Grad: 350179.3438  LR: 0.00001976  \n"
     ]
    },
    {
     "name": "stderr",
     "output_type": "stream",
     "text": [
      "Epoch 5: Train Loss 1.4402, elapsed 2587.6956s\n"
     ]
    },
    {
     "name": "stdout",
     "output_type": "stream",
     "text": [
      "Epoch: [5][8881/8882] Elapsed 43m 7s (remain 0m 0s) Loss: 1.4402 Grad: 473637.5312  LR: 0.00001976  \n",
      "Epoch: [6][0/8882] Elapsed 0m 0s (remain 50m 55s) Loss: 1.4329 Grad: 316120.4062  LR: 0.00001976  \n",
      "Epoch: [6][500/8882] Elapsed 2m 27s (remain 41m 3s) Loss: 1.4033 Grad: 388192.0312  LR: 0.00001975  \n",
      "Epoch: [6][1000/8882] Elapsed 4m 52s (remain 38m 24s) Loss: 1.4020 Grad: 360658.1562  LR: 0.00001975  \n",
      "Epoch: [6][1500/8882] Elapsed 7m 18s (remain 35m 58s) Loss: 1.4066 Grad: 167681.0781  LR: 0.00001974  \n",
      "Epoch: [6][2000/8882] Elapsed 9m 44s (remain 33m 31s) Loss: 1.4114 Grad: 159072.2031  LR: 0.00001974  \n",
      "Epoch: [6][2500/8882] Elapsed 12m 10s (remain 31m 4s) Loss: 1.4160 Grad: 159733.3438  LR: 0.00001973  \n",
      "Epoch: [6][3000/8882] Elapsed 14m 36s (remain 28m 38s) Loss: 1.4144 Grad: 200220.5156  LR: 0.00001972  \n",
      "Epoch: [6][3500/8882] Elapsed 17m 2s (remain 26m 11s) Loss: 1.4091 Grad: 338152.0312  LR: 0.00001972  \n",
      "Epoch: [6][4000/8882] Elapsed 19m 28s (remain 23m 45s) Loss: 1.4078 Grad: 377361.0938  LR: 0.00001971  \n",
      "Epoch: [6][4500/8882] Elapsed 21m 54s (remain 21m 19s) Loss: 1.4071 Grad: 345910.6250  LR: 0.00001971  \n",
      "Epoch: [6][5000/8882] Elapsed 24m 20s (remain 18m 53s) Loss: 1.4052 Grad: 328621.5625  LR: 0.00001970  \n",
      "Epoch: [6][5500/8882] Elapsed 26m 46s (remain 16m 27s) Loss: 1.4022 Grad: 375339.9062  LR: 0.00001969  \n",
      "Epoch: [6][6000/8882] Elapsed 29m 11s (remain 14m 0s) Loss: 1.3995 Grad: 283406.0625  LR: 0.00001969  \n",
      "Epoch: [6][6500/8882] Elapsed 31m 37s (remain 11m 34s) Loss: 1.3975 Grad: 339523.0938  LR: 0.00001968  \n",
      "Epoch: [6][7000/8882] Elapsed 34m 2s (remain 9m 8s) Loss: 1.3956 Grad: 366469.5312  LR: 0.00001968  \n",
      "Epoch: [6][7500/8882] Elapsed 36m 27s (remain 6m 42s) Loss: 1.3947 Grad: 845933.0625  LR: 0.00001967  \n",
      "Epoch: [6][8000/8882] Elapsed 38m 53s (remain 4m 16s) Loss: 1.3913 Grad: 780768.6875  LR: 0.00001966  \n",
      "Epoch: [6][8500/8882] Elapsed 41m 19s (remain 1m 51s) Loss: 1.3903 Grad: 322467.0625  LR: 0.00001966  \n"
     ]
    },
    {
     "name": "stderr",
     "output_type": "stream",
     "text": [
      "Epoch 6: Train Loss 1.3898, elapsed 2590.6291s\n"
     ]
    },
    {
     "name": "stdout",
     "output_type": "stream",
     "text": [
      "Epoch: [6][8881/8882] Elapsed 43m 10s (remain 0m 0s) Loss: 1.3898 Grad: 473930.5000  LR: 0.00001965  \n",
      "Epoch: [7][0/8882] Elapsed 0m 0s (remain 51m 12s) Loss: 1.1727 Grad: 288933.5000  LR: 0.00001965  \n",
      "Epoch: [7][500/8882] Elapsed 2m 27s (remain 41m 6s) Loss: 1.3651 Grad: 315355.8438  LR: 0.00001964  \n",
      "Epoch: [7][1000/8882] Elapsed 4m 53s (remain 38m 30s) Loss: 1.3535 Grad: 355561.5000  LR: 0.00001964  \n",
      "Epoch: [7][1500/8882] Elapsed 7m 19s (remain 36m 0s) Loss: 1.3552 Grad: 350323.5625  LR: 0.00001963  \n",
      "Epoch: [7][2000/8882] Elapsed 9m 44s (remain 33m 30s) Loss: 1.3531 Grad: 830923.8750  LR: 0.00001962  \n",
      "Epoch: [7][2500/8882] Elapsed 12m 9s (remain 31m 2s) Loss: 1.3503 Grad: 406306.8750  LR: 0.00001962  \n",
      "Epoch: [7][3000/8882] Elapsed 14m 34s (remain 28m 34s) Loss: 1.3494 Grad: 352435.0938  LR: 0.00001961  \n",
      "Epoch: [7][3500/8882] Elapsed 17m 0s (remain 26m 8s) Loss: 1.3498 Grad: 351974.3438  LR: 0.00001960  \n",
      "Epoch: [7][4000/8882] Elapsed 19m 26s (remain 23m 42s) Loss: 1.3494 Grad: 315999.1562  LR: 0.00001960  \n",
      "Epoch: [7][4500/8882] Elapsed 21m 52s (remain 21m 17s) Loss: 1.3502 Grad: 598889.3750  LR: 0.00001959  \n",
      "Epoch: [7][5000/8882] Elapsed 24m 17s (remain 18m 51s) Loss: 1.3486 Grad: 563558.5625  LR: 0.00001958  \n",
      "Epoch: [7][5500/8882] Elapsed 26m 43s (remain 16m 25s) Loss: 1.3469 Grad: 148886.9688  LR: 0.00001958  \n",
      "Epoch: [7][6000/8882] Elapsed 29m 8s (remain 13m 59s) Loss: 1.3495 Grad: 164713.5000  LR: 0.00001957  \n",
      "Epoch: [7][6500/8882] Elapsed 31m 32s (remain 11m 33s) Loss: 1.3509 Grad: 161789.1562  LR: 0.00001956  \n",
      "Epoch: [7][7000/8882] Elapsed 33m 57s (remain 9m 7s) Loss: 1.3512 Grad: 143364.3594  LR: 0.00001955  \n",
      "Epoch: [7][7500/8882] Elapsed 36m 21s (remain 6m 41s) Loss: 1.3517 Grad: 91369.2500  LR: 0.00001955  \n",
      "Epoch: [7][8000/8882] Elapsed 38m 46s (remain 4m 16s) Loss: 1.3538 Grad: 89740.8516  LR: 0.00001954  \n",
      "Epoch: [7][8500/8882] Elapsed 41m 11s (remain 1m 50s) Loss: 1.3549 Grad: 76040.8125  LR: 0.00001953  \n"
     ]
    },
    {
     "name": "stderr",
     "output_type": "stream",
     "text": [
      "Epoch 7: Train Loss 1.3557, elapsed 2581.2760s\n"
     ]
    },
    {
     "name": "stdout",
     "output_type": "stream",
     "text": [
      "Epoch: [7][8881/8882] Elapsed 43m 1s (remain 0m 0s) Loss: 1.3557 Grad: 109771.0703  LR: 0.00001953  \n",
      "Epoch: [8][0/8882] Elapsed 0m 0s (remain 52m 51s) Loss: 1.1683 Grad: 290815.0000  LR: 0.00001953  \n",
      "Epoch: [8][500/8882] Elapsed 2m 26s (remain 40m 47s) Loss: 1.3194 Grad: 297502.7500  LR: 0.00001952  \n",
      "Epoch: [8][1000/8882] Elapsed 4m 51s (remain 38m 11s) Loss: 1.3189 Grad: 344959.1562  LR: 0.00001951  \n",
      "Epoch: [8][1500/8882] Elapsed 7m 15s (remain 35m 42s) Loss: 1.3178 Grad: 331125.2500  LR: 0.00001950  \n",
      "Epoch: [8][2000/8882] Elapsed 9m 40s (remain 33m 16s) Loss: 1.3132 Grad: 664868.2500  LR: 0.00001950  \n",
      "Epoch: [8][2500/8882] Elapsed 12m 5s (remain 30m 50s) Loss: 1.3118 Grad: 627740.1875  LR: 0.00001949  \n",
      "Epoch: [8][3000/8882] Elapsed 14m 30s (remain 28m 25s) Loss: 1.3093 Grad: 369661.0938  LR: 0.00001948  \n",
      "Epoch: [8][3500/8882] Elapsed 16m 55s (remain 26m 0s) Loss: 1.3127 Grad: 169741.6562  LR: 0.00001947  \n",
      "Epoch: [8][4000/8882] Elapsed 19m 20s (remain 23m 35s) Loss: 1.3158 Grad: 149638.7656  LR: 0.00001946  \n",
      "Epoch: [8][4500/8882] Elapsed 21m 44s (remain 21m 10s) Loss: 1.3163 Grad: 183773.3125  LR: 0.00001946  \n",
      "Epoch: [8][5000/8882] Elapsed 24m 10s (remain 18m 45s) Loss: 1.3187 Grad: 181334.4219  LR: 0.00001945  \n",
      "Epoch: [8][5500/8882] Elapsed 26m 35s (remain 16m 20s) Loss: 1.3194 Grad: 321130.5938  LR: 0.00001944  \n",
      "Epoch: [8][6000/8882] Elapsed 28m 59s (remain 13m 55s) Loss: 1.3174 Grad: 381904.0312  LR: 0.00001943  \n",
      "Epoch: [8][6500/8882] Elapsed 31m 24s (remain 11m 30s) Loss: 1.3161 Grad: 321187.1562  LR: 0.00001942  \n",
      "Epoch: [8][7000/8882] Elapsed 33m 48s (remain 9m 5s) Loss: 1.3163 Grad: 380376.3438  LR: 0.00001941  \n",
      "Epoch: [8][7500/8882] Elapsed 36m 13s (remain 6m 40s) Loss: 1.3155 Grad: 621572.0625  LR: 0.00001941  \n",
      "Epoch: [8][8000/8882] Elapsed 38m 39s (remain 4m 15s) Loss: 1.3135 Grad: 644601.8125  LR: 0.00001940  \n",
      "Epoch: [8][8500/8882] Elapsed 41m 3s (remain 1m 50s) Loss: 1.3131 Grad: 616952.7500  LR: 0.00001939  \n"
     ]
    },
    {
     "name": "stderr",
     "output_type": "stream",
     "text": [
      "Epoch 8: Train Loss 1.3126, elapsed 2573.5248s\n"
     ]
    },
    {
     "name": "stdout",
     "output_type": "stream",
     "text": [
      "Epoch: [8][8881/8882] Elapsed 42m 53s (remain 0m 0s) Loss: 1.3126 Grad: 815043.1250  LR: 0.00001938  \n",
      "Epoch: [9][0/8882] Elapsed 0m 0s (remain 51m 12s) Loss: 1.1130 Grad: 289168.3750  LR: 0.00001938  \n",
      "Epoch: [9][500/8882] Elapsed 2m 25s (remain 40m 40s) Loss: 1.2840 Grad: 323576.6250  LR: 0.00001937  \n",
      "Epoch: [9][1000/8882] Elapsed 4m 50s (remain 38m 8s) Loss: 1.2891 Grad: 442619.9688  LR: 0.00001937  \n",
      "Epoch: [9][1500/8882] Elapsed 7m 15s (remain 35m 41s) Loss: 1.2868 Grad: 284786.8438  LR: 0.00001936  \n",
      "Epoch: [9][2000/8882] Elapsed 9m 39s (remain 33m 14s) Loss: 1.2867 Grad: 571627.3125  LR: 0.00001935  \n",
      "Epoch: [9][2500/8882] Elapsed 12m 4s (remain 30m 48s) Loss: 1.2868 Grad: 825734.5625  LR: 0.00001934  \n",
      "Epoch: [9][3000/8882] Elapsed 14m 29s (remain 28m 24s) Loss: 1.2818 Grad: 689734.2500  LR: 0.00001933  \n",
      "Epoch: [9][3500/8882] Elapsed 16m 54s (remain 25m 59s) Loss: 1.2829 Grad: 628279.6250  LR: 0.00001932  \n",
      "Epoch: [9][4000/8882] Elapsed 19m 19s (remain 23m 34s) Loss: 1.2829 Grad: 1252770.8750  LR: 0.00001931  \n",
      "Epoch: [9][4500/8882] Elapsed 21m 44s (remain 21m 9s) Loss: 1.2802 Grad: 538976.5000  LR: 0.00001930  \n",
      "Epoch: [9][5000/8882] Elapsed 24m 9s (remain 18m 44s) Loss: 1.2786 Grad: 575216.1875  LR: 0.00001929  \n",
      "Epoch: [9][5500/8882] Elapsed 26m 33s (remain 16m 19s) Loss: 1.2769 Grad: 311122.2812  LR: 0.00001929  \n",
      "Epoch: [9][6000/8882] Elapsed 28m 59s (remain 13m 54s) Loss: 1.2769 Grad: 302287.5000  LR: 0.00001928  \n",
      "Epoch: [9][6500/8882] Elapsed 31m 24s (remain 11m 30s) Loss: 1.2767 Grad: 330338.7188  LR: 0.00001927  \n",
      "Epoch: [9][7000/8882] Elapsed 33m 48s (remain 9m 5s) Loss: 1.2778 Grad: 335133.3125  LR: 0.00001926  \n",
      "Epoch: [9][7500/8882] Elapsed 36m 13s (remain 6m 40s) Loss: 1.2782 Grad: 595226.1875  LR: 0.00001925  \n",
      "Epoch: [9][8000/8882] Elapsed 38m 38s (remain 4m 15s) Loss: 1.2772 Grad: 593528.2500  LR: 0.00001924  \n",
      "Epoch: [9][8500/8882] Elapsed 41m 2s (remain 1m 50s) Loss: 1.2765 Grad: 313868.6562  LR: 0.00001923  \n"
     ]
    },
    {
     "name": "stderr",
     "output_type": "stream",
     "text": [
      "Epoch 9: Train Loss 1.2761, elapsed 2573.9113s\n"
     ]
    },
    {
     "name": "stdout",
     "output_type": "stream",
     "text": [
      "Epoch: [9][8881/8882] Elapsed 42m 53s (remain 0m 0s) Loss: 1.2761 Grad: 418203.3438  LR: 0.00001922  \n",
      "Epoch: [10][0/8882] Elapsed 0m 0s (remain 51m 26s) Loss: 1.6918 Grad: 395139.6562  LR: 0.00001922  \n",
      "Epoch: [10][500/8882] Elapsed 2m 25s (remain 40m 40s) Loss: 1.2797 Grad: 141711.4375  LR: 0.00001921  \n",
      "Epoch: [10][1000/8882] Elapsed 4m 50s (remain 38m 7s) Loss: 1.2862 Grad: 158539.3125  LR: 0.00001920  \n",
      "Epoch: [10][1500/8882] Elapsed 7m 15s (remain 35m 40s) Loss: 1.2885 Grad: 154384.1719  LR: 0.00001919  \n",
      "Epoch: [10][2000/8882] Elapsed 9m 39s (remain 33m 14s) Loss: 1.2892 Grad: 155494.0156  LR: 0.00001918  \n",
      "Epoch: [10][2500/8882] Elapsed 12m 5s (remain 30m 50s) Loss: 1.2888 Grad: 341078.5000  LR: 0.00001917  \n",
      "Epoch: [10][3000/8882] Elapsed 14m 31s (remain 28m 28s) Loss: 1.2839 Grad: 319997.0625  LR: 0.00001916  \n",
      "Epoch: [10][3500/8882] Elapsed 16m 57s (remain 26m 3s) Loss: 1.2784 Grad: 324317.4062  LR: 0.00001915  \n",
      "Epoch: [10][4000/8882] Elapsed 19m 22s (remain 23m 38s) Loss: 1.2743 Grad: 332157.0312  LR: 0.00001914  \n",
      "Epoch: [10][4500/8882] Elapsed 21m 47s (remain 21m 12s) Loss: 1.2722 Grad: 527086.0000  LR: 0.00001913  \n",
      "Epoch: [10][5000/8882] Elapsed 24m 12s (remain 18m 47s) Loss: 1.2706 Grad: 714808.4375  LR: 0.00001912  \n",
      "Epoch: [10][5500/8882] Elapsed 26m 37s (remain 16m 21s) Loss: 1.2695 Grad: 690068.0000  LR: 0.00001911  \n",
      "Epoch: [10][6000/8882] Elapsed 29m 2s (remain 13m 56s) Loss: 1.2694 Grad: 338935.5938  LR: 0.00001910  \n",
      "Epoch: [10][6500/8882] Elapsed 31m 26s (remain 11m 31s) Loss: 1.2680 Grad: 356074.0625  LR: 0.00001909  \n",
      "Epoch: [10][7000/8882] Elapsed 33m 51s (remain 9m 5s) Loss: 1.2674 Grad: 331197.7812  LR: 0.00001908  \n",
      "Epoch: [10][7500/8882] Elapsed 36m 15s (remain 6m 40s) Loss: 1.2676 Grad: 298917.0938  LR: 0.00001907  \n",
      "Epoch: [10][8000/8882] Elapsed 38m 40s (remain 4m 15s) Loss: 1.2672 Grad: 607315.6875  LR: 0.00001906  \n",
      "Epoch: [10][8500/8882] Elapsed 41m 5s (remain 1m 50s) Loss: 1.2654 Grad: 703853.9375  LR: 0.00001905  \n"
     ]
    },
    {
     "name": "stderr",
     "output_type": "stream",
     "text": [
      "Epoch 10: Train Loss 1.2624, elapsed 2576.3360s\n"
     ]
    },
    {
     "name": "stdout",
     "output_type": "stream",
     "text": [
      "Epoch: [10][8881/8882] Elapsed 42m 56s (remain 0m 0s) Loss: 1.2624 Grad: 902484.4375  LR: 0.00001904  \n",
      "Epoch: [11][0/8882] Elapsed 0m 0s (remain 51m 46s) Loss: 1.2408 Grad: 603756.6250  LR: 0.00001904  \n",
      "Epoch: [11][500/8882] Elapsed 2m 25s (remain 40m 37s) Loss: 1.2542 Grad: 345016.9062  LR: 0.00001903  \n",
      "Epoch: [11][1000/8882] Elapsed 4m 50s (remain 38m 9s) Loss: 1.2649 Grad: 163390.1406  LR: 0.00001902  \n",
      "Epoch: [11][1500/8882] Elapsed 7m 15s (remain 35m 42s) Loss: 1.2640 Grad: 174677.6719  LR: 0.00001901  \n",
      "Epoch: [11][2000/8882] Elapsed 9m 40s (remain 33m 16s) Loss: 1.2644 Grad: 161327.7812  LR: 0.00001900  \n",
      "Epoch: [11][2500/8882] Elapsed 12m 5s (remain 30m 51s) Loss: 1.2649 Grad: 81284.9922  LR: 0.00001899  \n",
      "Epoch: [11][3000/8882] Elapsed 14m 30s (remain 28m 26s) Loss: 1.2720 Grad: 77672.9609  LR: 0.00001898  \n",
      "Epoch: [11][3500/8882] Elapsed 16m 56s (remain 26m 2s) Loss: 1.2731 Grad: 88717.2188  LR: 0.00001897  \n",
      "Epoch: [11][4000/8882] Elapsed 19m 22s (remain 23m 37s) Loss: 1.2740 Grad: 73200.0391  LR: 0.00001895  \n",
      "Epoch: [11][4500/8882] Elapsed 21m 47s (remain 21m 12s) Loss: 1.2744 Grad: 44264.5625  LR: 0.00001894  \n",
      "Epoch: [11][5000/8882] Elapsed 24m 11s (remain 18m 46s) Loss: 1.2760 Grad: 39323.4023  LR: 0.00001893  \n",
      "Epoch: [11][5500/8882] Elapsed 26m 36s (remain 16m 20s) Loss: 1.2786 Grad: 37280.0703  LR: 0.00001892  \n",
      "Epoch: [11][6000/8882] Elapsed 29m 1s (remain 13m 55s) Loss: 1.2801 Grad: 37787.7422  LR: 0.00001891  \n",
      "Epoch: [11][6500/8882] Elapsed 31m 25s (remain 11m 30s) Loss: 1.2797 Grad: 74866.6172  LR: 0.00001890  \n",
      "Epoch: [11][7000/8882] Elapsed 33m 50s (remain 9m 5s) Loss: 1.2780 Grad: 75468.6797  LR: 0.00001889  \n",
      "Epoch: [11][7500/8882] Elapsed 36m 15s (remain 6m 40s) Loss: 1.2767 Grad: 82259.0312  LR: 0.00001888  \n",
      "Epoch: [11][8000/8882] Elapsed 38m 41s (remain 4m 15s) Loss: 1.2747 Grad: 68262.1406  LR: 0.00001886  \n",
      "Epoch: [11][8500/8882] Elapsed 41m 8s (remain 1m 50s) Loss: 1.2734 Grad: 129858.6406  LR: 0.00001885  \n"
     ]
    },
    {
     "name": "stderr",
     "output_type": "stream",
     "text": [
      "Epoch 11: Train Loss 1.2723, elapsed 2581.0831s\n"
     ]
    },
    {
     "name": "stdout",
     "output_type": "stream",
     "text": [
      "Epoch: [11][8881/8882] Elapsed 43m 1s (remain 0m 0s) Loss: 1.2723 Grad: 196065.8906  LR: 0.00001884  \n",
      "Epoch: [12][0/8882] Elapsed 0m 0s (remain 51m 59s) Loss: 1.2851 Grad: 303919.5312  LR: 0.00001884  \n",
      "Epoch: [12][500/8882] Elapsed 2m 28s (remain 41m 31s) Loss: 1.2170 Grad: 384601.6875  LR: 0.00001883  \n",
      "Epoch: [12][1000/8882] Elapsed 4m 56s (remain 38m 57s) Loss: 1.2171 Grad: 290830.0938  LR: 0.00001882  \n",
      "Epoch: [12][1500/8882] Elapsed 7m 24s (remain 36m 26s) Loss: 1.2191 Grad: 394055.0625  LR: 0.00001881  \n",
      "Epoch: [12][2000/8882] Elapsed 9m 52s (remain 33m 56s) Loss: 1.2156 Grad: 572362.4375  LR: 0.00001880  \n",
      "Epoch: [12][2500/8882] Elapsed 12m 19s (remain 31m 27s) Loss: 1.2122 Grad: 710922.0000  LR: 0.00001879  \n",
      "Epoch: [12][3000/8882] Elapsed 14m 47s (remain 28m 58s) Loss: 1.2125 Grad: 354235.0312  LR: 0.00001877  \n",
      "Epoch: [12][3500/8882] Elapsed 17m 14s (remain 26m 30s) Loss: 1.2130 Grad: 377488.9062  LR: 0.00001876  \n",
      "Epoch: [12][4000/8882] Elapsed 19m 42s (remain 24m 2s) Loss: 1.2158 Grad: 305208.9062  LR: 0.00001875  \n",
      "Epoch: [12][4500/8882] Elapsed 22m 9s (remain 21m 34s) Loss: 1.2165 Grad: 305909.5938  LR: 0.00001874  \n",
      "Epoch: [12][5000/8882] Elapsed 24m 37s (remain 19m 6s) Loss: 1.2164 Grad: 522458.8750  LR: 0.00001873  \n",
      "Epoch: [12][5500/8882] Elapsed 27m 4s (remain 16m 38s) Loss: 1.2162 Grad: 578728.3750  LR: 0.00001871  \n",
      "Epoch: [12][6000/8882] Elapsed 29m 32s (remain 14m 11s) Loss: 1.2152 Grad: 626644.3125  LR: 0.00001870  \n",
      "Epoch: [12][6500/8882] Elapsed 32m 0s (remain 11m 43s) Loss: 1.2143 Grad: 626871.2500  LR: 0.00001869  \n",
      "Epoch: [12][7000/8882] Elapsed 34m 27s (remain 9m 15s) Loss: 1.2130 Grad: 310860.0000  LR: 0.00001868  \n",
      "Epoch: [12][7500/8882] Elapsed 36m 55s (remain 6m 47s) Loss: 1.2137 Grad: 315587.8750  LR: 0.00001866  \n",
      "Epoch: [12][8000/8882] Elapsed 39m 22s (remain 4m 20s) Loss: 1.2138 Grad: 300816.8438  LR: 0.00001865  \n",
      "Epoch: [12][8500/8882] Elapsed 41m 49s (remain 1m 52s) Loss: 1.2132 Grad: 326719.8438  LR: 0.00001864  \n"
     ]
    },
    {
     "name": "stderr",
     "output_type": "stream",
     "text": [
      "Epoch 12: Train Loss 1.2130, elapsed 2622.6098s\n"
     ]
    },
    {
     "name": "stdout",
     "output_type": "stream",
     "text": [
      "Epoch: [12][8881/8882] Elapsed 43m 42s (remain 0m 0s) Loss: 1.2130 Grad: 769568.3750  LR: 0.00001863  \n",
      "Epoch: [13][0/8882] Elapsed 0m 0s (remain 51m 35s) Loss: 1.2336 Grad: 337916.0000  LR: 0.00001863  \n",
      "Epoch: [13][500/8882] Elapsed 2m 28s (remain 41m 26s) Loss: 1.1990 Grad: 300857.3750  LR: 0.00001862  \n",
      "Epoch: [13][1000/8882] Elapsed 4m 56s (remain 38m 52s) Loss: 1.2058 Grad: 339556.1250  LR: 0.00001860  \n",
      "Epoch: [13][1500/8882] Elapsed 7m 24s (remain 36m 23s) Loss: 1.2053 Grad: 303512.2188  LR: 0.00001859  \n",
      "Epoch: [13][2000/8882] Elapsed 9m 52s (remain 33m 56s) Loss: 1.2071 Grad: 531301.0625  LR: 0.00001858  \n",
      "Epoch: [13][2500/8882] Elapsed 12m 19s (remain 31m 27s) Loss: 1.2064 Grad: 678254.5000  LR: 0.00001857  \n",
      "Epoch: [13][3000/8882] Elapsed 14m 47s (remain 28m 59s) Loss: 1.2021 Grad: 623146.6250  LR: 0.00001855  \n",
      "Epoch: [13][3500/8882] Elapsed 17m 15s (remain 26m 31s) Loss: 1.2011 Grad: 585860.6250  LR: 0.00001854  \n",
      "Epoch: [13][4000/8882] Elapsed 19m 42s (remain 24m 3s) Loss: 1.2012 Grad: 1358955.2500  LR: 0.00001853  \n",
      "Epoch: [13][4500/8882] Elapsed 22m 10s (remain 21m 34s) Loss: 1.1995 Grad: 675015.1875  LR: 0.00001851  \n",
      "Epoch: [13][5000/8882] Elapsed 24m 37s (remain 19m 6s) Loss: 1.1981 Grad: 665038.1875  LR: 0.00001850  \n",
      "Epoch: [13][5500/8882] Elapsed 27m 5s (remain 16m 38s) Loss: 1.1964 Grad: 603240.1875  LR: 0.00001849  \n",
      "Epoch: [13][6000/8882] Elapsed 29m 32s (remain 14m 11s) Loss: 1.1944 Grad: 664222.3125  LR: 0.00001848  \n",
      "Epoch: [13][6500/8882] Elapsed 32m 0s (remain 11m 43s) Loss: 1.1942 Grad: 761768.9375  LR: 0.00001846  \n",
      "Epoch: [13][7000/8882] Elapsed 34m 28s (remain 9m 15s) Loss: 1.1938 Grad: 716370.1250  LR: 0.00001845  \n",
      "Epoch: [13][7500/8882] Elapsed 36m 55s (remain 6m 47s) Loss: 1.1927 Grad: 643077.9375  LR: 0.00001844  \n",
      "Epoch: [13][8000/8882] Elapsed 39m 23s (remain 4m 20s) Loss: 1.1920 Grad: 553032.3750  LR: 0.00001842  \n",
      "Epoch: [13][8500/8882] Elapsed 41m 50s (remain 1m 52s) Loss: 1.1910 Grad: 575177.2500  LR: 0.00001841  \n"
     ]
    },
    {
     "name": "stderr",
     "output_type": "stream",
     "text": [
      "Epoch 13: Train Loss 1.1902, elapsed 2623.6771s\n"
     ]
    },
    {
     "name": "stdout",
     "output_type": "stream",
     "text": [
      "Epoch: [13][8881/8882] Elapsed 43m 43s (remain 0m 0s) Loss: 1.1902 Grad: 877334.6250  LR: 0.00001840  \n",
      "Epoch: [14][0/8882] Elapsed 0m 0s (remain 50m 43s) Loss: 1.1328 Grad: 326619.7188  LR: 0.00001840  \n",
      "Epoch: [14][500/8882] Elapsed 2m 29s (remain 41m 32s) Loss: 1.1849 Grad: 318648.4375  LR: 0.00001838  \n",
      "Epoch: [14][1000/8882] Elapsed 4m 56s (remain 38m 56s) Loss: 1.1963 Grad: 334006.2812  LR: 0.00001837  \n",
      "Epoch: [14][1500/8882] Elapsed 7m 25s (remain 36m 28s) Loss: 1.1933 Grad: 327130.6250  LR: 0.00001836  \n",
      "Epoch: [14][2000/8882] Elapsed 9m 52s (remain 33m 58s) Loss: 1.1905 Grad: 489977.4062  LR: 0.00001834  \n",
      "Epoch: [14][2500/8882] Elapsed 12m 20s (remain 31m 30s) Loss: 1.1877 Grad: 540610.3750  LR: 0.00001833  \n",
      "Epoch: [14][3000/8882] Elapsed 14m 49s (remain 29m 2s) Loss: 1.1846 Grad: 280882.2500  LR: 0.00001832  \n",
      "Epoch: [14][3500/8882] Elapsed 17m 16s (remain 26m 33s) Loss: 1.1838 Grad: 334849.9688  LR: 0.00001830  \n",
      "Epoch: [14][4000/8882] Elapsed 19m 44s (remain 24m 5s) Loss: 1.1846 Grad: 310584.0938  LR: 0.00001829  \n",
      "Epoch: [14][4500/8882] Elapsed 22m 12s (remain 21m 37s) Loss: 1.1876 Grad: 350699.6562  LR: 0.00001827  \n",
      "Epoch: [14][5000/8882] Elapsed 24m 40s (remain 19m 8s) Loss: 1.1855 Grad: 598899.1250  LR: 0.00001826  \n",
      "Epoch: [14][5500/8882] Elapsed 27m 7s (remain 16m 40s) Loss: 1.1846 Grad: 701417.7500  LR: 0.00001825  \n",
      "Epoch: [14][6000/8882] Elapsed 29m 35s (remain 14m 12s) Loss: 1.1833 Grad: 270017.8750  LR: 0.00001823  \n",
      "Epoch: [14][6500/8882] Elapsed 32m 3s (remain 11m 44s) Loss: 1.1842 Grad: 145418.1406  LR: 0.00001822  \n",
      "Epoch: [14][7000/8882] Elapsed 34m 30s (remain 9m 16s) Loss: 1.1871 Grad: 179486.8125  LR: 0.00001820  \n",
      "Epoch: [14][7500/8882] Elapsed 36m 58s (remain 6m 48s) Loss: 1.1897 Grad: 84534.2031  LR: 0.00001819  \n",
      "Epoch: [14][8000/8882] Elapsed 39m 26s (remain 4m 20s) Loss: 1.1919 Grad: 81533.9219  LR: 0.00001818  \n",
      "Epoch: [14][8500/8882] Elapsed 41m 53s (remain 1m 52s) Loss: 1.1946 Grad: 41614.6289  LR: 0.00001816  \n"
     ]
    },
    {
     "name": "stderr",
     "output_type": "stream",
     "text": [
      "Epoch 14: Train Loss 1.1970, elapsed 2625.6107s\n"
     ]
    },
    {
     "name": "stdout",
     "output_type": "stream",
     "text": [
      "Epoch: [14][8881/8882] Elapsed 43m 45s (remain 0m 0s) Loss: 1.1970 Grad: 53169.3555  LR: 0.00001815  \n",
      "Epoch: [15][0/8882] Elapsed 0m 0s (remain 51m 56s) Loss: 0.9312 Grad: 438826.3125  LR: 0.00001815  \n",
      "Epoch: [15][500/8882] Elapsed 2m 28s (remain 41m 25s) Loss: 1.2153 Grad: 160022.3906  LR: 0.00001814  \n",
      "Epoch: [15][1000/8882] Elapsed 4m 56s (remain 38m 52s) Loss: 1.2035 Grad: 165752.0000  LR: 0.00001812  \n",
      "Epoch: [15][1500/8882] Elapsed 7m 23s (remain 36m 22s) Loss: 1.1971 Grad: 137366.8125  LR: 0.00001811  \n",
      "Epoch: [15][2000/8882] Elapsed 9m 51s (remain 33m 53s) Loss: 1.1929 Grad: 148110.6094  LR: 0.00001809  \n",
      "Epoch: [15][2500/8882] Elapsed 12m 18s (remain 31m 25s) Loss: 1.1907 Grad: 279819.6562  LR: 0.00001808  \n",
      "Epoch: [15][3000/8882] Elapsed 14m 46s (remain 28m 57s) Loss: 1.1851 Grad: 335362.6562  LR: 0.00001806  \n",
      "Epoch: [15][3500/8882] Elapsed 17m 14s (remain 26m 30s) Loss: 1.1830 Grad: 340649.5938  LR: 0.00001805  \n",
      "Epoch: [15][4000/8882] Elapsed 19m 41s (remain 24m 1s) Loss: 1.1816 Grad: 293925.8750  LR: 0.00001803  \n",
      "Epoch: [15][4500/8882] Elapsed 22m 9s (remain 21m 34s) Loss: 1.1795 Grad: 403819.2812  LR: 0.00001802  \n",
      "Epoch: [15][5000/8882] Elapsed 24m 36s (remain 19m 6s) Loss: 1.1782 Grad: 639425.1875  LR: 0.00001800  \n",
      "Epoch: [15][5500/8882] Elapsed 27m 4s (remain 16m 38s) Loss: 1.1776 Grad: 684743.6250  LR: 0.00001799  \n",
      "Epoch: [15][6000/8882] Elapsed 29m 32s (remain 14m 10s) Loss: 1.1774 Grad: 645898.6875  LR: 0.00001797  \n",
      "Epoch: [15][6500/8882] Elapsed 31m 59s (remain 11m 43s) Loss: 1.1756 Grad: 319435.8750  LR: 0.00001796  \n",
      "Epoch: [15][7000/8882] Elapsed 34m 27s (remain 9m 15s) Loss: 1.1754 Grad: 165132.6719  LR: 0.00001794  \n",
      "Epoch: [15][7500/8882] Elapsed 36m 54s (remain 6m 47s) Loss: 1.1762 Grad: 130590.7422  LR: 0.00001793  \n",
      "Epoch: [15][8000/8882] Elapsed 39m 21s (remain 4m 20s) Loss: 1.1781 Grad: 69805.1953  LR: 0.00001791  \n",
      "Epoch: [15][8500/8882] Elapsed 41m 49s (remain 1m 52s) Loss: 1.1803 Grad: 74711.9844  LR: 0.00001790  \n"
     ]
    },
    {
     "name": "stderr",
     "output_type": "stream",
     "text": [
      "Epoch 15: Train Loss 1.1819, elapsed 2621.9764s\n"
     ]
    },
    {
     "name": "stdout",
     "output_type": "stream",
     "text": [
      "Epoch: [15][8881/8882] Elapsed 43m 41s (remain 0m 0s) Loss: 1.1819 Grad: 71992.0625  LR: 0.00001789  \n",
      "Epoch: [16][0/8882] Elapsed 0m 0s (remain 50m 39s) Loss: 1.3426 Grad: 385775.4062  LR: 0.00001789  \n",
      "Epoch: [16][500/8882] Elapsed 2m 29s (remain 41m 37s) Loss: 1.2143 Grad: 256627.6719  LR: 0.00001787  \n",
      "Epoch: [16][1000/8882] Elapsed 4m 56s (remain 38m 57s) Loss: 1.1976 Grad: 327494.1875  LR: 0.00001786  \n",
      "Epoch: [16][1500/8882] Elapsed 7m 24s (remain 36m 25s) Loss: 1.1901 Grad: 264515.0625  LR: 0.00001784  \n",
      "Epoch: [16][2000/8882] Elapsed 9m 49s (remain 33m 46s) Loss: 1.1849 Grad: 566004.8125  LR: 0.00001783  \n",
      "Epoch: [16][2500/8882] Elapsed 12m 13s (remain 31m 12s) Loss: 1.1776 Grad: 123886.2969  LR: 0.00001781  \n",
      "Epoch: [16][3000/8882] Elapsed 14m 38s (remain 28m 41s) Loss: 1.1761 Grad: 121030.4844  LR: 0.00001779  \n",
      "Epoch: [16][3500/8882] Elapsed 17m 2s (remain 26m 11s) Loss: 1.1771 Grad: 18113.8945  LR: 0.00001778  \n",
      "Epoch: [16][4000/8882] Elapsed 19m 26s (remain 23m 43s) Loss: 1.1877 Grad: 17917.8887  LR: 0.00001776  \n",
      "Epoch: [16][4500/8882] Elapsed 21m 51s (remain 21m 16s) Loss: 1.1928 Grad: 18425.1992  LR: 0.00001775  \n",
      "Epoch: [16][5000/8882] Elapsed 24m 15s (remain 18m 49s) Loss: 1.1949 Grad: 18091.7129  LR: 0.00001773  \n",
      "Epoch: [16][5500/8882] Elapsed 26m 39s (remain 16m 23s) Loss: 1.1977 Grad: 38109.5273  LR: 0.00001772  \n",
      "Epoch: [16][6000/8882] Elapsed 29m 4s (remain 13m 57s) Loss: 1.1991 Grad: 45120.3633  LR: 0.00001770  \n",
      "Epoch: [16][6500/8882] Elapsed 31m 28s (remain 11m 31s) Loss: 1.1988 Grad: 37140.2695  LR: 0.00001768  \n",
      "Epoch: [16][7000/8882] Elapsed 33m 55s (remain 9m 6s) Loss: 1.1977 Grad: 35046.8125  LR: 0.00001767  \n",
      "Epoch: [16][7500/8882] Elapsed 36m 20s (remain 6m 41s) Loss: 1.1976 Grad: 74459.9766  LR: 0.00001765  \n",
      "Epoch: [16][8000/8882] Elapsed 38m 45s (remain 4m 16s) Loss: 1.1968 Grad: 79449.9297  LR: 0.00001764  \n",
      "Epoch: [16][8500/8882] Elapsed 41m 9s (remain 1m 50s) Loss: 1.1957 Grad: 74390.0938  LR: 0.00001762  \n"
     ]
    },
    {
     "name": "stderr",
     "output_type": "stream",
     "text": [
      "Epoch 16: Train Loss 1.1954, elapsed 2579.7637s\n"
     ]
    },
    {
     "name": "stdout",
     "output_type": "stream",
     "text": [
      "Epoch: [16][8881/8882] Elapsed 42m 59s (remain 0m 0s) Loss: 1.1954 Grad: 127853.8203  LR: 0.00001761  \n",
      "Epoch: [17][0/8882] Elapsed 0m 0s (remain 52m 23s) Loss: 1.0759 Grad: 292213.2500  LR: 0.00001761  \n",
      "Epoch: [17][500/8882] Elapsed 2m 25s (remain 40m 27s) Loss: 1.1691 Grad: 309415.5000  LR: 0.00001759  \n",
      "Epoch: [17][1000/8882] Elapsed 4m 48s (remain 37m 55s) Loss: 1.1631 Grad: 334326.7500  LR: 0.00001758  \n",
      "Epoch: [17][1500/8882] Elapsed 7m 13s (remain 35m 29s) Loss: 1.1601 Grad: 286887.2188  LR: 0.00001756  \n",
      "Epoch: [17][2000/8882] Elapsed 9m 36s (remain 33m 3s) Loss: 1.1531 Grad: 476832.9062  LR: 0.00001754  \n",
      "Epoch: [17][2500/8882] Elapsed 12m 1s (remain 30m 41s) Loss: 1.1522 Grad: 620267.0625  LR: 0.00001753  \n",
      "Epoch: [17][3000/8882] Elapsed 14m 27s (remain 28m 19s) Loss: 1.1493 Grad: 676744.4375  LR: 0.00001751  \n",
      "Epoch: [17][3500/8882] Elapsed 16m 53s (remain 25m 57s) Loss: 1.1448 Grad: 515922.0938  LR: 0.00001749  \n",
      "Epoch: [17][4000/8882] Elapsed 19m 18s (remain 23m 33s) Loss: 1.1467 Grad: 1225916.1250  LR: 0.00001748  \n",
      "Epoch: [17][4500/8882] Elapsed 21m 43s (remain 21m 8s) Loss: 1.1477 Grad: 313753.5625  LR: 0.00001746  \n",
      "Epoch: [17][5000/8882] Elapsed 24m 8s (remain 18m 43s) Loss: 1.1481 Grad: 283385.6250  LR: 0.00001744  \n",
      "Epoch: [17][5500/8882] Elapsed 26m 33s (remain 16m 19s) Loss: 1.1488 Grad: 238439.6406  LR: 0.00001743  \n",
      "Epoch: [17][6000/8882] Elapsed 28m 58s (remain 13m 54s) Loss: 1.1484 Grad: 391091.9375  LR: 0.00001741  \n",
      "Epoch: [17][6500/8882] Elapsed 31m 24s (remain 11m 30s) Loss: 1.1489 Grad: 568162.2500  LR: 0.00001739  \n",
      "Epoch: [17][7000/8882] Elapsed 33m 49s (remain 9m 5s) Loss: 1.1483 Grad: 322415.9375  LR: 0.00001738  \n",
      "Epoch: [17][7500/8882] Elapsed 36m 14s (remain 6m 40s) Loss: 1.1486 Grad: 259589.2656  LR: 0.00001736  \n",
      "Epoch: [17][8000/8882] Elapsed 38m 39s (remain 4m 15s) Loss: 1.1481 Grad: 309218.7500  LR: 0.00001734  \n",
      "Epoch: [17][8500/8882] Elapsed 41m 4s (remain 1m 50s) Loss: 1.1475 Grad: 275064.4375  LR: 0.00001733  \n"
     ]
    },
    {
     "name": "stderr",
     "output_type": "stream",
     "text": [
      "Epoch 17: Train Loss 1.1483, elapsed 2575.5378s\n"
     ]
    },
    {
     "name": "stdout",
     "output_type": "stream",
     "text": [
      "Epoch: [17][8881/8882] Elapsed 42m 55s (remain 0m 0s) Loss: 1.1483 Grad: 202176.9219  LR: 0.00001731  \n",
      "Epoch: [18][0/8882] Elapsed 0m 0s (remain 51m 19s) Loss: 1.1168 Grad: 284360.0938  LR: 0.00001731  \n",
      "Epoch: [18][500/8882] Elapsed 2m 27s (remain 41m 2s) Loss: 1.1544 Grad: 255419.6094  LR: 0.00001730  \n",
      "Epoch: [18][1000/8882] Elapsed 4m 53s (remain 38m 27s) Loss: 1.1503 Grad: 306276.3125  LR: 0.00001728  \n",
      "Epoch: [18][1500/8882] Elapsed 7m 18s (remain 35m 55s) Loss: 1.1538 Grad: 160881.5781  LR: 0.00001726  \n",
      "Epoch: [18][2000/8882] Elapsed 9m 43s (remain 33m 27s) Loss: 1.1536 Grad: 154126.6250  LR: 0.00001725  \n",
      "Epoch: [18][2500/8882] Elapsed 12m 8s (remain 30m 59s) Loss: 1.1545 Grad: 146171.7812  LR: 0.00001723  \n",
      "Epoch: [18][3000/8882] Elapsed 14m 34s (remain 28m 33s) Loss: 1.1560 Grad: 129444.5625  LR: 0.00001721  \n",
      "Epoch: [18][3500/8882] Elapsed 16m 59s (remain 26m 6s) Loss: 1.1546 Grad: 354286.6250  LR: 0.00001719  \n",
      "Epoch: [18][4000/8882] Elapsed 19m 24s (remain 23m 40s) Loss: 1.1561 Grad: 142218.7500  LR: 0.00001718  \n",
      "Epoch: [18][4500/8882] Elapsed 21m 47s (remain 21m 12s) Loss: 1.1563 Grad: 160469.7188  LR: 0.00001716  \n",
      "Epoch: [18][5000/8882] Elapsed 24m 12s (remain 18m 46s) Loss: 1.1557 Grad: 145265.6562  LR: 0.00001714  \n",
      "Epoch: [18][5500/8882] Elapsed 26m 35s (remain 16m 20s) Loss: 1.1553 Grad: 164961.8750  LR: 0.00001713  \n",
      "Epoch: [18][6000/8882] Elapsed 28m 59s (remain 13m 55s) Loss: 1.1550 Grad: 278357.3438  LR: 0.00001711  \n",
      "Epoch: [18][6500/8882] Elapsed 31m 24s (remain 11m 30s) Loss: 1.1539 Grad: 282072.5938  LR: 0.00001709  \n",
      "Epoch: [18][7000/8882] Elapsed 33m 49s (remain 9m 5s) Loss: 1.1533 Grad: 248781.2344  LR: 0.00001707  \n",
      "Epoch: [18][7500/8882] Elapsed 36m 14s (remain 6m 40s) Loss: 1.1520 Grad: 171461.7031  LR: 0.00001706  \n",
      "Epoch: [18][8000/8882] Elapsed 38m 39s (remain 4m 15s) Loss: 1.1513 Grad: 138605.4688  LR: 0.00001704  \n",
      "Epoch: [18][8500/8882] Elapsed 41m 4s (remain 1m 50s) Loss: 1.1516 Grad: 146713.8125  LR: 0.00001702  \n"
     ]
    },
    {
     "name": "stderr",
     "output_type": "stream",
     "text": [
      "Epoch 18: Train Loss 1.1519, elapsed 2574.6422s\n"
     ]
    },
    {
     "name": "stdout",
     "output_type": "stream",
     "text": [
      "Epoch: [18][8881/8882] Elapsed 42m 54s (remain 0m 0s) Loss: 1.1519 Grad: 194914.8125  LR: 0.00001701  \n",
      "Epoch: [19][0/8882] Elapsed 0m 0s (remain 52m 46s) Loss: 1.0798 Grad: 281274.4688  LR: 0.00001701  \n",
      "Epoch: [19][500/8882] Elapsed 2m 26s (remain 40m 46s) Loss: 1.1318 Grad: 319144.1875  LR: 0.00001699  \n",
      "Epoch: [19][1000/8882] Elapsed 4m 51s (remain 38m 12s) Loss: 1.1293 Grad: 298405.8438  LR: 0.00001697  \n",
      "Epoch: [19][1500/8882] Elapsed 7m 16s (remain 35m 44s) Loss: 1.1273 Grad: 286300.0938  LR: 0.00001695  \n",
      "Epoch: [19][2000/8882] Elapsed 9m 41s (remain 33m 18s) Loss: 1.1288 Grad: 499392.5938  LR: 0.00001694  \n",
      "Epoch: [19][2500/8882] Elapsed 12m 6s (remain 30m 53s) Loss: 1.1259 Grad: 296599.8125  LR: 0.00001692  \n",
      "Epoch: [19][3000/8882] Elapsed 14m 31s (remain 28m 28s) Loss: 1.1249 Grad: 304593.6250  LR: 0.00001690  \n",
      "Epoch: [19][3500/8882] Elapsed 16m 56s (remain 26m 2s) Loss: 1.1259 Grad: 122061.7031  LR: 0.00001688  \n",
      "Epoch: [19][4000/8882] Elapsed 19m 19s (remain 23m 34s) Loss: 1.1276 Grad: 144282.0312  LR: 0.00001686  \n",
      "Epoch: [19][4500/8882] Elapsed 21m 43s (remain 21m 8s) Loss: 1.1301 Grad: 167583.5938  LR: 0.00001685  \n",
      "Epoch: [19][5000/8882] Elapsed 24m 6s (remain 18m 42s) Loss: 1.1321 Grad: 164153.0000  LR: 0.00001683  \n",
      "Epoch: [19][5500/8882] Elapsed 26m 30s (remain 16m 17s) Loss: 1.1319 Grad: 267262.1875  LR: 0.00001681  \n",
      "Epoch: [19][6000/8882] Elapsed 28m 53s (remain 13m 52s) Loss: 1.1322 Grad: 138616.2812  LR: 0.00001679  \n",
      "Epoch: [19][6500/8882] Elapsed 31m 17s (remain 11m 27s) Loss: 1.1341 Grad: 189995.1094  LR: 0.00001677  \n",
      "Epoch: [19][7000/8882] Elapsed 33m 41s (remain 9m 3s) Loss: 1.1350 Grad: 145854.2656  LR: 0.00001675  \n",
      "Epoch: [19][7500/8882] Elapsed 36m 5s (remain 6m 38s) Loss: 1.1352 Grad: 143468.8750  LR: 0.00001674  \n",
      "Epoch: [19][8000/8882] Elapsed 38m 28s (remain 4m 14s) Loss: 1.1352 Grad: 298422.2500  LR: 0.00001672  \n",
      "Epoch: [19][8500/8882] Elapsed 40m 53s (remain 1m 49s) Loss: 1.1341 Grad: 359912.4062  LR: 0.00001670  \n"
     ]
    },
    {
     "name": "stderr",
     "output_type": "stream",
     "text": [
      "Epoch 19: Train Loss 1.1337, elapsed 2564.0619s\n"
     ]
    },
    {
     "name": "stdout",
     "output_type": "stream",
     "text": [
      "Epoch: [19][8881/8882] Elapsed 42m 44s (remain 0m 0s) Loss: 1.1337 Grad: 349459.1875  LR: 0.00001668  \n",
      "Epoch: [20][0/8882] Elapsed 0m 0s (remain 50m 23s) Loss: 0.6760 Grad: 237296.2812  LR: 0.00001668  \n",
      "Epoch: [20][500/8882] Elapsed 2m 25s (remain 40m 40s) Loss: 1.1074 Grad: 158810.5156  LR: 0.00001667  \n",
      "Epoch: [20][1000/8882] Elapsed 4m 50s (remain 38m 4s) Loss: 1.1166 Grad: 140198.1250  LR: 0.00001665  \n",
      "Epoch: [20][1500/8882] Elapsed 7m 14s (remain 35m 35s) Loss: 1.1193 Grad: 145014.8281  LR: 0.00001663  \n",
      "Epoch: [20][2000/8882] Elapsed 9m 38s (remain 33m 8s) Loss: 1.1222 Grad: 124960.6406  LR: 0.00001661  \n",
      "Epoch: [20][2500/8882] Elapsed 12m 2s (remain 30m 42s) Loss: 1.1258 Grad: 310623.0312  LR: 0.00001659  \n",
      "Epoch: [20][3000/8882] Elapsed 14m 26s (remain 28m 17s) Loss: 1.1234 Grad: 362238.9688  LR: 0.00001657  \n",
      "Epoch: [20][3500/8882] Elapsed 16m 49s (remain 25m 51s) Loss: 1.1196 Grad: 291116.1875  LR: 0.00001655  \n",
      "Epoch: [20][4000/8882] Elapsed 19m 13s (remain 23m 26s) Loss: 1.1198 Grad: 293312.3125  LR: 0.00001654  \n",
      "Epoch: [20][4500/8882] Elapsed 21m 36s (remain 21m 2s) Loss: 1.1191 Grad: 675520.6875  LR: 0.00001652  \n",
      "Epoch: [20][5000/8882] Elapsed 24m 0s (remain 18m 37s) Loss: 1.1177 Grad: 328712.4375  LR: 0.00001650  \n",
      "Epoch: [20][5500/8882] Elapsed 26m 23s (remain 16m 13s) Loss: 1.1170 Grad: 325542.9062  LR: 0.00001648  \n",
      "Epoch: [20][6000/8882] Elapsed 28m 47s (remain 13m 49s) Loss: 1.1165 Grad: 283502.5312  LR: 0.00001646  \n",
      "Epoch: [20][6500/8882] Elapsed 31m 11s (remain 11m 25s) Loss: 1.1155 Grad: 341068.0625  LR: 0.00001644  \n",
      "Epoch: [20][7000/8882] Elapsed 33m 34s (remain 9m 1s) Loss: 1.1150 Grad: 635544.3750  LR: 0.00001642  \n",
      "Epoch: [20][7500/8882] Elapsed 35m 58s (remain 6m 37s) Loss: 1.1141 Grad: 615417.7500  LR: 0.00001640  \n",
      "Epoch: [20][8000/8882] Elapsed 38m 23s (remain 4m 13s) Loss: 1.1130 Grad: 624516.2500  LR: 0.00001638  \n",
      "Epoch: [20][8500/8882] Elapsed 40m 49s (remain 1m 49s) Loss: 1.1129 Grad: 139492.6250  LR: 0.00001636  \n"
     ]
    },
    {
     "name": "stderr",
     "output_type": "stream",
     "text": [
      "Epoch 20: Train Loss 1.1141, elapsed 2559.5946s\n"
     ]
    },
    {
     "name": "stdout",
     "output_type": "stream",
     "text": [
      "Epoch: [20][8881/8882] Elapsed 42m 39s (remain 0m 0s) Loss: 1.1141 Grad: 299666.0312  LR: 0.00001635  \n",
      "Epoch: [21][0/8882] Elapsed 0m 0s (remain 50m 29s) Loss: 0.9312 Grad: 269729.9062  LR: 0.00001635  \n",
      "Epoch: [21][500/8882] Elapsed 2m 26s (remain 40m 51s) Loss: 1.1071 Grad: 268848.8125  LR: 0.00001633  \n",
      "Epoch: [21][1000/8882] Elapsed 4m 53s (remain 38m 29s) Loss: 1.1038 Grad: 275123.0312  LR: 0.00001631  \n",
      "Epoch: [21][1500/8882] Elapsed 7m 18s (remain 35m 55s) Loss: 1.1023 Grad: 317983.3438  LR: 0.00001629  \n",
      "Epoch: [21][2000/8882] Elapsed 9m 44s (remain 33m 28s) Loss: 1.1013 Grad: 586422.5000  LR: 0.00001627  \n",
      "Epoch: [21][2500/8882] Elapsed 12m 8s (remain 30m 59s) Loss: 1.1005 Grad: 589802.3750  LR: 0.00001625  \n",
      "Epoch: [21][3000/8882] Elapsed 14m 33s (remain 28m 31s) Loss: 1.1002 Grad: 730703.6875  LR: 0.00001623  \n",
      "Epoch: [21][3500/8882] Elapsed 16m 57s (remain 26m 4s) Loss: 1.0982 Grad: 619287.5625  LR: 0.00001621  \n",
      "Epoch: [21][4000/8882] Elapsed 19m 22s (remain 23m 38s) Loss: 1.0972 Grad: 1266839.0000  LR: 0.00001620  \n",
      "Epoch: [21][4500/8882] Elapsed 21m 47s (remain 21m 12s) Loss: 1.0964 Grad: 307359.8125  LR: 0.00001618  \n",
      "Epoch: [21][5000/8882] Elapsed 24m 11s (remain 18m 46s) Loss: 1.0982 Grad: 321597.3438  LR: 0.00001616  \n",
      "Epoch: [21][5500/8882] Elapsed 26m 35s (remain 16m 20s) Loss: 1.1010 Grad: 177506.1719  LR: 0.00001614  \n",
      "Epoch: [21][6000/8882] Elapsed 28m 59s (remain 13m 55s) Loss: 1.1032 Grad: 133253.9688  LR: 0.00001612  \n",
      "Epoch: [21][6500/8882] Elapsed 31m 23s (remain 11m 29s) Loss: 1.1037 Grad: 156592.4844  LR: 0.00001610  \n",
      "Epoch: [21][7000/8882] Elapsed 33m 46s (remain 9m 4s) Loss: 1.1030 Grad: 123022.8984  LR: 0.00001608  \n",
      "Epoch: [21][7500/8882] Elapsed 36m 9s (remain 6m 39s) Loss: 1.1038 Grad: 322244.8750  LR: 0.00001606  \n",
      "Epoch: [21][8000/8882] Elapsed 38m 32s (remain 4m 14s) Loss: 1.1045 Grad: 313426.0938  LR: 0.00001604  \n",
      "Epoch: [21][8500/8882] Elapsed 40m 56s (remain 1m 50s) Loss: 1.1040 Grad: 267858.1562  LR: 0.00001602  \n"
     ]
    },
    {
     "name": "stderr",
     "output_type": "stream",
     "text": [
      "Epoch 21: Train Loss 1.1033, elapsed 2567.1365s\n"
     ]
    },
    {
     "name": "stdout",
     "output_type": "stream",
     "text": [
      "Epoch: [21][8881/8882] Elapsed 42m 47s (remain 0m 0s) Loss: 1.1033 Grad: 398109.3438  LR: 0.00001600  \n",
      "Epoch: [22][0/8882] Elapsed 0m 0s (remain 51m 5s) Loss: 0.7247 Grad: 232881.0312  LR: 0.00001600  \n",
      "Epoch: [22][500/8882] Elapsed 2m 25s (remain 40m 30s) Loss: 1.0909 Grad: 297500.2188  LR: 0.00001598  \n",
      "Epoch: [22][1000/8882] Elapsed 4m 49s (remain 37m 55s) Loss: 1.0926 Grad: 124888.3203  LR: 0.00001596  \n",
      "Epoch: [22][1500/8882] Elapsed 7m 14s (remain 35m 35s) Loss: 1.0980 Grad: 69196.6016  LR: 0.00001594  \n",
      "Epoch: [22][2000/8882] Elapsed 9m 39s (remain 33m 12s) Loss: 1.1083 Grad: 77476.5078  LR: 0.00001592  \n",
      "Epoch: [22][2500/8882] Elapsed 12m 4s (remain 30m 48s) Loss: 1.1119 Grad: 68669.6328  LR: 0.00001590  \n",
      "Epoch: [22][3000/8882] Elapsed 14m 29s (remain 28m 23s) Loss: 1.1106 Grad: 71075.5391  LR: 0.00001588  \n",
      "Epoch: [22][3500/8882] Elapsed 16m 54s (remain 25m 59s) Loss: 1.1156 Grad: 44223.9688  LR: 0.00001586  \n",
      "Epoch: [22][4000/8882] Elapsed 19m 19s (remain 23m 34s) Loss: 1.1159 Grad: 38812.0195  LR: 0.00001584  \n",
      "Epoch: [22][4500/8882] Elapsed 21m 43s (remain 21m 8s) Loss: 1.1190 Grad: 20619.5371  LR: 0.00001582  \n",
      "Epoch: [22][5000/8882] Elapsed 24m 8s (remain 18m 43s) Loss: 1.1224 Grad: 16588.6504  LR: 0.00001580  \n",
      "Epoch: [22][5500/8882] Elapsed 26m 33s (remain 16m 19s) Loss: 1.1254 Grad: 15561.6133  LR: 0.00001578  \n",
      "Epoch: [22][6000/8882] Elapsed 28m 58s (remain 13m 54s) Loss: 1.1272 Grad: 16159.1934  LR: 0.00001576  \n",
      "Epoch: [22][6500/8882] Elapsed 31m 23s (remain 11m 29s) Loss: 1.1285 Grad: 34392.6055  LR: 0.00001574  \n",
      "Epoch: [22][7000/8882] Elapsed 33m 48s (remain 9m 5s) Loss: 1.1280 Grad: 33432.8867  LR: 0.00001572  \n",
      "Epoch: [22][7500/8882] Elapsed 36m 13s (remain 6m 40s) Loss: 1.1266 Grad: 41363.7070  LR: 0.00001570  \n",
      "Epoch: [22][8000/8882] Elapsed 38m 37s (remain 4m 15s) Loss: 1.1264 Grad: 36574.6328  LR: 0.00001568  \n",
      "Epoch: [22][8500/8882] Elapsed 41m 2s (remain 1m 50s) Loss: 1.1259 Grad: 85270.2656  LR: 0.00001566  \n"
     ]
    },
    {
     "name": "stderr",
     "output_type": "stream",
     "text": [
      "Epoch 22: Train Loss 1.1251, elapsed 2572.3112s\n"
     ]
    },
    {
     "name": "stdout",
     "output_type": "stream",
     "text": [
      "Epoch: [22][8881/8882] Elapsed 42m 52s (remain 0m 0s) Loss: 1.1251 Grad: 85824.1406  LR: 0.00001564  \n",
      "Epoch: [23][0/8882] Elapsed 0m 0s (remain 52m 53s) Loss: 0.8431 Grad: 251446.9844  LR: 0.00001564  \n",
      "Epoch: [23][500/8882] Elapsed 2m 25s (remain 40m 39s) Loss: 1.1023 Grad: 290779.3125  LR: 0.00001562  \n",
      "Epoch: [23][1000/8882] Elapsed 4m 50s (remain 38m 3s) Loss: 1.0940 Grad: 301840.3438  LR: 0.00001560  \n",
      "Epoch: [23][1500/8882] Elapsed 7m 14s (remain 35m 37s) Loss: 1.0919 Grad: 232985.8750  LR: 0.00001558  \n",
      "Epoch: [23][2000/8882] Elapsed 9m 38s (remain 33m 11s) Loss: 1.0905 Grad: 485465.1875  LR: 0.00001556  \n",
      "Epoch: [23][2500/8882] Elapsed 12m 4s (remain 30m 48s) Loss: 1.0906 Grad: 242799.2969  LR: 0.00001554  \n",
      "Epoch: [23][3000/8882] Elapsed 14m 29s (remain 28m 24s) Loss: 1.0879 Grad: 272803.7500  LR: 0.00001552  \n",
      "Epoch: [23][3500/8882] Elapsed 16m 54s (remain 25m 59s) Loss: 1.0894 Grad: 139269.7812  LR: 0.00001550  \n",
      "Epoch: [23][4000/8882] Elapsed 19m 18s (remain 23m 33s) Loss: 1.0909 Grad: 295213.5938  LR: 0.00001548  \n",
      "Epoch: [23][4500/8882] Elapsed 21m 43s (remain 21m 8s) Loss: 1.0919 Grad: 76380.1562  LR: 0.00001546  \n",
      "Epoch: [23][5000/8882] Elapsed 24m 8s (remain 18m 44s) Loss: 1.0941 Grad: 73091.3750  LR: 0.00001544  \n",
      "Epoch: [23][5500/8882] Elapsed 26m 33s (remain 16m 19s) Loss: 1.0954 Grad: 60677.8789  LR: 0.00001542  \n",
      "Epoch: [23][6000/8882] Elapsed 28m 59s (remain 13m 55s) Loss: 1.0977 Grad: 68533.9766  LR: 0.00001540  \n",
      "Epoch: [23][6500/8882] Elapsed 31m 25s (remain 11m 30s) Loss: 1.0983 Grad: 132745.6562  LR: 0.00001537  \n",
      "Epoch: [23][7000/8882] Elapsed 33m 50s (remain 9m 5s) Loss: 1.0986 Grad: 67592.8672  LR: 0.00001535  \n",
      "Epoch: [23][7500/8882] Elapsed 36m 16s (remain 6m 40s) Loss: 1.0993 Grad: 78018.0234  LR: 0.00001533  \n",
      "Epoch: [23][8000/8882] Elapsed 38m 42s (remain 4m 15s) Loss: 1.1001 Grad: 69362.3984  LR: 0.00001531  \n",
      "Epoch: [23][8500/8882] Elapsed 41m 8s (remain 1m 50s) Loss: 1.1005 Grad: 75687.9141  LR: 0.00001529  \n"
     ]
    },
    {
     "name": "stderr",
     "output_type": "stream",
     "text": [
      "Epoch 23: Train Loss 1.1000, elapsed 2579.9142s\n"
     ]
    },
    {
     "name": "stdout",
     "output_type": "stream",
     "text": [
      "Epoch: [23][8881/8882] Elapsed 42m 59s (remain 0m 0s) Loss: 1.1000 Grad: 175999.1094  LR: 0.00001527  \n",
      "Epoch: [24][0/8882] Elapsed 0m 0s (remain 51m 43s) Loss: 1.1286 Grad: 288720.8125  LR: 0.00001527  \n",
      "Epoch: [24][500/8882] Elapsed 2m 27s (remain 41m 11s) Loss: 1.0784 Grad: 270819.8125  LR: 0.00001525  \n",
      "Epoch: [24][1000/8882] Elapsed 4m 53s (remain 38m 33s) Loss: 1.0837 Grad: 300673.1562  LR: 0.00001523  \n",
      "Epoch: [24][1500/8882] Elapsed 7m 19s (remain 36m 0s) Loss: 1.0788 Grad: 269994.3125  LR: 0.00001521  \n",
      "Epoch: [24][2000/8882] Elapsed 9m 45s (remain 33m 33s) Loss: 1.0773 Grad: 647841.3750  LR: 0.00001519  \n",
      "Epoch: [24][2500/8882] Elapsed 12m 11s (remain 31m 6s) Loss: 1.0755 Grad: 631090.8125  LR: 0.00001517  \n",
      "Epoch: [24][3000/8882] Elapsed 14m 37s (remain 28m 40s) Loss: 1.0741 Grad: 558113.7500  LR: 0.00001515  \n",
      "Epoch: [24][3500/8882] Elapsed 17m 3s (remain 26m 13s) Loss: 1.0728 Grad: 600946.4375  LR: 0.00001513  \n",
      "Epoch: [24][4000/8882] Elapsed 19m 29s (remain 23m 46s) Loss: 1.0724 Grad: 1169602.5000  LR: 0.00001510  \n",
      "Epoch: [24][4500/8882] Elapsed 21m 55s (remain 21m 20s) Loss: 1.0712 Grad: 290712.3438  LR: 0.00001508  \n",
      "Epoch: [24][5000/8882] Elapsed 24m 21s (remain 18m 53s) Loss: 1.0721 Grad: 305425.9375  LR: 0.00001506  \n",
      "Epoch: [24][5500/8882] Elapsed 26m 46s (remain 16m 27s) Loss: 1.0730 Grad: 332381.0938  LR: 0.00001504  \n",
      "Epoch: [24][6000/8882] Elapsed 29m 11s (remain 14m 0s) Loss: 1.0743 Grad: 277885.6562  LR: 0.00001502  \n",
      "Epoch: [24][6500/8882] Elapsed 31m 36s (remain 11m 34s) Loss: 1.0749 Grad: 682032.7500  LR: 0.00001500  \n",
      "Epoch: [24][7000/8882] Elapsed 34m 3s (remain 9m 8s) Loss: 1.0748 Grad: 590269.0000  LR: 0.00001498  \n",
      "Epoch: [24][7500/8882] Elapsed 36m 29s (remain 6m 43s) Loss: 1.0745 Grad: 862329.5000  LR: 0.00001495  \n",
      "Epoch: [24][8000/8882] Elapsed 38m 55s (remain 4m 17s) Loss: 1.0740 Grad: 595874.3125  LR: 0.00001493  \n",
      "Epoch: [24][8500/8882] Elapsed 41m 19s (remain 1m 51s) Loss: 1.0736 Grad: 526341.8750  LR: 0.00001491  \n"
     ]
    },
    {
     "name": "stderr",
     "output_type": "stream",
     "text": [
      "Epoch 24: Train Loss 1.0734, elapsed 2589.5395s\n"
     ]
    },
    {
     "name": "stdout",
     "output_type": "stream",
     "text": [
      "Epoch: [24][8881/8882] Elapsed 43m 9s (remain 0m 0s) Loss: 1.0734 Grad: 630925.3125  LR: 0.00001489  \n",
      "Epoch: [25][0/8882] Elapsed 0m 0s (remain 54m 15s) Loss: 1.1779 Grad: 284410.9688  LR: 0.00001489  \n",
      "Epoch: [25][500/8882] Elapsed 2m 26s (remain 40m 47s) Loss: 1.0763 Grad: 317287.3438  LR: 0.00001487  \n",
      "Epoch: [25][1000/8882] Elapsed 4m 51s (remain 38m 12s) Loss: 1.0736 Grad: 268723.8750  LR: 0.00001485  \n",
      "Epoch: [25][1500/8882] Elapsed 7m 15s (remain 35m 41s) Loss: 1.0735 Grad: 296154.9375  LR: 0.00001483  \n",
      "Epoch: [25][2000/8882] Elapsed 9m 40s (remain 33m 14s) Loss: 1.0701 Grad: 547060.0625  LR: 0.00001481  \n",
      "Epoch: [25][2500/8882] Elapsed 12m 4s (remain 30m 48s) Loss: 1.0703 Grad: 618426.1250  LR: 0.00001479  \n",
      "Epoch: [25][3000/8882] Elapsed 14m 28s (remain 28m 22s) Loss: 1.0695 Grad: 820062.1875  LR: 0.00001476  \n",
      "Epoch: [25][3500/8882] Elapsed 16m 53s (remain 25m 57s) Loss: 1.0660 Grad: 514933.1875  LR: 0.00001474  \n",
      "Epoch: [25][4000/8882] Elapsed 19m 17s (remain 23m 32s) Loss: 1.0675 Grad: 1130595.8750  LR: 0.00001472  \n",
      "Epoch: [25][4500/8882] Elapsed 21m 42s (remain 21m 7s) Loss: 1.0680 Grad: 674018.3125  LR: 0.00001470  \n",
      "Epoch: [25][5000/8882] Elapsed 24m 7s (remain 18m 43s) Loss: 1.0680 Grad: 538786.2500  LR: 0.00001468  \n"
     ]
    }
   ],
   "source": [
    "CFG.global_step = 0\n",
    "CFG.save_step = 25000\n",
    "\n",
    "for epoch in range(CFG.epochs):\n",
    "    CFG.epoch = epoch\n",
    "    start = time.time()\n",
    "        \n",
    "    train_loss = trainer(model, train_loader, optimizer, scheduler, CFG)\n",
    "\n",
    "    LOGGER.info(\n",
    "        \"Epoch {}: Train Loss {:.4f}, elapsed {:.4f}s\".format(\n",
    "            epoch + 1, train_loss, time.time() - start)\n",
    "        )\n",
    "    torch.save(\n",
    "        model.state_dict(),\n",
    "        OUTPUT_DIR + '{}-mlm-epoch-{}.bin'.format(\n",
    "            CFG.model.replace('/', '-'),\n",
    "            CFG.epoch + 1))"
   ]
  },
  {
   "cell_type": "code",
   "execution_count": null,
   "metadata": {
    "id": "q0LIzKwgM14M"
   },
   "outputs": [],
   "source": []
  },
  {
   "cell_type": "code",
   "execution_count": null,
   "metadata": {
    "id": "t6H4ZsRoKtQW"
   },
   "outputs": [],
   "source": []
  }
 ],
 "metadata": {
  "accelerator": "GPU",
  "colab": {
   "authorship_tag": "ABX9TyMuKFiost9/L08TVXgSsxq+",
   "collapsed_sections": [],
   "machine_shape": "hm",
   "mount_file_id": "1kNrEzWqgBHvb-6F2fVrCLS-ThLhVm3bx",
   "name": "pretrain_model.ipynb",
   "provenance": []
  },
  "kernelspec": {
   "display_name": "Python 3",
   "language": "python",
   "name": "python3"
  },
  "language_info": {
   "codemirror_mode": {
    "name": "ipython",
    "version": 3
   },
   "file_extension": ".py",
   "mimetype": "text/x-python",
   "name": "python",
   "nbconvert_exporter": "python",
   "pygments_lexer": "ipython3",
   "version": "3.7.10"
  },
  "widgets": {
   "application/vnd.jupyter.widget-state+json": {
    "01e0554703e4485bb74082bd0b9503e8": {
     "model_module": "@jupyter-widgets/controls",
     "model_module_version": "1.5.0",
     "model_name": "DescriptionStyleModel",
     "state": {
      "_model_module": "@jupyter-widgets/controls",
      "_model_module_version": "1.5.0",
      "_model_name": "DescriptionStyleModel",
      "_view_count": null,
      "_view_module": "@jupyter-widgets/base",
      "_view_module_version": "1.2.0",
      "_view_name": "StyleView",
      "description_width": ""
     }
    },
    "0373ffaeeef14e1295335b8bf15ac71a": {
     "model_module": "@jupyter-widgets/controls",
     "model_module_version": "1.5.0",
     "model_name": "DescriptionStyleModel",
     "state": {
      "_model_module": "@jupyter-widgets/controls",
      "_model_module_version": "1.5.0",
      "_model_name": "DescriptionStyleModel",
      "_view_count": null,
      "_view_module": "@jupyter-widgets/base",
      "_view_module_version": "1.2.0",
      "_view_name": "StyleView",
      "description_width": ""
     }
    },
    "058d6926a951473aa27cfbdee59e40a6": {
     "model_module": "@jupyter-widgets/controls",
     "model_module_version": "1.5.0",
     "model_name": "HTMLModel",
     "state": {
      "_dom_classes": [],
      "_model_module": "@jupyter-widgets/controls",
      "_model_module_version": "1.5.0",
      "_model_name": "HTMLModel",
      "_view_count": null,
      "_view_module": "@jupyter-widgets/controls",
      "_view_module_version": "1.5.0",
      "_view_name": "HTMLView",
      "description": "",
      "description_tooltip": null,
      "layout": "IPY_MODEL_2c1b625f1bdd4602884eba4ab5338a46",
      "placeholder": "​",
      "style": "IPY_MODEL_08b15303fedd48c8b489ad7c36497fd5",
      "value": " 580/580 [00:00&lt;00:00, 21.5kB/s]"
     }
    },
    "060ce8d2b3c248578003ac7bb707e0ae": {
     "model_module": "@jupyter-widgets/controls",
     "model_module_version": "1.5.0",
     "model_name": "HTMLModel",
     "state": {
      "_dom_classes": [],
      "_model_module": "@jupyter-widgets/controls",
      "_model_module_version": "1.5.0",
      "_model_name": "HTMLModel",
      "_view_count": null,
      "_view_module": "@jupyter-widgets/controls",
      "_view_module_version": "1.5.0",
      "_view_name": "HTMLView",
      "description": "",
      "description_tooltip": null,
      "layout": "IPY_MODEL_9f2806f479bb4859940a09204d4f0a3f",
      "placeholder": "​",
      "style": "IPY_MODEL_01e0554703e4485bb74082bd0b9503e8",
      "value": "Downloading: 100%"
     }
    },
    "08b15303fedd48c8b489ad7c36497fd5": {
     "model_module": "@jupyter-widgets/controls",
     "model_module_version": "1.5.0",
     "model_name": "DescriptionStyleModel",
     "state": {
      "_model_module": "@jupyter-widgets/controls",
      "_model_module_version": "1.5.0",
      "_model_name": "DescriptionStyleModel",
      "_view_count": null,
      "_view_module": "@jupyter-widgets/base",
      "_view_module_version": "1.2.0",
      "_view_name": "StyleView",
      "description_width": ""
     }
    },
    "0a2f85f8a90942889fe642f54ae9e1c2": {
     "model_module": "@jupyter-widgets/controls",
     "model_module_version": "1.5.0",
     "model_name": "DescriptionStyleModel",
     "state": {
      "_model_module": "@jupyter-widgets/controls",
      "_model_module_version": "1.5.0",
      "_model_name": "DescriptionStyleModel",
      "_view_count": null,
      "_view_module": "@jupyter-widgets/base",
      "_view_module_version": "1.2.0",
      "_view_name": "StyleView",
      "description_width": ""
     }
    },
    "0a747be8a0804e709d127c0da627a920": {
     "model_module": "@jupyter-widgets/base",
     "model_module_version": "1.2.0",
     "model_name": "LayoutModel",
     "state": {
      "_model_module": "@jupyter-widgets/base",
      "_model_module_version": "1.2.0",
      "_model_name": "LayoutModel",
      "_view_count": null,
      "_view_module": "@jupyter-widgets/base",
      "_view_module_version": "1.2.0",
      "_view_name": "LayoutView",
      "align_content": null,
      "align_items": null,
      "align_self": null,
      "border": null,
      "bottom": null,
      "display": null,
      "flex": null,
      "flex_flow": null,
      "grid_area": null,
      "grid_auto_columns": null,
      "grid_auto_flow": null,
      "grid_auto_rows": null,
      "grid_column": null,
      "grid_gap": null,
      "grid_row": null,
      "grid_template_areas": null,
      "grid_template_columns": null,
      "grid_template_rows": null,
      "height": null,
      "justify_content": null,
      "justify_items": null,
      "left": null,
      "margin": null,
      "max_height": null,
      "max_width": null,
      "min_height": null,
      "min_width": null,
      "object_fit": null,
      "object_position": null,
      "order": null,
      "overflow": null,
      "overflow_x": null,
      "overflow_y": null,
      "padding": null,
      "right": null,
      "top": null,
      "visibility": null,
      "width": null
     }
    },
    "0cdf43e5b50641b590766995d5b67831": {
     "model_module": "@jupyter-widgets/controls",
     "model_module_version": "1.5.0",
     "model_name": "HTMLModel",
     "state": {
      "_dom_classes": [],
      "_model_module": "@jupyter-widgets/controls",
      "_model_module_version": "1.5.0",
      "_model_name": "HTMLModel",
      "_view_count": null,
      "_view_module": "@jupyter-widgets/controls",
      "_view_module_version": "1.5.0",
      "_view_name": "HTMLView",
      "description": "",
      "description_tooltip": null,
      "layout": "IPY_MODEL_6f82b01dacd349279c20c5531613857d",
      "placeholder": "​",
      "style": "IPY_MODEL_4f4e41a8e1a14649be15b6ddb18c26f1",
      "value": "100%"
     }
    },
    "119c11b41964467b89e4ab2f3c290136": {
     "model_module": "@jupyter-widgets/controls",
     "model_module_version": "1.5.0",
     "model_name": "FloatProgressModel",
     "state": {
      "_dom_classes": [],
      "_model_module": "@jupyter-widgets/controls",
      "_model_module_version": "1.5.0",
      "_model_name": "FloatProgressModel",
      "_view_count": null,
      "_view_module": "@jupyter-widgets/controls",
      "_view_module_version": "1.5.0",
      "_view_name": "ProgressView",
      "bar_style": "success",
      "description": "",
      "description_tooltip": null,
      "layout": "IPY_MODEL_f39debc94cbd45acbc023fbc8459b704",
      "max": 1,
      "min": 0,
      "orientation": "horizontal",
      "style": "IPY_MODEL_8d50d59a00e14e2f8c9404cb2635702a",
      "value": 1
     }
    },
    "11d8439add4b4888872dfb22e64ebdbb": {
     "model_module": "@jupyter-widgets/base",
     "model_module_version": "1.2.0",
     "model_name": "LayoutModel",
     "state": {
      "_model_module": "@jupyter-widgets/base",
      "_model_module_version": "1.2.0",
      "_model_name": "LayoutModel",
      "_view_count": null,
      "_view_module": "@jupyter-widgets/base",
      "_view_module_version": "1.2.0",
      "_view_name": "LayoutView",
      "align_content": null,
      "align_items": null,
      "align_self": null,
      "border": null,
      "bottom": null,
      "display": null,
      "flex": null,
      "flex_flow": null,
      "grid_area": null,
      "grid_auto_columns": null,
      "grid_auto_flow": null,
      "grid_auto_rows": null,
      "grid_column": null,
      "grid_gap": null,
      "grid_row": null,
      "grid_template_areas": null,
      "grid_template_columns": null,
      "grid_template_rows": null,
      "height": null,
      "justify_content": null,
      "justify_items": null,
      "left": null,
      "margin": null,
      "max_height": null,
      "max_width": null,
      "min_height": null,
      "min_width": null,
      "object_fit": null,
      "object_position": null,
      "order": null,
      "overflow": null,
      "overflow_x": null,
      "overflow_y": null,
      "padding": null,
      "right": null,
      "top": null,
      "visibility": null,
      "width": null
     }
    },
    "1740e1923a1747fdb62342d12aff48c7": {
     "model_module": "@jupyter-widgets/base",
     "model_module_version": "1.2.0",
     "model_name": "LayoutModel",
     "state": {
      "_model_module": "@jupyter-widgets/base",
      "_model_module_version": "1.2.0",
      "_model_name": "LayoutModel",
      "_view_count": null,
      "_view_module": "@jupyter-widgets/base",
      "_view_module_version": "1.2.0",
      "_view_name": "LayoutView",
      "align_content": null,
      "align_items": null,
      "align_self": null,
      "border": null,
      "bottom": null,
      "display": null,
      "flex": null,
      "flex_flow": null,
      "grid_area": null,
      "grid_auto_columns": null,
      "grid_auto_flow": null,
      "grid_auto_rows": null,
      "grid_column": null,
      "grid_gap": null,
      "grid_row": null,
      "grid_template_areas": null,
      "grid_template_columns": null,
      "grid_template_rows": null,
      "height": null,
      "justify_content": null,
      "justify_items": null,
      "left": null,
      "margin": null,
      "max_height": null,
      "max_width": null,
      "min_height": null,
      "min_width": null,
      "object_fit": null,
      "object_position": null,
      "order": null,
      "overflow": null,
      "overflow_x": null,
      "overflow_y": null,
      "padding": null,
      "right": null,
      "top": null,
      "visibility": null,
      "width": null
     }
    },
    "1d02a29b9203454a8bc90192bfb7bb9e": {
     "model_module": "@jupyter-widgets/controls",
     "model_module_version": "1.5.0",
     "model_name": "FloatProgressModel",
     "state": {
      "_dom_classes": [],
      "_model_module": "@jupyter-widgets/controls",
      "_model_module_version": "1.5.0",
      "_model_name": "FloatProgressModel",
      "_view_count": null,
      "_view_module": "@jupyter-widgets/controls",
      "_view_module_version": "1.5.0",
      "_view_name": "ProgressView",
      "bar_style": "success",
      "description": "",
      "description_tooltip": null,
      "layout": "IPY_MODEL_70a1445c0ba04682b81a530dd6695b9c",
      "max": 1,
      "min": 0,
      "orientation": "horizontal",
      "style": "IPY_MODEL_e71a064de7cf4cde97097a4b6f4a8a46",
      "value": 1
     }
    },
    "1fd78e14d8c943299ba653c26d80ca81": {
     "model_module": "@jupyter-widgets/base",
     "model_module_version": "1.2.0",
     "model_name": "LayoutModel",
     "state": {
      "_model_module": "@jupyter-widgets/base",
      "_model_module_version": "1.2.0",
      "_model_name": "LayoutModel",
      "_view_count": null,
      "_view_module": "@jupyter-widgets/base",
      "_view_module_version": "1.2.0",
      "_view_name": "LayoutView",
      "align_content": null,
      "align_items": null,
      "align_self": null,
      "border": null,
      "bottom": null,
      "display": null,
      "flex": null,
      "flex_flow": null,
      "grid_area": null,
      "grid_auto_columns": null,
      "grid_auto_flow": null,
      "grid_auto_rows": null,
      "grid_column": null,
      "grid_gap": null,
      "grid_row": null,
      "grid_template_areas": null,
      "grid_template_columns": null,
      "grid_template_rows": null,
      "height": null,
      "justify_content": null,
      "justify_items": null,
      "left": null,
      "margin": null,
      "max_height": null,
      "max_width": null,
      "min_height": null,
      "min_width": null,
      "object_fit": null,
      "object_position": null,
      "order": null,
      "overflow": null,
      "overflow_x": null,
      "overflow_y": null,
      "padding": null,
      "right": null,
      "top": null,
      "visibility": null,
      "width": null
     }
    },
    "22ee4f1c55014b50a7c872de061caa18": {
     "model_module": "@jupyter-widgets/controls",
     "model_module_version": "1.5.0",
     "model_name": "FloatProgressModel",
     "state": {
      "_dom_classes": [],
      "_model_module": "@jupyter-widgets/controls",
      "_model_module_version": "1.5.0",
      "_model_name": "FloatProgressModel",
      "_view_count": null,
      "_view_module": "@jupyter-widgets/controls",
      "_view_module_version": "1.5.0",
      "_view_name": "ProgressView",
      "bar_style": "success",
      "description": "",
      "description_tooltip": null,
      "layout": "IPY_MODEL_573f6afd99114853a9c9a32b0bcd555e",
      "max": 1,
      "min": 0,
      "orientation": "horizontal",
      "style": "IPY_MODEL_7e86c445ff264db3a13ecf77249327ce",
      "value": 1
     }
    },
    "2aa10b191e5a4b4b8ac4dc688e69c66a": {
     "model_module": "@jupyter-widgets/controls",
     "model_module_version": "1.5.0",
     "model_name": "DescriptionStyleModel",
     "state": {
      "_model_module": "@jupyter-widgets/controls",
      "_model_module_version": "1.5.0",
      "_model_name": "DescriptionStyleModel",
      "_view_count": null,
      "_view_module": "@jupyter-widgets/base",
      "_view_module_version": "1.2.0",
      "_view_name": "StyleView",
      "description_width": ""
     }
    },
    "2c1b625f1bdd4602884eba4ab5338a46": {
     "model_module": "@jupyter-widgets/base",
     "model_module_version": "1.2.0",
     "model_name": "LayoutModel",
     "state": {
      "_model_module": "@jupyter-widgets/base",
      "_model_module_version": "1.2.0",
      "_model_name": "LayoutModel",
      "_view_count": null,
      "_view_module": "@jupyter-widgets/base",
      "_view_module_version": "1.2.0",
      "_view_name": "LayoutView",
      "align_content": null,
      "align_items": null,
      "align_self": null,
      "border": null,
      "bottom": null,
      "display": null,
      "flex": null,
      "flex_flow": null,
      "grid_area": null,
      "grid_auto_columns": null,
      "grid_auto_flow": null,
      "grid_auto_rows": null,
      "grid_column": null,
      "grid_gap": null,
      "grid_row": null,
      "grid_template_areas": null,
      "grid_template_columns": null,
      "grid_template_rows": null,
      "height": null,
      "justify_content": null,
      "justify_items": null,
      "left": null,
      "margin": null,
      "max_height": null,
      "max_width": null,
      "min_height": null,
      "min_width": null,
      "object_fit": null,
      "object_position": null,
      "order": null,
      "overflow": null,
      "overflow_x": null,
      "overflow_y": null,
      "padding": null,
      "right": null,
      "top": null,
      "visibility": null,
      "width": null
     }
    },
    "306089e45aea4fe8b1aaba62384af052": {
     "model_module": "@jupyter-widgets/base",
     "model_module_version": "1.2.0",
     "model_name": "LayoutModel",
     "state": {
      "_model_module": "@jupyter-widgets/base",
      "_model_module_version": "1.2.0",
      "_model_name": "LayoutModel",
      "_view_count": null,
      "_view_module": "@jupyter-widgets/base",
      "_view_module_version": "1.2.0",
      "_view_name": "LayoutView",
      "align_content": null,
      "align_items": null,
      "align_self": null,
      "border": null,
      "bottom": null,
      "display": null,
      "flex": null,
      "flex_flow": null,
      "grid_area": null,
      "grid_auto_columns": null,
      "grid_auto_flow": null,
      "grid_auto_rows": null,
      "grid_column": null,
      "grid_gap": null,
      "grid_row": null,
      "grid_template_areas": null,
      "grid_template_columns": null,
      "grid_template_rows": null,
      "height": null,
      "justify_content": null,
      "justify_items": null,
      "left": null,
      "margin": null,
      "max_height": null,
      "max_width": null,
      "min_height": null,
      "min_width": null,
      "object_fit": null,
      "object_position": null,
      "order": null,
      "overflow": null,
      "overflow_x": null,
      "overflow_y": null,
      "padding": null,
      "right": null,
      "top": null,
      "visibility": null,
      "width": null
     }
    },
    "30f4c6a886a445daa0e30c6b542bcdbe": {
     "model_module": "@jupyter-widgets/controls",
     "model_module_version": "1.5.0",
     "model_name": "ProgressStyleModel",
     "state": {
      "_model_module": "@jupyter-widgets/controls",
      "_model_module_version": "1.5.0",
      "_model_name": "ProgressStyleModel",
      "_view_count": null,
      "_view_module": "@jupyter-widgets/base",
      "_view_module_version": "1.2.0",
      "_view_name": "StyleView",
      "bar_color": null,
      "description_width": ""
     }
    },
    "31750358c82740eda87093572fcfb561": {
     "model_module": "@jupyter-widgets/controls",
     "model_module_version": "1.5.0",
     "model_name": "HTMLModel",
     "state": {
      "_dom_classes": [],
      "_model_module": "@jupyter-widgets/controls",
      "_model_module_version": "1.5.0",
      "_model_name": "HTMLModel",
      "_view_count": null,
      "_view_module": "@jupyter-widgets/controls",
      "_view_module_version": "1.5.0",
      "_view_name": "HTMLView",
      "description": "",
      "description_tooltip": null,
      "layout": "IPY_MODEL_7113b8b384e341b7a612f7476d11021d",
      "placeholder": "​",
      "style": "IPY_MODEL_898a927a6833484ca140e0f61a587a12",
      "value": "Downloading: 100%"
     }
    },
    "329604bb15df4c9b89491c32a544e611": {
     "model_module": "@jupyter-widgets/controls",
     "model_module_version": "1.5.0",
     "model_name": "HTMLModel",
     "state": {
      "_dom_classes": [],
      "_model_module": "@jupyter-widgets/controls",
      "_model_module_version": "1.5.0",
      "_model_name": "HTMLModel",
      "_view_count": null,
      "_view_module": "@jupyter-widgets/controls",
      "_view_module_version": "1.5.0",
      "_view_name": "HTMLView",
      "description": "",
      "description_tooltip": null,
      "layout": "IPY_MODEL_c9770b62368949d1af40829ad11e5ee2",
      "placeholder": "​",
      "style": "IPY_MODEL_483752b4b8d84478b0b1c9ea65561cf4",
      "value": "Downloading: 100%"
     }
    },
    "3ffe4c02dbd347cc905901f1fb1cb41f": {
     "model_module": "@jupyter-widgets/controls",
     "model_module_version": "1.5.0",
     "model_name": "HBoxModel",
     "state": {
      "_dom_classes": [],
      "_model_module": "@jupyter-widgets/controls",
      "_model_module_version": "1.5.0",
      "_model_name": "HBoxModel",
      "_view_count": null,
      "_view_module": "@jupyter-widgets/controls",
      "_view_module_version": "1.5.0",
      "_view_name": "HBoxView",
      "box_style": "",
      "children": [
       "IPY_MODEL_0cdf43e5b50641b590766995d5b67831",
       "IPY_MODEL_119c11b41964467b89e4ab2f3c290136",
       "IPY_MODEL_a2af753e26734e2ca47bfd4ec22a8d23"
      ],
      "layout": "IPY_MODEL_ce39a778d4ba4311892c9f1ddc19bc59"
     }
    },
    "41fdc5525ed94a0c9b85274a275c1520": {
     "model_module": "@jupyter-widgets/controls",
     "model_module_version": "1.5.0",
     "model_name": "HTMLModel",
     "state": {
      "_dom_classes": [],
      "_model_module": "@jupyter-widgets/controls",
      "_model_module_version": "1.5.0",
      "_model_name": "HTMLModel",
      "_view_count": null,
      "_view_module": "@jupyter-widgets/controls",
      "_view_module_version": "1.5.0",
      "_view_name": "HTMLView",
      "description": "",
      "description_tooltip": null,
      "layout": "IPY_MODEL_524125e97c29452c9eb328736177e3f2",
      "placeholder": "​",
      "style": "IPY_MODEL_d51535f57f2a4755b3c57b9e14cb52e8",
      "value": " 1/1 [00:00&lt;00:00, 34.32it/s]"
     }
    },
    "483752b4b8d84478b0b1c9ea65561cf4": {
     "model_module": "@jupyter-widgets/controls",
     "model_module_version": "1.5.0",
     "model_name": "DescriptionStyleModel",
     "state": {
      "_model_module": "@jupyter-widgets/controls",
      "_model_module_version": "1.5.0",
      "_model_name": "DescriptionStyleModel",
      "_view_count": null,
      "_view_module": "@jupyter-widgets/base",
      "_view_module_version": "1.2.0",
      "_view_name": "StyleView",
      "description_width": ""
     }
    },
    "4bc43b9cb13849a28854f60c26c4a3a0": {
     "model_module": "@jupyter-widgets/controls",
     "model_module_version": "1.5.0",
     "model_name": "HTMLModel",
     "state": {
      "_dom_classes": [],
      "_model_module": "@jupyter-widgets/controls",
      "_model_module_version": "1.5.0",
      "_model_name": "HTMLModel",
      "_view_count": null,
      "_view_module": "@jupyter-widgets/controls",
      "_view_module_version": "1.5.0",
      "_view_name": "HTMLView",
      "description": "",
      "description_tooltip": null,
      "layout": "IPY_MODEL_b104c8f100a14e5da87eeb5947ab32c7",
      "placeholder": "​",
      "style": "IPY_MODEL_b8beff4943624e9bb13b0fb7de52d86c",
      "value": "Downloading: 100%"
     }
    },
    "4bdaea927fb44396b9eb9b0252585534": {
     "model_module": "@jupyter-widgets/base",
     "model_module_version": "1.2.0",
     "model_name": "LayoutModel",
     "state": {
      "_model_module": "@jupyter-widgets/base",
      "_model_module_version": "1.2.0",
      "_model_name": "LayoutModel",
      "_view_count": null,
      "_view_module": "@jupyter-widgets/base",
      "_view_module_version": "1.2.0",
      "_view_name": "LayoutView",
      "align_content": null,
      "align_items": null,
      "align_self": null,
      "border": null,
      "bottom": null,
      "display": null,
      "flex": null,
      "flex_flow": null,
      "grid_area": null,
      "grid_auto_columns": null,
      "grid_auto_flow": null,
      "grid_auto_rows": null,
      "grid_column": null,
      "grid_gap": null,
      "grid_row": null,
      "grid_template_areas": null,
      "grid_template_columns": null,
      "grid_template_rows": null,
      "height": null,
      "justify_content": null,
      "justify_items": null,
      "left": null,
      "margin": null,
      "max_height": null,
      "max_width": null,
      "min_height": null,
      "min_width": null,
      "object_fit": null,
      "object_position": null,
      "order": null,
      "overflow": null,
      "overflow_x": null,
      "overflow_y": null,
      "padding": null,
      "right": null,
      "top": null,
      "visibility": null,
      "width": null
     }
    },
    "4c58f5de417448e6887d3bdd645ce493": {
     "model_module": "@jupyter-widgets/controls",
     "model_module_version": "1.5.0",
     "model_name": "FloatProgressModel",
     "state": {
      "_dom_classes": [],
      "_model_module": "@jupyter-widgets/controls",
      "_model_module_version": "1.5.0",
      "_model_name": "FloatProgressModel",
      "_view_count": null,
      "_view_module": "@jupyter-widgets/controls",
      "_view_module_version": "1.5.0",
      "_view_name": "ProgressView",
      "bar_style": "success",
      "description": "",
      "description_tooltip": null,
      "layout": "IPY_MODEL_d08ce910e7d94c66b8a23eaf5301ec0a",
      "max": 873673253,
      "min": 0,
      "orientation": "horizontal",
      "style": "IPY_MODEL_e8469981bea64e899b6f24f19647ddbd",
      "value": 873673253
     }
    },
    "4f4e41a8e1a14649be15b6ddb18c26f1": {
     "model_module": "@jupyter-widgets/controls",
     "model_module_version": "1.5.0",
     "model_name": "DescriptionStyleModel",
     "state": {
      "_model_module": "@jupyter-widgets/controls",
      "_model_module_version": "1.5.0",
      "_model_name": "DescriptionStyleModel",
      "_view_count": null,
      "_view_module": "@jupyter-widgets/base",
      "_view_module_version": "1.2.0",
      "_view_name": "StyleView",
      "description_width": ""
     }
    },
    "519f090ab2a44ec4ac2aedb5e744dc00": {
     "model_module": "@jupyter-widgets/controls",
     "model_module_version": "1.5.0",
     "model_name": "FloatProgressModel",
     "state": {
      "_dom_classes": [],
      "_model_module": "@jupyter-widgets/controls",
      "_model_module_version": "1.5.0",
      "_model_name": "FloatProgressModel",
      "_view_count": null,
      "_view_module": "@jupyter-widgets/controls",
      "_view_module_version": "1.5.0",
      "_view_name": "ProgressView",
      "bar_style": "success",
      "description": "",
      "description_tooltip": null,
      "layout": "IPY_MODEL_53676ca46ef7437b9d588318abaa1ebd",
      "max": 2464616,
      "min": 0,
      "orientation": "horizontal",
      "style": "IPY_MODEL_af181c97b4504533b92ae4f5670a0b0c",
      "value": 2464616
     }
    },
    "524125e97c29452c9eb328736177e3f2": {
     "model_module": "@jupyter-widgets/base",
     "model_module_version": "1.2.0",
     "model_name": "LayoutModel",
     "state": {
      "_model_module": "@jupyter-widgets/base",
      "_model_module_version": "1.2.0",
      "_model_name": "LayoutModel",
      "_view_count": null,
      "_view_module": "@jupyter-widgets/base",
      "_view_module_version": "1.2.0",
      "_view_name": "LayoutView",
      "align_content": null,
      "align_items": null,
      "align_self": null,
      "border": null,
      "bottom": null,
      "display": null,
      "flex": null,
      "flex_flow": null,
      "grid_area": null,
      "grid_auto_columns": null,
      "grid_auto_flow": null,
      "grid_auto_rows": null,
      "grid_column": null,
      "grid_gap": null,
      "grid_row": null,
      "grid_template_areas": null,
      "grid_template_columns": null,
      "grid_template_rows": null,
      "height": null,
      "justify_content": null,
      "justify_items": null,
      "left": null,
      "margin": null,
      "max_height": null,
      "max_width": null,
      "min_height": null,
      "min_width": null,
      "object_fit": null,
      "object_position": null,
      "order": null,
      "overflow": null,
      "overflow_x": null,
      "overflow_y": null,
      "padding": null,
      "right": null,
      "top": null,
      "visibility": null,
      "width": null
     }
    },
    "53676ca46ef7437b9d588318abaa1ebd": {
     "model_module": "@jupyter-widgets/base",
     "model_module_version": "1.2.0",
     "model_name": "LayoutModel",
     "state": {
      "_model_module": "@jupyter-widgets/base",
      "_model_module_version": "1.2.0",
      "_model_name": "LayoutModel",
      "_view_count": null,
      "_view_module": "@jupyter-widgets/base",
      "_view_module_version": "1.2.0",
      "_view_name": "LayoutView",
      "align_content": null,
      "align_items": null,
      "align_self": null,
      "border": null,
      "bottom": null,
      "display": null,
      "flex": null,
      "flex_flow": null,
      "grid_area": null,
      "grid_auto_columns": null,
      "grid_auto_flow": null,
      "grid_auto_rows": null,
      "grid_column": null,
      "grid_gap": null,
      "grid_row": null,
      "grid_template_areas": null,
      "grid_template_columns": null,
      "grid_template_rows": null,
      "height": null,
      "justify_content": null,
      "justify_items": null,
      "left": null,
      "margin": null,
      "max_height": null,
      "max_width": null,
      "min_height": null,
      "min_width": null,
      "object_fit": null,
      "object_position": null,
      "order": null,
      "overflow": null,
      "overflow_x": null,
      "overflow_y": null,
      "padding": null,
      "right": null,
      "top": null,
      "visibility": null,
      "width": null
     }
    },
    "55c05f2a204a4c36b211383fa498e17c": {
     "model_module": "@jupyter-widgets/base",
     "model_module_version": "1.2.0",
     "model_name": "LayoutModel",
     "state": {
      "_model_module": "@jupyter-widgets/base",
      "_model_module_version": "1.2.0",
      "_model_name": "LayoutModel",
      "_view_count": null,
      "_view_module": "@jupyter-widgets/base",
      "_view_module_version": "1.2.0",
      "_view_name": "LayoutView",
      "align_content": null,
      "align_items": null,
      "align_self": null,
      "border": null,
      "bottom": null,
      "display": null,
      "flex": null,
      "flex_flow": null,
      "grid_area": null,
      "grid_auto_columns": null,
      "grid_auto_flow": null,
      "grid_auto_rows": null,
      "grid_column": null,
      "grid_gap": null,
      "grid_row": null,
      "grid_template_areas": null,
      "grid_template_columns": null,
      "grid_template_rows": null,
      "height": null,
      "justify_content": null,
      "justify_items": null,
      "left": null,
      "margin": null,
      "max_height": null,
      "max_width": null,
      "min_height": null,
      "min_width": null,
      "object_fit": null,
      "object_position": null,
      "order": null,
      "overflow": null,
      "overflow_x": null,
      "overflow_y": null,
      "padding": null,
      "right": null,
      "top": null,
      "visibility": null,
      "width": null
     }
    },
    "573f6afd99114853a9c9a32b0bcd555e": {
     "model_module": "@jupyter-widgets/base",
     "model_module_version": "1.2.0",
     "model_name": "LayoutModel",
     "state": {
      "_model_module": "@jupyter-widgets/base",
      "_model_module_version": "1.2.0",
      "_model_name": "LayoutModel",
      "_view_count": null,
      "_view_module": "@jupyter-widgets/base",
      "_view_module_version": "1.2.0",
      "_view_name": "LayoutView",
      "align_content": null,
      "align_items": null,
      "align_self": null,
      "border": null,
      "bottom": null,
      "display": null,
      "flex": null,
      "flex_flow": null,
      "grid_area": null,
      "grid_auto_columns": null,
      "grid_auto_flow": null,
      "grid_auto_rows": null,
      "grid_column": null,
      "grid_gap": null,
      "grid_row": null,
      "grid_template_areas": null,
      "grid_template_columns": null,
      "grid_template_rows": null,
      "height": null,
      "justify_content": null,
      "justify_items": null,
      "left": null,
      "margin": null,
      "max_height": null,
      "max_width": null,
      "min_height": null,
      "min_width": null,
      "object_fit": null,
      "object_position": null,
      "order": null,
      "overflow": null,
      "overflow_x": null,
      "overflow_y": null,
      "padding": null,
      "right": null,
      "top": null,
      "visibility": null,
      "width": null
     }
    },
    "5ab9243cc41745ec9e5d3f3f127f5aa0": {
     "model_module": "@jupyter-widgets/controls",
     "model_module_version": "1.5.0",
     "model_name": "HBoxModel",
     "state": {
      "_dom_classes": [],
      "_model_module": "@jupyter-widgets/controls",
      "_model_module_version": "1.5.0",
      "_model_name": "HBoxModel",
      "_view_count": null,
      "_view_module": "@jupyter-widgets/controls",
      "_view_module_version": "1.5.0",
      "_view_name": "HBoxView",
      "box_style": "",
      "children": [
       "IPY_MODEL_060ce8d2b3c248578003ac7bb707e0ae",
       "IPY_MODEL_4c58f5de417448e6887d3bdd645ce493",
       "IPY_MODEL_f536e9a6440e4b7c85c46a419676a011"
      ],
      "layout": "IPY_MODEL_926a15a76c7c47ed8cefefa067796d1e"
     }
    },
    "61450ac5ba0d4d979f5fcdce1e41e73a": {
     "model_module": "@jupyter-widgets/controls",
     "model_module_version": "1.5.0",
     "model_name": "ProgressStyleModel",
     "state": {
      "_model_module": "@jupyter-widgets/controls",
      "_model_module_version": "1.5.0",
      "_model_name": "ProgressStyleModel",
      "_view_count": null,
      "_view_module": "@jupyter-widgets/base",
      "_view_module_version": "1.2.0",
      "_view_name": "StyleView",
      "bar_color": null,
      "description_width": ""
     }
    },
    "61870134ef5e49dbba7e94c3e52b374f": {
     "model_module": "@jupyter-widgets/controls",
     "model_module_version": "1.5.0",
     "model_name": "HBoxModel",
     "state": {
      "_dom_classes": [],
      "_model_module": "@jupyter-widgets/controls",
      "_model_module_version": "1.5.0",
      "_model_name": "HBoxModel",
      "_view_count": null,
      "_view_module": "@jupyter-widgets/controls",
      "_view_module_version": "1.5.0",
      "_view_name": "HBoxView",
      "box_style": "",
      "children": [
       "IPY_MODEL_f5d1c8760bcf4f81bd3173c1725f4f93",
       "IPY_MODEL_22ee4f1c55014b50a7c872de061caa18",
       "IPY_MODEL_8257b0075fc9454e85dcdd34cf184123"
      ],
      "layout": "IPY_MODEL_11d8439add4b4888872dfb22e64ebdbb"
     }
    },
    "6f82b01dacd349279c20c5531613857d": {
     "model_module": "@jupyter-widgets/base",
     "model_module_version": "1.2.0",
     "model_name": "LayoutModel",
     "state": {
      "_model_module": "@jupyter-widgets/base",
      "_model_module_version": "1.2.0",
      "_model_name": "LayoutModel",
      "_view_count": null,
      "_view_module": "@jupyter-widgets/base",
      "_view_module_version": "1.2.0",
      "_view_name": "LayoutView",
      "align_content": null,
      "align_items": null,
      "align_self": null,
      "border": null,
      "bottom": null,
      "display": null,
      "flex": null,
      "flex_flow": null,
      "grid_area": null,
      "grid_auto_columns": null,
      "grid_auto_flow": null,
      "grid_auto_rows": null,
      "grid_column": null,
      "grid_gap": null,
      "grid_row": null,
      "grid_template_areas": null,
      "grid_template_columns": null,
      "grid_template_rows": null,
      "height": null,
      "justify_content": null,
      "justify_items": null,
      "left": null,
      "margin": null,
      "max_height": null,
      "max_width": null,
      "min_height": null,
      "min_width": null,
      "object_fit": null,
      "object_position": null,
      "order": null,
      "overflow": null,
      "overflow_x": null,
      "overflow_y": null,
      "padding": null,
      "right": null,
      "top": null,
      "visibility": null,
      "width": null
     }
    },
    "70a1445c0ba04682b81a530dd6695b9c": {
     "model_module": "@jupyter-widgets/base",
     "model_module_version": "1.2.0",
     "model_name": "LayoutModel",
     "state": {
      "_model_module": "@jupyter-widgets/base",
      "_model_module_version": "1.2.0",
      "_model_name": "LayoutModel",
      "_view_count": null,
      "_view_module": "@jupyter-widgets/base",
      "_view_module_version": "1.2.0",
      "_view_name": "LayoutView",
      "align_content": null,
      "align_items": null,
      "align_self": null,
      "border": null,
      "bottom": null,
      "display": null,
      "flex": null,
      "flex_flow": null,
      "grid_area": null,
      "grid_auto_columns": null,
      "grid_auto_flow": null,
      "grid_auto_rows": null,
      "grid_column": null,
      "grid_gap": null,
      "grid_row": null,
      "grid_template_areas": null,
      "grid_template_columns": null,
      "grid_template_rows": null,
      "height": null,
      "justify_content": null,
      "justify_items": null,
      "left": null,
      "margin": null,
      "max_height": null,
      "max_width": null,
      "min_height": null,
      "min_width": null,
      "object_fit": null,
      "object_position": null,
      "order": null,
      "overflow": null,
      "overflow_x": null,
      "overflow_y": null,
      "padding": null,
      "right": null,
      "top": null,
      "visibility": null,
      "width": null
     }
    },
    "7113b8b384e341b7a612f7476d11021d": {
     "model_module": "@jupyter-widgets/base",
     "model_module_version": "1.2.0",
     "model_name": "LayoutModel",
     "state": {
      "_model_module": "@jupyter-widgets/base",
      "_model_module_version": "1.2.0",
      "_model_name": "LayoutModel",
      "_view_count": null,
      "_view_module": "@jupyter-widgets/base",
      "_view_module_version": "1.2.0",
      "_view_name": "LayoutView",
      "align_content": null,
      "align_items": null,
      "align_self": null,
      "border": null,
      "bottom": null,
      "display": null,
      "flex": null,
      "flex_flow": null,
      "grid_area": null,
      "grid_auto_columns": null,
      "grid_auto_flow": null,
      "grid_auto_rows": null,
      "grid_column": null,
      "grid_gap": null,
      "grid_row": null,
      "grid_template_areas": null,
      "grid_template_columns": null,
      "grid_template_rows": null,
      "height": null,
      "justify_content": null,
      "justify_items": null,
      "left": null,
      "margin": null,
      "max_height": null,
      "max_width": null,
      "min_height": null,
      "min_width": null,
      "object_fit": null,
      "object_position": null,
      "order": null,
      "overflow": null,
      "overflow_x": null,
      "overflow_y": null,
      "padding": null,
      "right": null,
      "top": null,
      "visibility": null,
      "width": null
     }
    },
    "795573faf2b747b8a8d9763e73ed615d": {
     "model_module": "@jupyter-widgets/base",
     "model_module_version": "1.2.0",
     "model_name": "LayoutModel",
     "state": {
      "_model_module": "@jupyter-widgets/base",
      "_model_module_version": "1.2.0",
      "_model_name": "LayoutModel",
      "_view_count": null,
      "_view_module": "@jupyter-widgets/base",
      "_view_module_version": "1.2.0",
      "_view_name": "LayoutView",
      "align_content": null,
      "align_items": null,
      "align_self": null,
      "border": null,
      "bottom": null,
      "display": null,
      "flex": null,
      "flex_flow": null,
      "grid_area": null,
      "grid_auto_columns": null,
      "grid_auto_flow": null,
      "grid_auto_rows": null,
      "grid_column": null,
      "grid_gap": null,
      "grid_row": null,
      "grid_template_areas": null,
      "grid_template_columns": null,
      "grid_template_rows": null,
      "height": null,
      "justify_content": null,
      "justify_items": null,
      "left": null,
      "margin": null,
      "max_height": null,
      "max_width": null,
      "min_height": null,
      "min_width": null,
      "object_fit": null,
      "object_position": null,
      "order": null,
      "overflow": null,
      "overflow_x": null,
      "overflow_y": null,
      "padding": null,
      "right": null,
      "top": null,
      "visibility": null,
      "width": null
     }
    },
    "7e86c445ff264db3a13ecf77249327ce": {
     "model_module": "@jupyter-widgets/controls",
     "model_module_version": "1.5.0",
     "model_name": "ProgressStyleModel",
     "state": {
      "_model_module": "@jupyter-widgets/controls",
      "_model_module_version": "1.5.0",
      "_model_name": "ProgressStyleModel",
      "_view_count": null,
      "_view_module": "@jupyter-widgets/base",
      "_view_module_version": "1.2.0",
      "_view_name": "StyleView",
      "bar_color": null,
      "description_width": ""
     }
    },
    "8257b0075fc9454e85dcdd34cf184123": {
     "model_module": "@jupyter-widgets/controls",
     "model_module_version": "1.5.0",
     "model_name": "HTMLModel",
     "state": {
      "_dom_classes": [],
      "_model_module": "@jupyter-widgets/controls",
      "_model_module_version": "1.5.0",
      "_model_name": "HTMLModel",
      "_view_count": null,
      "_view_module": "@jupyter-widgets/controls",
      "_view_module_version": "1.5.0",
      "_view_name": "HTMLView",
      "description": "",
      "description_tooltip": null,
      "layout": "IPY_MODEL_d332b88cb993479d81e491e2e6c0e5ec",
      "placeholder": "​",
      "style": "IPY_MODEL_0373ffaeeef14e1295335b8bf15ac71a",
      "value": " 1/1 [00:00&lt;00:00, 24.94it/s]"
     }
    },
    "898a927a6833484ca140e0f61a587a12": {
     "model_module": "@jupyter-widgets/controls",
     "model_module_version": "1.5.0",
     "model_name": "DescriptionStyleModel",
     "state": {
      "_model_module": "@jupyter-widgets/controls",
      "_model_module_version": "1.5.0",
      "_model_name": "DescriptionStyleModel",
      "_view_count": null,
      "_view_module": "@jupyter-widgets/base",
      "_view_module_version": "1.2.0",
      "_view_name": "StyleView",
      "description_width": ""
     }
    },
    "8d50d59a00e14e2f8c9404cb2635702a": {
     "model_module": "@jupyter-widgets/controls",
     "model_module_version": "1.5.0",
     "model_name": "ProgressStyleModel",
     "state": {
      "_model_module": "@jupyter-widgets/controls",
      "_model_module_version": "1.5.0",
      "_model_name": "ProgressStyleModel",
      "_view_count": null,
      "_view_module": "@jupyter-widgets/base",
      "_view_module_version": "1.2.0",
      "_view_name": "StyleView",
      "bar_color": null,
      "description_width": ""
     }
    },
    "926a15a76c7c47ed8cefefa067796d1e": {
     "model_module": "@jupyter-widgets/base",
     "model_module_version": "1.2.0",
     "model_name": "LayoutModel",
     "state": {
      "_model_module": "@jupyter-widgets/base",
      "_model_module_version": "1.2.0",
      "_model_name": "LayoutModel",
      "_view_count": null,
      "_view_module": "@jupyter-widgets/base",
      "_view_module_version": "1.2.0",
      "_view_name": "LayoutView",
      "align_content": null,
      "align_items": null,
      "align_self": null,
      "border": null,
      "bottom": null,
      "display": null,
      "flex": null,
      "flex_flow": null,
      "grid_area": null,
      "grid_auto_columns": null,
      "grid_auto_flow": null,
      "grid_auto_rows": null,
      "grid_column": null,
      "grid_gap": null,
      "grid_row": null,
      "grid_template_areas": null,
      "grid_template_columns": null,
      "grid_template_rows": null,
      "height": null,
      "justify_content": null,
      "justify_items": null,
      "left": null,
      "margin": null,
      "max_height": null,
      "max_width": null,
      "min_height": null,
      "min_width": null,
      "object_fit": null,
      "object_position": null,
      "order": null,
      "overflow": null,
      "overflow_x": null,
      "overflow_y": null,
      "padding": null,
      "right": null,
      "top": null,
      "visibility": null,
      "width": null
     }
    },
    "932819908a1d4eb6b02f65a46a11ce04": {
     "model_module": "@jupyter-widgets/controls",
     "model_module_version": "1.5.0",
     "model_name": "DescriptionStyleModel",
     "state": {
      "_model_module": "@jupyter-widgets/controls",
      "_model_module_version": "1.5.0",
      "_model_name": "DescriptionStyleModel",
      "_view_count": null,
      "_view_module": "@jupyter-widgets/base",
      "_view_module_version": "1.2.0",
      "_view_name": "StyleView",
      "description_width": ""
     }
    },
    "94ed7eb5a72843119c8fd830cf792a0b": {
     "model_module": "@jupyter-widgets/base",
     "model_module_version": "1.2.0",
     "model_name": "LayoutModel",
     "state": {
      "_model_module": "@jupyter-widgets/base",
      "_model_module_version": "1.2.0",
      "_model_name": "LayoutModel",
      "_view_count": null,
      "_view_module": "@jupyter-widgets/base",
      "_view_module_version": "1.2.0",
      "_view_name": "LayoutView",
      "align_content": null,
      "align_items": null,
      "align_self": null,
      "border": null,
      "bottom": null,
      "display": null,
      "flex": null,
      "flex_flow": null,
      "grid_area": null,
      "grid_auto_columns": null,
      "grid_auto_flow": null,
      "grid_auto_rows": null,
      "grid_column": null,
      "grid_gap": null,
      "grid_row": null,
      "grid_template_areas": null,
      "grid_template_columns": null,
      "grid_template_rows": null,
      "height": null,
      "justify_content": null,
      "justify_items": null,
      "left": null,
      "margin": null,
      "max_height": null,
      "max_width": null,
      "min_height": null,
      "min_width": null,
      "object_fit": null,
      "object_position": null,
      "order": null,
      "overflow": null,
      "overflow_x": null,
      "overflow_y": null,
      "padding": null,
      "right": null,
      "top": null,
      "visibility": null,
      "width": null
     }
    },
    "974872c8bf454f43be6f3bf3ca778134": {
     "model_module": "@jupyter-widgets/controls",
     "model_module_version": "1.5.0",
     "model_name": "HTMLModel",
     "state": {
      "_dom_classes": [],
      "_model_module": "@jupyter-widgets/controls",
      "_model_module_version": "1.5.0",
      "_model_name": "HTMLModel",
      "_view_count": null,
      "_view_module": "@jupyter-widgets/controls",
      "_view_module_version": "1.5.0",
      "_view_name": "HTMLView",
      "description": "",
      "description_tooltip": null,
      "layout": "IPY_MODEL_4bdaea927fb44396b9eb9b0252585534",
      "placeholder": "​",
      "style": "IPY_MODEL_e443665b98bf49b1b56752f33fdd0b38",
      "value": " 2.35M/2.35M [00:00&lt;00:00, 32.0MB/s]"
     }
    },
    "978c6e85a0f54886a0ae839834662df3": {
     "model_module": "@jupyter-widgets/controls",
     "model_module_version": "1.5.0",
     "model_name": "DescriptionStyleModel",
     "state": {
      "_model_module": "@jupyter-widgets/controls",
      "_model_module_version": "1.5.0",
      "_model_name": "DescriptionStyleModel",
      "_view_count": null,
      "_view_module": "@jupyter-widgets/base",
      "_view_module_version": "1.2.0",
      "_view_name": "StyleView",
      "description_width": ""
     }
    },
    "9f2806f479bb4859940a09204d4f0a3f": {
     "model_module": "@jupyter-widgets/base",
     "model_module_version": "1.2.0",
     "model_name": "LayoutModel",
     "state": {
      "_model_module": "@jupyter-widgets/base",
      "_model_module_version": "1.2.0",
      "_model_name": "LayoutModel",
      "_view_count": null,
      "_view_module": "@jupyter-widgets/base",
      "_view_module_version": "1.2.0",
      "_view_name": "LayoutView",
      "align_content": null,
      "align_items": null,
      "align_self": null,
      "border": null,
      "bottom": null,
      "display": null,
      "flex": null,
      "flex_flow": null,
      "grid_area": null,
      "grid_auto_columns": null,
      "grid_auto_flow": null,
      "grid_auto_rows": null,
      "grid_column": null,
      "grid_gap": null,
      "grid_row": null,
      "grid_template_areas": null,
      "grid_template_columns": null,
      "grid_template_rows": null,
      "height": null,
      "justify_content": null,
      "justify_items": null,
      "left": null,
      "margin": null,
      "max_height": null,
      "max_width": null,
      "min_height": null,
      "min_width": null,
      "object_fit": null,
      "object_position": null,
      "order": null,
      "overflow": null,
      "overflow_x": null,
      "overflow_y": null,
      "padding": null,
      "right": null,
      "top": null,
      "visibility": null,
      "width": null
     }
    },
    "a2af753e26734e2ca47bfd4ec22a8d23": {
     "model_module": "@jupyter-widgets/controls",
     "model_module_version": "1.5.0",
     "model_name": "HTMLModel",
     "state": {
      "_dom_classes": [],
      "_model_module": "@jupyter-widgets/controls",
      "_model_module_version": "1.5.0",
      "_model_name": "HTMLModel",
      "_view_count": null,
      "_view_module": "@jupyter-widgets/controls",
      "_view_module_version": "1.5.0",
      "_view_name": "HTMLView",
      "description": "",
      "description_tooltip": null,
      "layout": "IPY_MODEL_e598b06dc67943f69ee1f9487c778b40",
      "placeholder": "​",
      "style": "IPY_MODEL_978c6e85a0f54886a0ae839834662df3",
      "value": " 1/1 [00:00&lt;00:00, 36.67it/s]"
     }
    },
    "af181c97b4504533b92ae4f5670a0b0c": {
     "model_module": "@jupyter-widgets/controls",
     "model_module_version": "1.5.0",
     "model_name": "ProgressStyleModel",
     "state": {
      "_model_module": "@jupyter-widgets/controls",
      "_model_module_version": "1.5.0",
      "_model_name": "ProgressStyleModel",
      "_view_count": null,
      "_view_module": "@jupyter-widgets/base",
      "_view_module_version": "1.2.0",
      "_view_name": "StyleView",
      "bar_color": null,
      "description_width": ""
     }
    },
    "b06237b8f55b4411a79dc72a30841a82": {
     "model_module": "@jupyter-widgets/controls",
     "model_module_version": "1.5.0",
     "model_name": "FloatProgressModel",
     "state": {
      "_dom_classes": [],
      "_model_module": "@jupyter-widgets/controls",
      "_model_module_version": "1.5.0",
      "_model_name": "FloatProgressModel",
      "_view_count": null,
      "_view_module": "@jupyter-widgets/controls",
      "_view_module_version": "1.5.0",
      "_view_name": "ProgressView",
      "bar_style": "success",
      "description": "",
      "description_tooltip": null,
      "layout": "IPY_MODEL_0a747be8a0804e709d127c0da627a920",
      "max": 52,
      "min": 0,
      "orientation": "horizontal",
      "style": "IPY_MODEL_30f4c6a886a445daa0e30c6b542bcdbe",
      "value": 52
     }
    },
    "b104c8f100a14e5da87eeb5947ab32c7": {
     "model_module": "@jupyter-widgets/base",
     "model_module_version": "1.2.0",
     "model_name": "LayoutModel",
     "state": {
      "_model_module": "@jupyter-widgets/base",
      "_model_module_version": "1.2.0",
      "_model_name": "LayoutModel",
      "_view_count": null,
      "_view_module": "@jupyter-widgets/base",
      "_view_module_version": "1.2.0",
      "_view_name": "LayoutView",
      "align_content": null,
      "align_items": null,
      "align_self": null,
      "border": null,
      "bottom": null,
      "display": null,
      "flex": null,
      "flex_flow": null,
      "grid_area": null,
      "grid_auto_columns": null,
      "grid_auto_flow": null,
      "grid_auto_rows": null,
      "grid_column": null,
      "grid_gap": null,
      "grid_row": null,
      "grid_template_areas": null,
      "grid_template_columns": null,
      "grid_template_rows": null,
      "height": null,
      "justify_content": null,
      "justify_items": null,
      "left": null,
      "margin": null,
      "max_height": null,
      "max_width": null,
      "min_height": null,
      "min_width": null,
      "object_fit": null,
      "object_position": null,
      "order": null,
      "overflow": null,
      "overflow_x": null,
      "overflow_y": null,
      "padding": null,
      "right": null,
      "top": null,
      "visibility": null,
      "width": null
     }
    },
    "b8beff4943624e9bb13b0fb7de52d86c": {
     "model_module": "@jupyter-widgets/controls",
     "model_module_version": "1.5.0",
     "model_name": "DescriptionStyleModel",
     "state": {
      "_model_module": "@jupyter-widgets/controls",
      "_model_module_version": "1.5.0",
      "_model_name": "DescriptionStyleModel",
      "_view_count": null,
      "_view_module": "@jupyter-widgets/base",
      "_view_module_version": "1.2.0",
      "_view_name": "StyleView",
      "description_width": ""
     }
    },
    "bc11273e506a4a30bf24c952c1fa50e4": {
     "model_module": "@jupyter-widgets/controls",
     "model_module_version": "1.5.0",
     "model_name": "HBoxModel",
     "state": {
      "_dom_classes": [],
      "_model_module": "@jupyter-widgets/controls",
      "_model_module_version": "1.5.0",
      "_model_name": "HBoxModel",
      "_view_count": null,
      "_view_module": "@jupyter-widgets/controls",
      "_view_module_version": "1.5.0",
      "_view_name": "HBoxView",
      "box_style": "",
      "children": [
       "IPY_MODEL_31750358c82740eda87093572fcfb561",
       "IPY_MODEL_c7b256b0067247feac9cfe25b3883046",
       "IPY_MODEL_058d6926a951473aa27cfbdee59e40a6"
      ],
      "layout": "IPY_MODEL_1740e1923a1747fdb62342d12aff48c7"
     }
    },
    "bc394068fcc246efbc9c66d0f61ab9be": {
     "model_module": "@jupyter-widgets/base",
     "model_module_version": "1.2.0",
     "model_name": "LayoutModel",
     "state": {
      "_model_module": "@jupyter-widgets/base",
      "_model_module_version": "1.2.0",
      "_model_name": "LayoutModel",
      "_view_count": null,
      "_view_module": "@jupyter-widgets/base",
      "_view_module_version": "1.2.0",
      "_view_name": "LayoutView",
      "align_content": null,
      "align_items": null,
      "align_self": null,
      "border": null,
      "bottom": null,
      "display": null,
      "flex": null,
      "flex_flow": null,
      "grid_area": null,
      "grid_auto_columns": null,
      "grid_auto_flow": null,
      "grid_auto_rows": null,
      "grid_column": null,
      "grid_gap": null,
      "grid_row": null,
      "grid_template_areas": null,
      "grid_template_columns": null,
      "grid_template_rows": null,
      "height": null,
      "justify_content": null,
      "justify_items": null,
      "left": null,
      "margin": null,
      "max_height": null,
      "max_width": null,
      "min_height": null,
      "min_width": null,
      "object_fit": null,
      "object_position": null,
      "order": null,
      "overflow": null,
      "overflow_x": null,
      "overflow_y": null,
      "padding": null,
      "right": null,
      "top": null,
      "visibility": null,
      "width": null
     }
    },
    "c5ac3d1963c94a109f86af74ed01af03": {
     "model_module": "@jupyter-widgets/controls",
     "model_module_version": "1.5.0",
     "model_name": "DescriptionStyleModel",
     "state": {
      "_model_module": "@jupyter-widgets/controls",
      "_model_module_version": "1.5.0",
      "_model_name": "DescriptionStyleModel",
      "_view_count": null,
      "_view_module": "@jupyter-widgets/base",
      "_view_module_version": "1.2.0",
      "_view_name": "StyleView",
      "description_width": ""
     }
    },
    "c7b256b0067247feac9cfe25b3883046": {
     "model_module": "@jupyter-widgets/controls",
     "model_module_version": "1.5.0",
     "model_name": "FloatProgressModel",
     "state": {
      "_dom_classes": [],
      "_model_module": "@jupyter-widgets/controls",
      "_model_module_version": "1.5.0",
      "_model_name": "FloatProgressModel",
      "_view_count": null,
      "_view_module": "@jupyter-widgets/controls",
      "_view_module_version": "1.5.0",
      "_view_name": "ProgressView",
      "bar_style": "success",
      "description": "",
      "description_tooltip": null,
      "layout": "IPY_MODEL_795573faf2b747b8a8d9763e73ed615d",
      "max": 580,
      "min": 0,
      "orientation": "horizontal",
      "style": "IPY_MODEL_61450ac5ba0d4d979f5fcdce1e41e73a",
      "value": 580
     }
    },
    "c9770b62368949d1af40829ad11e5ee2": {
     "model_module": "@jupyter-widgets/base",
     "model_module_version": "1.2.0",
     "model_name": "LayoutModel",
     "state": {
      "_model_module": "@jupyter-widgets/base",
      "_model_module_version": "1.2.0",
      "_model_name": "LayoutModel",
      "_view_count": null,
      "_view_module": "@jupyter-widgets/base",
      "_view_module_version": "1.2.0",
      "_view_name": "LayoutView",
      "align_content": null,
      "align_items": null,
      "align_self": null,
      "border": null,
      "bottom": null,
      "display": null,
      "flex": null,
      "flex_flow": null,
      "grid_area": null,
      "grid_auto_columns": null,
      "grid_auto_flow": null,
      "grid_auto_rows": null,
      "grid_column": null,
      "grid_gap": null,
      "grid_row": null,
      "grid_template_areas": null,
      "grid_template_columns": null,
      "grid_template_rows": null,
      "height": null,
      "justify_content": null,
      "justify_items": null,
      "left": null,
      "margin": null,
      "max_height": null,
      "max_width": null,
      "min_height": null,
      "min_width": null,
      "object_fit": null,
      "object_position": null,
      "order": null,
      "overflow": null,
      "overflow_x": null,
      "overflow_y": null,
      "padding": null,
      "right": null,
      "top": null,
      "visibility": null,
      "width": null
     }
    },
    "cbbb5d7137284e228b6b6e222b669a17": {
     "model_module": "@jupyter-widgets/controls",
     "model_module_version": "1.5.0",
     "model_name": "HTMLModel",
     "state": {
      "_dom_classes": [],
      "_model_module": "@jupyter-widgets/controls",
      "_model_module_version": "1.5.0",
      "_model_name": "HTMLModel",
      "_view_count": null,
      "_view_module": "@jupyter-widgets/controls",
      "_view_module_version": "1.5.0",
      "_view_name": "HTMLView",
      "description": "",
      "description_tooltip": null,
      "layout": "IPY_MODEL_e4f44dd2dada41fdac6ee5ba2a634038",
      "placeholder": "​",
      "style": "IPY_MODEL_2aa10b191e5a4b4b8ac4dc688e69c66a",
      "value": " 52.0/52.0 [00:00&lt;00:00, 1.94kB/s]"
     }
    },
    "ce39a778d4ba4311892c9f1ddc19bc59": {
     "model_module": "@jupyter-widgets/base",
     "model_module_version": "1.2.0",
     "model_name": "LayoutModel",
     "state": {
      "_model_module": "@jupyter-widgets/base",
      "_model_module_version": "1.2.0",
      "_model_name": "LayoutModel",
      "_view_count": null,
      "_view_module": "@jupyter-widgets/base",
      "_view_module_version": "1.2.0",
      "_view_name": "LayoutView",
      "align_content": null,
      "align_items": null,
      "align_self": null,
      "border": null,
      "bottom": null,
      "display": null,
      "flex": null,
      "flex_flow": null,
      "grid_area": null,
      "grid_auto_columns": null,
      "grid_auto_flow": null,
      "grid_auto_rows": null,
      "grid_column": null,
      "grid_gap": null,
      "grid_row": null,
      "grid_template_areas": null,
      "grid_template_columns": null,
      "grid_template_rows": null,
      "height": null,
      "justify_content": null,
      "justify_items": null,
      "left": null,
      "margin": null,
      "max_height": null,
      "max_width": null,
      "min_height": null,
      "min_width": null,
      "object_fit": null,
      "object_position": null,
      "order": null,
      "overflow": null,
      "overflow_x": null,
      "overflow_y": null,
      "padding": null,
      "right": null,
      "top": null,
      "visibility": null,
      "width": null
     }
    },
    "ceb6f8474254400fb757882d6fd645b6": {
     "model_module": "@jupyter-widgets/controls",
     "model_module_version": "1.5.0",
     "model_name": "HBoxModel",
     "state": {
      "_dom_classes": [],
      "_model_module": "@jupyter-widgets/controls",
      "_model_module_version": "1.5.0",
      "_model_name": "HBoxModel",
      "_view_count": null,
      "_view_module": "@jupyter-widgets/controls",
      "_view_module_version": "1.5.0",
      "_view_name": "HBoxView",
      "box_style": "",
      "children": [
       "IPY_MODEL_d72781fec911447694f91204b71b3a40",
       "IPY_MODEL_1d02a29b9203454a8bc90192bfb7bb9e",
       "IPY_MODEL_41fdc5525ed94a0c9b85274a275c1520"
      ],
      "layout": "IPY_MODEL_55c05f2a204a4c36b211383fa498e17c"
     }
    },
    "d08ce910e7d94c66b8a23eaf5301ec0a": {
     "model_module": "@jupyter-widgets/base",
     "model_module_version": "1.2.0",
     "model_name": "LayoutModel",
     "state": {
      "_model_module": "@jupyter-widgets/base",
      "_model_module_version": "1.2.0",
      "_model_name": "LayoutModel",
      "_view_count": null,
      "_view_module": "@jupyter-widgets/base",
      "_view_module_version": "1.2.0",
      "_view_name": "LayoutView",
      "align_content": null,
      "align_items": null,
      "align_self": null,
      "border": null,
      "bottom": null,
      "display": null,
      "flex": null,
      "flex_flow": null,
      "grid_area": null,
      "grid_auto_columns": null,
      "grid_auto_flow": null,
      "grid_auto_rows": null,
      "grid_column": null,
      "grid_gap": null,
      "grid_row": null,
      "grid_template_areas": null,
      "grid_template_columns": null,
      "grid_template_rows": null,
      "height": null,
      "justify_content": null,
      "justify_items": null,
      "left": null,
      "margin": null,
      "max_height": null,
      "max_width": null,
      "min_height": null,
      "min_width": null,
      "object_fit": null,
      "object_position": null,
      "order": null,
      "overflow": null,
      "overflow_x": null,
      "overflow_y": null,
      "padding": null,
      "right": null,
      "top": null,
      "visibility": null,
      "width": null
     }
    },
    "d332b88cb993479d81e491e2e6c0e5ec": {
     "model_module": "@jupyter-widgets/base",
     "model_module_version": "1.2.0",
     "model_name": "LayoutModel",
     "state": {
      "_model_module": "@jupyter-widgets/base",
      "_model_module_version": "1.2.0",
      "_model_name": "LayoutModel",
      "_view_count": null,
      "_view_module": "@jupyter-widgets/base",
      "_view_module_version": "1.2.0",
      "_view_name": "LayoutView",
      "align_content": null,
      "align_items": null,
      "align_self": null,
      "border": null,
      "bottom": null,
      "display": null,
      "flex": null,
      "flex_flow": null,
      "grid_area": null,
      "grid_auto_columns": null,
      "grid_auto_flow": null,
      "grid_auto_rows": null,
      "grid_column": null,
      "grid_gap": null,
      "grid_row": null,
      "grid_template_areas": null,
      "grid_template_columns": null,
      "grid_template_rows": null,
      "height": null,
      "justify_content": null,
      "justify_items": null,
      "left": null,
      "margin": null,
      "max_height": null,
      "max_width": null,
      "min_height": null,
      "min_width": null,
      "object_fit": null,
      "object_position": null,
      "order": null,
      "overflow": null,
      "overflow_x": null,
      "overflow_y": null,
      "padding": null,
      "right": null,
      "top": null,
      "visibility": null,
      "width": null
     }
    },
    "d51535f57f2a4755b3c57b9e14cb52e8": {
     "model_module": "@jupyter-widgets/controls",
     "model_module_version": "1.5.0",
     "model_name": "DescriptionStyleModel",
     "state": {
      "_model_module": "@jupyter-widgets/controls",
      "_model_module_version": "1.5.0",
      "_model_name": "DescriptionStyleModel",
      "_view_count": null,
      "_view_module": "@jupyter-widgets/base",
      "_view_module_version": "1.2.0",
      "_view_name": "StyleView",
      "description_width": ""
     }
    },
    "d72781fec911447694f91204b71b3a40": {
     "model_module": "@jupyter-widgets/controls",
     "model_module_version": "1.5.0",
     "model_name": "HTMLModel",
     "state": {
      "_dom_classes": [],
      "_model_module": "@jupyter-widgets/controls",
      "_model_module_version": "1.5.0",
      "_model_name": "HTMLModel",
      "_view_count": null,
      "_view_module": "@jupyter-widgets/controls",
      "_view_module_version": "1.5.0",
      "_view_name": "HTMLView",
      "description": "",
      "description_tooltip": null,
      "layout": "IPY_MODEL_1fd78e14d8c943299ba653c26d80ca81",
      "placeholder": "​",
      "style": "IPY_MODEL_c5ac3d1963c94a109f86af74ed01af03",
      "value": "100%"
     }
    },
    "df32cf3d0ae34cdf9013b16b3ca74905": {
     "model_module": "@jupyter-widgets/controls",
     "model_module_version": "1.5.0",
     "model_name": "HBoxModel",
     "state": {
      "_dom_classes": [],
      "_model_module": "@jupyter-widgets/controls",
      "_model_module_version": "1.5.0",
      "_model_name": "HBoxModel",
      "_view_count": null,
      "_view_module": "@jupyter-widgets/controls",
      "_view_module_version": "1.5.0",
      "_view_name": "HBoxView",
      "box_style": "",
      "children": [
       "IPY_MODEL_329604bb15df4c9b89491c32a544e611",
       "IPY_MODEL_519f090ab2a44ec4ac2aedb5e744dc00",
       "IPY_MODEL_974872c8bf454f43be6f3bf3ca778134"
      ],
      "layout": "IPY_MODEL_94ed7eb5a72843119c8fd830cf792a0b"
     }
    },
    "e443665b98bf49b1b56752f33fdd0b38": {
     "model_module": "@jupyter-widgets/controls",
     "model_module_version": "1.5.0",
     "model_name": "DescriptionStyleModel",
     "state": {
      "_model_module": "@jupyter-widgets/controls",
      "_model_module_version": "1.5.0",
      "_model_name": "DescriptionStyleModel",
      "_view_count": null,
      "_view_module": "@jupyter-widgets/base",
      "_view_module_version": "1.2.0",
      "_view_name": "StyleView",
      "description_width": ""
     }
    },
    "e4f44dd2dada41fdac6ee5ba2a634038": {
     "model_module": "@jupyter-widgets/base",
     "model_module_version": "1.2.0",
     "model_name": "LayoutModel",
     "state": {
      "_model_module": "@jupyter-widgets/base",
      "_model_module_version": "1.2.0",
      "_model_name": "LayoutModel",
      "_view_count": null,
      "_view_module": "@jupyter-widgets/base",
      "_view_module_version": "1.2.0",
      "_view_name": "LayoutView",
      "align_content": null,
      "align_items": null,
      "align_self": null,
      "border": null,
      "bottom": null,
      "display": null,
      "flex": null,
      "flex_flow": null,
      "grid_area": null,
      "grid_auto_columns": null,
      "grid_auto_flow": null,
      "grid_auto_rows": null,
      "grid_column": null,
      "grid_gap": null,
      "grid_row": null,
      "grid_template_areas": null,
      "grid_template_columns": null,
      "grid_template_rows": null,
      "height": null,
      "justify_content": null,
      "justify_items": null,
      "left": null,
      "margin": null,
      "max_height": null,
      "max_width": null,
      "min_height": null,
      "min_width": null,
      "object_fit": null,
      "object_position": null,
      "order": null,
      "overflow": null,
      "overflow_x": null,
      "overflow_y": null,
      "padding": null,
      "right": null,
      "top": null,
      "visibility": null,
      "width": null
     }
    },
    "e598b06dc67943f69ee1f9487c778b40": {
     "model_module": "@jupyter-widgets/base",
     "model_module_version": "1.2.0",
     "model_name": "LayoutModel",
     "state": {
      "_model_module": "@jupyter-widgets/base",
      "_model_module_version": "1.2.0",
      "_model_name": "LayoutModel",
      "_view_count": null,
      "_view_module": "@jupyter-widgets/base",
      "_view_module_version": "1.2.0",
      "_view_name": "LayoutView",
      "align_content": null,
      "align_items": null,
      "align_self": null,
      "border": null,
      "bottom": null,
      "display": null,
      "flex": null,
      "flex_flow": null,
      "grid_area": null,
      "grid_auto_columns": null,
      "grid_auto_flow": null,
      "grid_auto_rows": null,
      "grid_column": null,
      "grid_gap": null,
      "grid_row": null,
      "grid_template_areas": null,
      "grid_template_columns": null,
      "grid_template_rows": null,
      "height": null,
      "justify_content": null,
      "justify_items": null,
      "left": null,
      "margin": null,
      "max_height": null,
      "max_width": null,
      "min_height": null,
      "min_width": null,
      "object_fit": null,
      "object_position": null,
      "order": null,
      "overflow": null,
      "overflow_x": null,
      "overflow_y": null,
      "padding": null,
      "right": null,
      "top": null,
      "visibility": null,
      "width": null
     }
    },
    "e71a064de7cf4cde97097a4b6f4a8a46": {
     "model_module": "@jupyter-widgets/controls",
     "model_module_version": "1.5.0",
     "model_name": "ProgressStyleModel",
     "state": {
      "_model_module": "@jupyter-widgets/controls",
      "_model_module_version": "1.5.0",
      "_model_name": "ProgressStyleModel",
      "_view_count": null,
      "_view_module": "@jupyter-widgets/base",
      "_view_module_version": "1.2.0",
      "_view_name": "StyleView",
      "bar_color": null,
      "description_width": ""
     }
    },
    "e7b9ccb9a6fd4e41acad9a17f7cc6b4f": {
     "model_module": "@jupyter-widgets/controls",
     "model_module_version": "1.5.0",
     "model_name": "HBoxModel",
     "state": {
      "_dom_classes": [],
      "_model_module": "@jupyter-widgets/controls",
      "_model_module_version": "1.5.0",
      "_model_name": "HBoxModel",
      "_view_count": null,
      "_view_module": "@jupyter-widgets/controls",
      "_view_module_version": "1.5.0",
      "_view_name": "HBoxView",
      "box_style": "",
      "children": [
       "IPY_MODEL_4bc43b9cb13849a28854f60c26c4a3a0",
       "IPY_MODEL_b06237b8f55b4411a79dc72a30841a82",
       "IPY_MODEL_cbbb5d7137284e228b6b6e222b669a17"
      ],
      "layout": "IPY_MODEL_e8a74fa8ac704fc9b7cc061ce9af9804"
     }
    },
    "e8469981bea64e899b6f24f19647ddbd": {
     "model_module": "@jupyter-widgets/controls",
     "model_module_version": "1.5.0",
     "model_name": "ProgressStyleModel",
     "state": {
      "_model_module": "@jupyter-widgets/controls",
      "_model_module_version": "1.5.0",
      "_model_name": "ProgressStyleModel",
      "_view_count": null,
      "_view_module": "@jupyter-widgets/base",
      "_view_module_version": "1.2.0",
      "_view_name": "StyleView",
      "bar_color": null,
      "description_width": ""
     }
    },
    "e8a74fa8ac704fc9b7cc061ce9af9804": {
     "model_module": "@jupyter-widgets/base",
     "model_module_version": "1.2.0",
     "model_name": "LayoutModel",
     "state": {
      "_model_module": "@jupyter-widgets/base",
      "_model_module_version": "1.2.0",
      "_model_name": "LayoutModel",
      "_view_count": null,
      "_view_module": "@jupyter-widgets/base",
      "_view_module_version": "1.2.0",
      "_view_name": "LayoutView",
      "align_content": null,
      "align_items": null,
      "align_self": null,
      "border": null,
      "bottom": null,
      "display": null,
      "flex": null,
      "flex_flow": null,
      "grid_area": null,
      "grid_auto_columns": null,
      "grid_auto_flow": null,
      "grid_auto_rows": null,
      "grid_column": null,
      "grid_gap": null,
      "grid_row": null,
      "grid_template_areas": null,
      "grid_template_columns": null,
      "grid_template_rows": null,
      "height": null,
      "justify_content": null,
      "justify_items": null,
      "left": null,
      "margin": null,
      "max_height": null,
      "max_width": null,
      "min_height": null,
      "min_width": null,
      "object_fit": null,
      "object_position": null,
      "order": null,
      "overflow": null,
      "overflow_x": null,
      "overflow_y": null,
      "padding": null,
      "right": null,
      "top": null,
      "visibility": null,
      "width": null
     }
    },
    "f39debc94cbd45acbc023fbc8459b704": {
     "model_module": "@jupyter-widgets/base",
     "model_module_version": "1.2.0",
     "model_name": "LayoutModel",
     "state": {
      "_model_module": "@jupyter-widgets/base",
      "_model_module_version": "1.2.0",
      "_model_name": "LayoutModel",
      "_view_count": null,
      "_view_module": "@jupyter-widgets/base",
      "_view_module_version": "1.2.0",
      "_view_name": "LayoutView",
      "align_content": null,
      "align_items": null,
      "align_self": null,
      "border": null,
      "bottom": null,
      "display": null,
      "flex": null,
      "flex_flow": null,
      "grid_area": null,
      "grid_auto_columns": null,
      "grid_auto_flow": null,
      "grid_auto_rows": null,
      "grid_column": null,
      "grid_gap": null,
      "grid_row": null,
      "grid_template_areas": null,
      "grid_template_columns": null,
      "grid_template_rows": null,
      "height": null,
      "justify_content": null,
      "justify_items": null,
      "left": null,
      "margin": null,
      "max_height": null,
      "max_width": null,
      "min_height": null,
      "min_width": null,
      "object_fit": null,
      "object_position": null,
      "order": null,
      "overflow": null,
      "overflow_x": null,
      "overflow_y": null,
      "padding": null,
      "right": null,
      "top": null,
      "visibility": null,
      "width": null
     }
    },
    "f536e9a6440e4b7c85c46a419676a011": {
     "model_module": "@jupyter-widgets/controls",
     "model_module_version": "1.5.0",
     "model_name": "HTMLModel",
     "state": {
      "_dom_classes": [],
      "_model_module": "@jupyter-widgets/controls",
      "_model_module_version": "1.5.0",
      "_model_name": "HTMLModel",
      "_view_count": null,
      "_view_module": "@jupyter-widgets/controls",
      "_view_module_version": "1.5.0",
      "_view_name": "HTMLView",
      "description": "",
      "description_tooltip": null,
      "layout": "IPY_MODEL_306089e45aea4fe8b1aaba62384af052",
      "placeholder": "​",
      "style": "IPY_MODEL_932819908a1d4eb6b02f65a46a11ce04",
      "value": " 833M/833M [00:15&lt;00:00, 58.6MB/s]"
     }
    },
    "f5d1c8760bcf4f81bd3173c1725f4f93": {
     "model_module": "@jupyter-widgets/controls",
     "model_module_version": "1.5.0",
     "model_name": "HTMLModel",
     "state": {
      "_dom_classes": [],
      "_model_module": "@jupyter-widgets/controls",
      "_model_module_version": "1.5.0",
      "_model_name": "HTMLModel",
      "_view_count": null,
      "_view_module": "@jupyter-widgets/controls",
      "_view_module_version": "1.5.0",
      "_view_name": "HTMLView",
      "description": "",
      "description_tooltip": null,
      "layout": "IPY_MODEL_bc394068fcc246efbc9c66d0f61ab9be",
      "placeholder": "​",
      "style": "IPY_MODEL_0a2f85f8a90942889fe642f54ae9e1c2",
      "value": "100%"
     }
    }
   }
  }
 },
 "nbformat": 4,
 "nbformat_minor": 4
}
