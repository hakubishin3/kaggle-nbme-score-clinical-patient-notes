{
 "cells": [
  {
   "cell_type": "code",
   "execution_count": null,
   "id": "explicit-ontario",
   "metadata": {},
   "outputs": [],
   "source": [
    "import numpy as np\n",
    "import pandas as pd\n",
    "import matplotlib.pyplot as plt\n",
    "from pathlib import Path\n",
    "from IPython.display import display\n",
    "\n",
    "pd.set_option(\"max_rows\", 100)\n",
    "pd.set_option(\"max_columns\", 100)"
   ]
  },
  {
   "cell_type": "code",
   "execution_count": null,
   "id": "contrary-verse",
   "metadata": {},
   "outputs": [],
   "source": [
    "input_dir = Path(\"../input/nbme-score-clinical-patient-notes/\")"
   ]
  },
  {
   "cell_type": "code",
   "execution_count": null,
   "id": "stopped-logic",
   "metadata": {},
   "outputs": [],
   "source": [
    "train = pd.read_csv(input_dir / \"train.csv\")\n",
    "test = pd.read_csv(input_dir / \"test.csv\")\n",
    "features = pd.read_csv(input_dir / \"features.csv\")\n",
    "patient_notes = pd.read_csv(input_dir / \"patient_notes.csv\")\n",
    "sample_submission = pd.read_csv(input_dir / \"sample_submission.csv\")"
   ]
  },
  {
   "cell_type": "markdown",
   "id": "vertical-transcription",
   "metadata": {},
   "source": [
    "## patient_notes"
   ]
  },
  {
   "cell_type": "markdown",
   "id": "olympic-layer",
   "metadata": {},
   "source": [
    "約 40,000 件の患者ノートの履歴部分のコレクション。これらのうち、特徴が注釈されているのはサブセットのみです。アノテーションのないノートに教師なし学習技術を適用することができます。テストセットの患者ノートは、このファイルの公開バージョンには含まれていません。\n",
    "- pn_num - それぞれの患者のノートに固有の識別子\n",
    "- case_num - 患者のノートが表す臨床例の識別子\n",
    "- pn_history - テスト受験者が記録した症例のテキスト"
   ]
  },
  {
   "cell_type": "code",
   "execution_count": null,
   "id": "approved-recipe",
   "metadata": {},
   "outputs": [],
   "source": [
    "patient_notes.head()"
   ]
  },
  {
   "cell_type": "code",
   "execution_count": null,
   "id": "talented-sussex",
   "metadata": {},
   "outputs": [],
   "source": [
    "patient_notes.shape"
   ]
  },
  {
   "cell_type": "code",
   "execution_count": null,
   "id": "legendary-salvation",
   "metadata": {},
   "outputs": [],
   "source": [
    "patient_notes.isnull().sum()"
   ]
  },
  {
   "cell_type": "code",
   "execution_count": null,
   "id": "specialized-infection",
   "metadata": {},
   "outputs": [],
   "source": [
    "patient_notes.pn_num.value_counts().sort_index()"
   ]
  },
  {
   "cell_type": "code",
   "execution_count": null,
   "id": "egyptian-pressure",
   "metadata": {},
   "outputs": [],
   "source": [
    "patient_notes.case_num.value_counts().sort_index()"
   ]
  },
  {
   "cell_type": "code",
   "execution_count": null,
   "id": "strange-supervisor",
   "metadata": {},
   "outputs": [],
   "source": [
    "patient_notes.iloc[0][\"pn_history\"]"
   ]
  },
  {
   "cell_type": "markdown",
   "id": "musical-simple",
   "metadata": {},
   "source": [
    "## features"
   ]
  },
  {
   "cell_type": "markdown",
   "id": "vital-taxation",
   "metadata": {},
   "source": [
    "各臨床例の特徴(またはキーコンセプト)のルビ\n",
    "- feature_num - それぞれの特徴を表す固有の識別子\n",
    "- case_num - それぞれの症例に固有の識別子\n",
    "- feature_text - その特徴の説明文"
   ]
  },
  {
   "cell_type": "code",
   "execution_count": null,
   "id": "developmental-preserve",
   "metadata": {},
   "outputs": [],
   "source": [
    "features.head()"
   ]
  },
  {
   "cell_type": "code",
   "execution_count": null,
   "id": "better-scratch",
   "metadata": {},
   "outputs": [],
   "source": [
    "features.shape"
   ]
  },
  {
   "cell_type": "code",
   "execution_count": null,
   "id": "secure-procedure",
   "metadata": {},
   "outputs": [],
   "source": [
    "features.isnull().sum()"
   ]
  },
  {
   "cell_type": "code",
   "execution_count": null,
   "id": "handmade-pressure",
   "metadata": {},
   "outputs": [],
   "source": [
    "features.feature_num.value_counts().sort_index()"
   ]
  },
  {
   "cell_type": "code",
   "execution_count": null,
   "id": "atomic-commodity",
   "metadata": {},
   "outputs": [],
   "source": [
    "features.case_num.value_counts().sort_index()"
   ]
  },
  {
   "cell_type": "code",
   "execution_count": null,
   "id": "valuable-omaha",
   "metadata": {},
   "outputs": [],
   "source": [
    "features.iloc[0][\"feature_text\"]"
   ]
  },
  {
   "cell_type": "markdown",
   "id": "genetic-referral",
   "metadata": {},
   "source": [
    "## train"
   ]
  },
  {
   "cell_type": "markdown",
   "id": "great-lyric",
   "metadata": {},
   "source": [
    "1000件の患者のメモのうち、10件のケースごとに100件ずつの特徴の注釈\n",
    "- id - 各患者のメモと特徴のペアに固有の識別子\n",
    "- case_num - この患者のメモが属する症例\n",
    "- pn_num - この行でアノテーションされた患者のメモ\n",
    "- feature_num - この行に表示されている特徴\n",
    "- annotation - 患者のメモの中にある特徴を示すテキスト。1つの患者メモの中で、1つの特徴が複数回示されることがあります\n",
    "- location - ノートの中の各注釈の位置を示す文字列です。1つの注釈を表現するために複数のスパンが必要な場合があり、その場合、スパンはセミコロン;で区切られます"
   ]
  },
  {
   "cell_type": "code",
   "execution_count": null,
   "id": "reported-classification",
   "metadata": {},
   "outputs": [],
   "source": [
    "train.head()"
   ]
  },
  {
   "cell_type": "code",
   "execution_count": null,
   "id": "supported-orbit",
   "metadata": {},
   "outputs": [],
   "source": [
    "train.shape"
   ]
  },
  {
   "cell_type": "code",
   "execution_count": null,
   "id": "asian-secretary",
   "metadata": {},
   "outputs": [],
   "source": [
    "train.isnull().sum()"
   ]
  },
  {
   "cell_type": "code",
   "execution_count": null,
   "id": "handy-brake",
   "metadata": {},
   "outputs": [],
   "source": [
    "train.iloc[0].values"
   ]
  },
  {
   "cell_type": "code",
   "execution_count": null,
   "id": "organizational-yield",
   "metadata": {},
   "outputs": [],
   "source": [
    "train.query(\"case_num == 0 and feature_num == 0\").head()"
   ]
  },
  {
   "cell_type": "code",
   "execution_count": null,
   "id": "exciting-formula",
   "metadata": {},
   "outputs": [],
   "source": [
    "features.query(\"case_num == 0 and feature_num == 0\")"
   ]
  },
  {
   "cell_type": "code",
   "execution_count": null,
   "id": "upper-respondent",
   "metadata": {},
   "outputs": [],
   "source": [
    "patient_notes.query(\"pn_num == 16\").pn_history.values[0]"
   ]
  },
  {
   "cell_type": "markdown",
   "id": "happy-championship",
   "metadata": {},
   "source": [
    "HPI: 17yo M presents with palpitations. Patient reports 3-4 months of intermittent episodes of \"heart beating/pounding out of my chest.\" 2 days ago during a soccer game had an episode, but this time had chest pressure and felt as if he were going to pass out (did not lose conciousness). Of note patient endorses abusing adderall, primarily to study (1-3 times per week). Before recent soccer game, took adderrall night before and morning of game. Denies shortness of breath, diaphoresis, fevers, chills, headache, fatigue, changes in sleep, changes in vision/hearing, abdominal paun, changes in bowel or urinary habits. \\r\\nPMHx: none\\r\\nRx: uses friends adderrall\\r\\nFHx: mom with \"thyroid disease,\" dad with recent heart attcak\\r\\nAll: none\\r\\nImmunizations: up to date\\r\\nSHx: Freshmen in college. Endorses 3-4 drinks 3 nights / week (on weekends), denies tabacco, endorses trying marijuana. Sexually active with girlfriend x 1 year, uses condoms"
   ]
  },
  {
   "cell_type": "code",
   "execution_count": null,
   "id": "gross-three",
   "metadata": {},
   "outputs": [],
   "source": [
    "patient_notes.query(\"pn_num == 16\").pn_history.values[0][696:724]"
   ]
  },
  {
   "cell_type": "markdown",
   "id": "given-present",
   "metadata": {},
   "source": [
    "## test"
   ]
  },
  {
   "cell_type": "code",
   "execution_count": null,
   "id": "conventional-speaker",
   "metadata": {},
   "outputs": [],
   "source": [
    "test.head()"
   ]
  },
  {
   "cell_type": "code",
   "execution_count": null,
   "id": "designing-florence",
   "metadata": {},
   "outputs": [],
   "source": [
    "sample_submission"
   ]
  },
  {
   "cell_type": "code",
   "execution_count": null,
   "id": "recognized-contamination",
   "metadata": {},
   "outputs": [],
   "source": []
  },
  {
   "cell_type": "code",
   "execution_count": null,
   "id": "random-regular",
   "metadata": {},
   "outputs": [],
   "source": []
  },
  {
   "cell_type": "code",
   "execution_count": null,
   "id": "informal-format",
   "metadata": {},
   "outputs": [],
   "source": []
  },
  {
   "cell_type": "code",
   "execution_count": null,
   "id": "confidential-zambia",
   "metadata": {},
   "outputs": [],
   "source": []
  },
  {
   "cell_type": "code",
   "execution_count": null,
   "id": "invisible-appliance",
   "metadata": {},
   "outputs": [],
   "source": []
  },
  {
   "cell_type": "code",
   "execution_count": null,
   "id": "discrete-despite",
   "metadata": {},
   "outputs": [],
   "source": []
  },
  {
   "cell_type": "code",
   "execution_count": null,
   "id": "robust-namibia",
   "metadata": {},
   "outputs": [],
   "source": []
  }
 ],
 "metadata": {
  "kernelspec": {
   "display_name": "Python 3",
   "language": "python",
   "name": "python3"
  },
  "language_info": {
   "codemirror_mode": {
    "name": "ipython",
    "version": 3
   },
   "file_extension": ".py",
   "mimetype": "text/x-python",
   "name": "python",
   "nbconvert_exporter": "python",
   "pygments_lexer": "ipython3",
   "version": "3.7.10"
  }
 },
 "nbformat": 4,
 "nbformat_minor": 5
}
